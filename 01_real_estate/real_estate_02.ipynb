{
 "cells": [
  {
   "cell_type": "markdown",
   "metadata": {},
   "source": [
    "# Исследование объявлений о продаже квартир\n",
    "\n",
    "В вашем распоряжении данные сервиса Яндекс.Недвижимость — архив объявлений о продаже квартир в Санкт-Петербурге и соседних населённых пунктов за несколько лет. Нужно научиться определять рыночную стоимость объектов недвижимости. Ваша задача — установить параметры. Это позволит построить автоматизированную систему: она отследит аномалии и мошенническую деятельность. \n",
    "\n",
    "По каждой квартире на продажу доступны два вида данных. Первые вписаны пользователем, вторые — получены автоматически на основе картографических данных. Например, расстояние до центра, аэропорта, ближайшего парка и водоёма. "
   ]
  },
  {
   "cell_type": "markdown",
   "metadata": {
    "toc": true
   },
   "source": [
    "<h1>Table of Contents<span class=\"tocSkip\"></span></h1>\n",
    "<div class=\"toc\"><ul class=\"toc-item\"><li><span><a href=\"#Откройте-файл-с-данными-и-изучите-общую-информацию.\" data-toc-modified-id=\"Откройте-файл-с-данными-и-изучите-общую-информацию.-1\"><span class=\"toc-item-num\">1&nbsp;&nbsp;</span>Откройте файл с данными и изучите общую информацию.</a></span></li><li><span><a href=\"#Предобработка-данных\" data-toc-modified-id=\"Предобработка-данных-2\"><span class=\"toc-item-num\">2&nbsp;&nbsp;</span>Предобработка данных</a></span><ul class=\"toc-item\"><li><span><a href=\"#Пропущенные-значения-в-столбцах:\" data-toc-modified-id=\"Пропущенные-значения-в-столбцах:-2.1\"><span class=\"toc-item-num\">2.1&nbsp;&nbsp;</span>Пропущенные значения в столбцах:</a></span><ul class=\"toc-item\"><li><span><a href=\"#Определяем,-в-каких-столбцах-есть-пропуски.\" data-toc-modified-id=\"Определяем,-в-каких-столбцах-есть-пропуски.-2.1.1\"><span class=\"toc-item-num\">2.1.1&nbsp;&nbsp;</span>Определяем, в каких столбцах есть пропуски.</a></span></li><li><span><a href=\"#Анализ-пропусков-в-данных:\" data-toc-modified-id=\"Анализ-пропусков-в-данных:-2.1.2\"><span class=\"toc-item-num\">2.1.2&nbsp;&nbsp;</span>Анализ пропусков в данных:</a></span></li></ul></li><li><span><a href=\"#Типы-данных-в-каждом-столбце:\" data-toc-modified-id=\"Типы-данных-в-каждом-столбце:-2.2\"><span class=\"toc-item-num\">2.2&nbsp;&nbsp;</span>Типы данных в каждом столбце:</a></span></li><li><span><a href=\"#Устранение-неявных-дубликатов\" data-toc-modified-id=\"Устранение-неявных-дубликатов-2.3\"><span class=\"toc-item-num\">2.3&nbsp;&nbsp;</span>Устранение неявных дубликатов</a></span></li><li><span><a href=\"#Находим-и-устраняем-редкие-и-выбивающиеся-значения.\" data-toc-modified-id=\"Находим-и-устраняем-редкие-и-выбивающиеся-значения.-2.4\"><span class=\"toc-item-num\">2.4&nbsp;&nbsp;</span>Находим и устраняем редкие и выбивающиеся значения.</a></span></li></ul></li><li><span><a href=\"#Посчитайте-и-добавьте-в-таблицу-новые-столбцы\" data-toc-modified-id=\"Посчитайте-и-добавьте-в-таблицу-новые-столбцы-3\"><span class=\"toc-item-num\">3&nbsp;&nbsp;</span>Посчитайте и добавьте в таблицу новые столбцы</a></span><ul class=\"toc-item\"><li><span><a href=\"#Добавили-в-таблицу-новые-столбцы-со-следующими-параметрами:\" data-toc-modified-id=\"Добавили-в-таблицу-новые-столбцы-со-следующими-параметрами:-3.1\"><span class=\"toc-item-num\">3.1&nbsp;&nbsp;</span>Добавили в таблицу новые столбцы со следующими параметрами:</a></span></li></ul></li><li><span><a href=\"#Исследовательский-анализ-данных\" data-toc-modified-id=\"Исследовательский-анализ-данных-4\"><span class=\"toc-item-num\">4&nbsp;&nbsp;</span>Исследовательский анализ данных</a></span><ul class=\"toc-item\"><li><span><a href=\"#Анализ-данных\" data-toc-modified-id=\"Анализ-данных-4.1\"><span class=\"toc-item-num\">4.1&nbsp;&nbsp;</span>Анализ данных</a></span></li><li><span><a href=\"#Как-быстро-продавались-квартиры-или-сколько-дней-было-размещено-каждое-объявление?\" data-toc-modified-id=\"Как-быстро-продавались-квартиры-или-сколько-дней-было-размещено-каждое-объявление?-4.2\"><span class=\"toc-item-num\">4.2&nbsp;&nbsp;</span>Как быстро продавались квартиры или сколько дней было размещено каждое объявление?</a></span></li><li><span><a href=\"#Определяем-какой-фактор-больше-всего-влияет-на-общую-(полную)-стоимость-объекта.\" data-toc-modified-id=\"Определяем-какой-фактор-больше-всего-влияет-на-общую-(полную)-стоимость-объекта.-4.3\"><span class=\"toc-item-num\">4.3&nbsp;&nbsp;</span>Определяем какой фактор больше всего влияет на общую (полную) стоимость объекта.</a></span></li><li><span><a href=\"#&quot;Cчитаем-среднюю-цену-одного-квадратного-метра-в-10-населённых-пунктах-с-наибольшим-числом-объявлений.-Выделяем-населённые-пункты-с-самой-высокой-и-низкой-стоимостью-квадратного-метра.\" data-toc-modified-id=\"&quot;Cчитаем-среднюю-цену-одного-квадратного-метра-в-10-населённых-пунктах-с-наибольшим-числом-объявлений.-Выделяем-населённые-пункты-с-самой-высокой-и-низкой-стоимостью-квадратного-метра.-4.4\"><span class=\"toc-item-num\">4.4&nbsp;&nbsp;</span>\"Cчитаем среднюю цену одного квадратного метра в 10 населённых пунктах с наибольшим числом объявлений. Выделяем населённые пункты с самой высокой и низкой стоимостью квадратного метра.</a></span></li><li><span><a href=\"#Вычисление-средней-цены-каждого-километра.-Опишите,-как-стоимость-объектов-зависит-от-расстояния-до-центра-города.\" data-toc-modified-id=\"Вычисление-средней-цены-каждого-километра.-Опишите,-как-стоимость-объектов-зависит-от-расстояния-до-центра-города.-4.5\"><span class=\"toc-item-num\">4.5&nbsp;&nbsp;</span>Вычисление средней цены каждого километра. Опишите, как стоимость объектов зависит от расстояния до центра города.</a></span></li></ul></li><li><span><a href=\"#Общий-вывод\" data-toc-modified-id=\"Общий-вывод-5\"><span class=\"toc-item-num\">5&nbsp;&nbsp;</span>Общий вывод</a></span></li></ul></div>"
   ]
  },
  {
   "cell_type": "markdown",
   "metadata": {},
   "source": [
    "### Откройте файл с данными и изучите общую информацию. "
   ]
  },
  {
   "cell_type": "code",
   "execution_count": 1,
   "metadata": {},
   "outputs": [],
   "source": [
    "# импорт библиотек\n",
    "\n",
    "import pandas as pd\n",
    "import seaborn as sns\n",
    "import matplotlib.pyplot as plt"
   ]
  },
  {
   "cell_type": "code",
   "execution_count": 2,
   "metadata": {
    "scrolled": true
   },
   "outputs": [
    {
     "name": "stdout",
     "output_type": "stream",
     "text": [
      "Данные загружены успешно!\n"
     ]
    }
   ],
   "source": [
    "# чтение файла и вывод информации о датафрейме\n",
    "\n",
    "try:\n",
    "    data = pd.read_csv('/datasets/real_estate_data.csv', sep='\\\\t', engine='python', parse_dates=['first_day_exposition'])\n",
    "except:\n",
    "    data = pd.read_csv('https://code.s3.yandex.net/datasets/real_estate_data.csv', sep='\\\\t', engine='python')\n",
    "else:\n",
    "    print('Данные загружены успешно!')"
   ]
  },
  {
   "cell_type": "markdown",
   "metadata": {},
   "source": [
    "Столкнулся в работе с ошибкой\n",
    "\n",
    "A value is trying to be set on a copy of a slice from a DataFrame.\n",
    "Try using .loc[row_indexer,col_indexer] = value instead\n",
    "\n",
    "See the caveats in the documentation: https://pandas.pydata.org/pandas-docs/stable/user_guide/indexing.html#returning-a-view-versus-a-copy\n",
    "  data['avr_area'] = data['total_area'].apply(categorize_area)\n",
    "  \n",
    "  \n",
    "Пробовал заменить сокращенную запись логической индексации на полную: `data['xxx'] на data.loc[:,'xxx']`, но это не помогает, поэтому ввожу следующее: `pd.set_option('mode.chained_assignment', None)`\n",
    "  "
   ]
  },
  {
   "cell_type": "code",
   "execution_count": 3,
   "metadata": {},
   "outputs": [],
   "source": [
    "pd.set_option('mode.chained_assignment', None)"
   ]
  },
  {
   "cell_type": "code",
   "execution_count": 4,
   "metadata": {},
   "outputs": [
    {
     "name": "stdout",
     "output_type": "stream",
     "text": [
      "<class 'pandas.core.frame.DataFrame'>\n",
      "RangeIndex: 23699 entries, 0 to 23698\n",
      "Data columns (total 22 columns):\n",
      " #   Column                Non-Null Count  Dtype         \n",
      "---  ------                --------------  -----         \n",
      " 0   total_images          23699 non-null  int64         \n",
      " 1   last_price            23699 non-null  float64       \n",
      " 2   total_area            23699 non-null  float64       \n",
      " 3   first_day_exposition  23699 non-null  datetime64[ns]\n",
      " 4   rooms                 23699 non-null  int64         \n",
      " 5   ceiling_height        14504 non-null  float64       \n",
      " 6   floors_total          23613 non-null  float64       \n",
      " 7   living_area           21796 non-null  float64       \n",
      " 8   floor                 23699 non-null  int64         \n",
      " 9   is_apartment          2775 non-null   object        \n",
      " 10  studio                23699 non-null  bool          \n",
      " 11  open_plan             23699 non-null  bool          \n",
      " 12  kitchen_area          21421 non-null  float64       \n",
      " 13  balcony               12180 non-null  float64       \n",
      " 14  locality_name         23650 non-null  object        \n",
      " 15  airports_nearest      18157 non-null  float64       \n",
      " 16  cityCenters_nearest   18180 non-null  float64       \n",
      " 17  parks_around3000      18181 non-null  float64       \n",
      " 18  parks_nearest         8079 non-null   float64       \n",
      " 19  ponds_around3000      18181 non-null  float64       \n",
      " 20  ponds_nearest         9110 non-null   float64       \n",
      " 21  days_exposition       20518 non-null  float64       \n",
      "dtypes: bool(2), datetime64[ns](1), float64(14), int64(3), object(2)\n",
      "memory usage: 3.7+ MB\n"
     ]
    }
   ],
   "source": [
    "data.info()"
   ]
  },
  {
   "cell_type": "code",
   "execution_count": 5,
   "metadata": {},
   "outputs": [
    {
     "data": {
      "text/html": [
       "<div>\n",
       "<style scoped>\n",
       "    .dataframe tbody tr th:only-of-type {\n",
       "        vertical-align: middle;\n",
       "    }\n",
       "\n",
       "    .dataframe tbody tr th {\n",
       "        vertical-align: top;\n",
       "    }\n",
       "\n",
       "    .dataframe thead th {\n",
       "        text-align: right;\n",
       "    }\n",
       "</style>\n",
       "<table border=\"1\" class=\"dataframe\">\n",
       "  <thead>\n",
       "    <tr style=\"text-align: right;\">\n",
       "      <th></th>\n",
       "      <th>total_images</th>\n",
       "      <th>last_price</th>\n",
       "      <th>total_area</th>\n",
       "      <th>rooms</th>\n",
       "      <th>ceiling_height</th>\n",
       "      <th>floors_total</th>\n",
       "      <th>living_area</th>\n",
       "      <th>floor</th>\n",
       "      <th>kitchen_area</th>\n",
       "      <th>balcony</th>\n",
       "      <th>airports_nearest</th>\n",
       "      <th>cityCenters_nearest</th>\n",
       "      <th>parks_around3000</th>\n",
       "      <th>parks_nearest</th>\n",
       "      <th>ponds_around3000</th>\n",
       "      <th>ponds_nearest</th>\n",
       "      <th>days_exposition</th>\n",
       "    </tr>\n",
       "  </thead>\n",
       "  <tbody>\n",
       "    <tr>\n",
       "      <th>count</th>\n",
       "      <td>23699.000000</td>\n",
       "      <td>2.369900e+04</td>\n",
       "      <td>23699.000000</td>\n",
       "      <td>23699.000000</td>\n",
       "      <td>14504.000000</td>\n",
       "      <td>23613.000000</td>\n",
       "      <td>21796.000000</td>\n",
       "      <td>23699.000000</td>\n",
       "      <td>21421.000000</td>\n",
       "      <td>12180.000000</td>\n",
       "      <td>18157.000000</td>\n",
       "      <td>18180.000000</td>\n",
       "      <td>18181.000000</td>\n",
       "      <td>8079.000000</td>\n",
       "      <td>18181.000000</td>\n",
       "      <td>9110.000000</td>\n",
       "      <td>20518.000000</td>\n",
       "    </tr>\n",
       "    <tr>\n",
       "      <th>mean</th>\n",
       "      <td>9.858475</td>\n",
       "      <td>6.541549e+06</td>\n",
       "      <td>60.348651</td>\n",
       "      <td>2.070636</td>\n",
       "      <td>2.771499</td>\n",
       "      <td>10.673824</td>\n",
       "      <td>34.457852</td>\n",
       "      <td>5.892358</td>\n",
       "      <td>10.569807</td>\n",
       "      <td>1.150082</td>\n",
       "      <td>28793.672193</td>\n",
       "      <td>14191.277833</td>\n",
       "      <td>0.611408</td>\n",
       "      <td>490.804555</td>\n",
       "      <td>0.770255</td>\n",
       "      <td>517.980900</td>\n",
       "      <td>180.888634</td>\n",
       "    </tr>\n",
       "    <tr>\n",
       "      <th>std</th>\n",
       "      <td>5.682529</td>\n",
       "      <td>1.088701e+07</td>\n",
       "      <td>35.654083</td>\n",
       "      <td>1.078405</td>\n",
       "      <td>1.261056</td>\n",
       "      <td>6.597173</td>\n",
       "      <td>22.030445</td>\n",
       "      <td>4.885249</td>\n",
       "      <td>5.905438</td>\n",
       "      <td>1.071300</td>\n",
       "      <td>12630.880622</td>\n",
       "      <td>8608.386210</td>\n",
       "      <td>0.802074</td>\n",
       "      <td>342.317995</td>\n",
       "      <td>0.938346</td>\n",
       "      <td>277.720643</td>\n",
       "      <td>219.727988</td>\n",
       "    </tr>\n",
       "    <tr>\n",
       "      <th>min</th>\n",
       "      <td>0.000000</td>\n",
       "      <td>1.219000e+04</td>\n",
       "      <td>12.000000</td>\n",
       "      <td>0.000000</td>\n",
       "      <td>1.000000</td>\n",
       "      <td>1.000000</td>\n",
       "      <td>2.000000</td>\n",
       "      <td>1.000000</td>\n",
       "      <td>1.300000</td>\n",
       "      <td>0.000000</td>\n",
       "      <td>0.000000</td>\n",
       "      <td>181.000000</td>\n",
       "      <td>0.000000</td>\n",
       "      <td>1.000000</td>\n",
       "      <td>0.000000</td>\n",
       "      <td>13.000000</td>\n",
       "      <td>1.000000</td>\n",
       "    </tr>\n",
       "    <tr>\n",
       "      <th>25%</th>\n",
       "      <td>6.000000</td>\n",
       "      <td>3.400000e+06</td>\n",
       "      <td>40.000000</td>\n",
       "      <td>1.000000</td>\n",
       "      <td>2.520000</td>\n",
       "      <td>5.000000</td>\n",
       "      <td>18.600000</td>\n",
       "      <td>2.000000</td>\n",
       "      <td>7.000000</td>\n",
       "      <td>0.000000</td>\n",
       "      <td>18585.000000</td>\n",
       "      <td>9238.000000</td>\n",
       "      <td>0.000000</td>\n",
       "      <td>288.000000</td>\n",
       "      <td>0.000000</td>\n",
       "      <td>294.000000</td>\n",
       "      <td>45.000000</td>\n",
       "    </tr>\n",
       "    <tr>\n",
       "      <th>50%</th>\n",
       "      <td>9.000000</td>\n",
       "      <td>4.650000e+06</td>\n",
       "      <td>52.000000</td>\n",
       "      <td>2.000000</td>\n",
       "      <td>2.650000</td>\n",
       "      <td>9.000000</td>\n",
       "      <td>30.000000</td>\n",
       "      <td>4.000000</td>\n",
       "      <td>9.100000</td>\n",
       "      <td>1.000000</td>\n",
       "      <td>26726.000000</td>\n",
       "      <td>13098.500000</td>\n",
       "      <td>0.000000</td>\n",
       "      <td>455.000000</td>\n",
       "      <td>1.000000</td>\n",
       "      <td>502.000000</td>\n",
       "      <td>95.000000</td>\n",
       "    </tr>\n",
       "    <tr>\n",
       "      <th>75%</th>\n",
       "      <td>14.000000</td>\n",
       "      <td>6.800000e+06</td>\n",
       "      <td>69.900000</td>\n",
       "      <td>3.000000</td>\n",
       "      <td>2.800000</td>\n",
       "      <td>16.000000</td>\n",
       "      <td>42.300000</td>\n",
       "      <td>8.000000</td>\n",
       "      <td>12.000000</td>\n",
       "      <td>2.000000</td>\n",
       "      <td>37273.000000</td>\n",
       "      <td>16293.000000</td>\n",
       "      <td>1.000000</td>\n",
       "      <td>612.000000</td>\n",
       "      <td>1.000000</td>\n",
       "      <td>729.000000</td>\n",
       "      <td>232.000000</td>\n",
       "    </tr>\n",
       "    <tr>\n",
       "      <th>max</th>\n",
       "      <td>50.000000</td>\n",
       "      <td>7.630000e+08</td>\n",
       "      <td>900.000000</td>\n",
       "      <td>19.000000</td>\n",
       "      <td>100.000000</td>\n",
       "      <td>60.000000</td>\n",
       "      <td>409.700000</td>\n",
       "      <td>33.000000</td>\n",
       "      <td>112.000000</td>\n",
       "      <td>5.000000</td>\n",
       "      <td>84869.000000</td>\n",
       "      <td>65968.000000</td>\n",
       "      <td>3.000000</td>\n",
       "      <td>3190.000000</td>\n",
       "      <td>3.000000</td>\n",
       "      <td>1344.000000</td>\n",
       "      <td>1580.000000</td>\n",
       "    </tr>\n",
       "  </tbody>\n",
       "</table>\n",
       "</div>"
      ],
      "text/plain": [
       "       total_images    last_price    total_area         rooms  ceiling_height  \\\n",
       "count  23699.000000  2.369900e+04  23699.000000  23699.000000    14504.000000   \n",
       "mean       9.858475  6.541549e+06     60.348651      2.070636        2.771499   \n",
       "std        5.682529  1.088701e+07     35.654083      1.078405        1.261056   \n",
       "min        0.000000  1.219000e+04     12.000000      0.000000        1.000000   \n",
       "25%        6.000000  3.400000e+06     40.000000      1.000000        2.520000   \n",
       "50%        9.000000  4.650000e+06     52.000000      2.000000        2.650000   \n",
       "75%       14.000000  6.800000e+06     69.900000      3.000000        2.800000   \n",
       "max       50.000000  7.630000e+08    900.000000     19.000000      100.000000   \n",
       "\n",
       "       floors_total   living_area         floor  kitchen_area       balcony  \\\n",
       "count  23613.000000  21796.000000  23699.000000  21421.000000  12180.000000   \n",
       "mean      10.673824     34.457852      5.892358     10.569807      1.150082   \n",
       "std        6.597173     22.030445      4.885249      5.905438      1.071300   \n",
       "min        1.000000      2.000000      1.000000      1.300000      0.000000   \n",
       "25%        5.000000     18.600000      2.000000      7.000000      0.000000   \n",
       "50%        9.000000     30.000000      4.000000      9.100000      1.000000   \n",
       "75%       16.000000     42.300000      8.000000     12.000000      2.000000   \n",
       "max       60.000000    409.700000     33.000000    112.000000      5.000000   \n",
       "\n",
       "       airports_nearest  cityCenters_nearest  parks_around3000  parks_nearest  \\\n",
       "count      18157.000000         18180.000000      18181.000000    8079.000000   \n",
       "mean       28793.672193         14191.277833          0.611408     490.804555   \n",
       "std        12630.880622          8608.386210          0.802074     342.317995   \n",
       "min            0.000000           181.000000          0.000000       1.000000   \n",
       "25%        18585.000000          9238.000000          0.000000     288.000000   \n",
       "50%        26726.000000         13098.500000          0.000000     455.000000   \n",
       "75%        37273.000000         16293.000000          1.000000     612.000000   \n",
       "max        84869.000000         65968.000000          3.000000    3190.000000   \n",
       "\n",
       "       ponds_around3000  ponds_nearest  days_exposition  \n",
       "count      18181.000000    9110.000000     20518.000000  \n",
       "mean           0.770255     517.980900       180.888634  \n",
       "std            0.938346     277.720643       219.727988  \n",
       "min            0.000000      13.000000         1.000000  \n",
       "25%            0.000000     294.000000        45.000000  \n",
       "50%            1.000000     502.000000        95.000000  \n",
       "75%            1.000000     729.000000       232.000000  \n",
       "max            3.000000    1344.000000      1580.000000  "
      ]
     },
     "execution_count": 5,
     "metadata": {},
     "output_type": "execute_result"
    }
   ],
   "source": [
    "data.describe()"
   ]
  },
  {
   "cell_type": "markdown",
   "metadata": {},
   "source": [
    "### Предобработка данных"
   ]
  },
  {
   "cell_type": "markdown",
   "metadata": {},
   "source": [
    "#### Пропущенные значения в столбцах:\n",
    "\n",
    "##### Определяем, в каких столбцах есть пропуски.\n"
   ]
  },
  {
   "cell_type": "code",
   "execution_count": 6,
   "metadata": {},
   "outputs": [
    {
     "data": {
      "text/plain": [
       "total_images                0\n",
       "last_price                  0\n",
       "total_area                  0\n",
       "first_day_exposition        0\n",
       "rooms                       0\n",
       "ceiling_height           9195\n",
       "floors_total               86\n",
       "living_area              1903\n",
       "floor                       0\n",
       "is_apartment            20924\n",
       "studio                      0\n",
       "open_plan                   0\n",
       "kitchen_area             2278\n",
       "balcony                 11519\n",
       "locality_name              49\n",
       "airports_nearest         5542\n",
       "cityCenters_nearest      5519\n",
       "parks_around3000         5518\n",
       "parks_nearest           15620\n",
       "ponds_around3000         5518\n",
       "ponds_nearest           14589\n",
       "days_exposition          3181\n",
       "dtype: int64"
      ]
     },
     "execution_count": 6,
     "metadata": {},
     "output_type": "execute_result"
    }
   ],
   "source": [
    "data.isna().sum()"
   ]
  },
  {
   "cell_type": "code",
   "execution_count": 7,
   "metadata": {},
   "outputs": [
    {
     "data": {
      "text/html": [
       "<style  type=\"text/css\" >\n",
       "#T_9c1d4_row0_col0{\n",
       "            background-color:  #b40426;\n",
       "            color:  #f1f1f1;\n",
       "        }#T_9c1d4_row1_col0{\n",
       "            background-color:  #f49a7b;\n",
       "            color:  #000000;\n",
       "        }#T_9c1d4_row2_col0{\n",
       "            background-color:  #f7ad90;\n",
       "            color:  #000000;\n",
       "        }#T_9c1d4_row3_col0{\n",
       "            background-color:  #e9d5cb;\n",
       "            color:  #000000;\n",
       "        }#T_9c1d4_row4_col0{\n",
       "            background-color:  #ccd9ed;\n",
       "            color:  #000000;\n",
       "        }#T_9c1d4_row5_col0,#T_9c1d4_row6_col0,#T_9c1d4_row7_col0,#T_9c1d4_row8_col0{\n",
       "            background-color:  #92b4fe;\n",
       "            color:  #000000;\n",
       "        }#T_9c1d4_row9_col0{\n",
       "            background-color:  #6a8bef;\n",
       "            color:  #000000;\n",
       "        }#T_9c1d4_row10_col0{\n",
       "            background-color:  #5b7ae5;\n",
       "            color:  #000000;\n",
       "        }#T_9c1d4_row11_col0{\n",
       "            background-color:  #5673e0;\n",
       "            color:  #000000;\n",
       "        }#T_9c1d4_row12_col0{\n",
       "            background-color:  #3c4ec2;\n",
       "            color:  #f1f1f1;\n",
       "        }#T_9c1d4_row13_col0,#T_9c1d4_row14_col0,#T_9c1d4_row15_col0,#T_9c1d4_row16_col0,#T_9c1d4_row17_col0,#T_9c1d4_row18_col0,#T_9c1d4_row19_col0,#T_9c1d4_row20_col0,#T_9c1d4_row21_col0{\n",
       "            background-color:  #3b4cc0;\n",
       "            color:  #f1f1f1;\n",
       "        }</style><table id=\"T_9c1d4_\" ><thead>    <tr>        <th class=\"blank level0\" ></th>        <th class=\"col_heading level0 col0\" >0</th>    </tr></thead><tbody>\n",
       "                <tr>\n",
       "                        <th id=\"T_9c1d4_level0_row0\" class=\"row_heading level0 row0\" >is_apartment</th>\n",
       "                        <td id=\"T_9c1d4_row0_col0\" class=\"data row0 col0\" >88.290645</td>\n",
       "            </tr>\n",
       "            <tr>\n",
       "                        <th id=\"T_9c1d4_level0_row1\" class=\"row_heading level0 row1\" >parks_nearest</th>\n",
       "                        <td id=\"T_9c1d4_row1_col0\" class=\"data row1 col0\" >65.909954</td>\n",
       "            </tr>\n",
       "            <tr>\n",
       "                        <th id=\"T_9c1d4_level0_row2\" class=\"row_heading level0 row2\" >ponds_nearest</th>\n",
       "                        <td id=\"T_9c1d4_row2_col0\" class=\"data row2 col0\" >61.559559</td>\n",
       "            </tr>\n",
       "            <tr>\n",
       "                        <th id=\"T_9c1d4_level0_row3\" class=\"row_heading level0 row3\" >balcony</th>\n",
       "                        <td id=\"T_9c1d4_row3_col0\" class=\"data row3 col0\" >48.605426</td>\n",
       "            </tr>\n",
       "            <tr>\n",
       "                        <th id=\"T_9c1d4_level0_row4\" class=\"row_heading level0 row4\" >ceiling_height</th>\n",
       "                        <td id=\"T_9c1d4_row4_col0\" class=\"data row4 col0\" >38.799105</td>\n",
       "            </tr>\n",
       "            <tr>\n",
       "                        <th id=\"T_9c1d4_level0_row5\" class=\"row_heading level0 row5\" >airports_nearest</th>\n",
       "                        <td id=\"T_9c1d4_row5_col0\" class=\"data row5 col0\" >23.384953</td>\n",
       "            </tr>\n",
       "            <tr>\n",
       "                        <th id=\"T_9c1d4_level0_row6\" class=\"row_heading level0 row6\" >cityCenters_nearest</th>\n",
       "                        <td id=\"T_9c1d4_row6_col0\" class=\"data row6 col0\" >23.287902</td>\n",
       "            </tr>\n",
       "            <tr>\n",
       "                        <th id=\"T_9c1d4_level0_row7\" class=\"row_heading level0 row7\" >parks_around3000</th>\n",
       "                        <td id=\"T_9c1d4_row7_col0\" class=\"data row7 col0\" >23.283683</td>\n",
       "            </tr>\n",
       "            <tr>\n",
       "                        <th id=\"T_9c1d4_level0_row8\" class=\"row_heading level0 row8\" >ponds_around3000</th>\n",
       "                        <td id=\"T_9c1d4_row8_col0\" class=\"data row8 col0\" >23.283683</td>\n",
       "            </tr>\n",
       "            <tr>\n",
       "                        <th id=\"T_9c1d4_level0_row9\" class=\"row_heading level0 row9\" >days_exposition</th>\n",
       "                        <td id=\"T_9c1d4_row9_col0\" class=\"data row9 col0\" >13.422507</td>\n",
       "            </tr>\n",
       "            <tr>\n",
       "                        <th id=\"T_9c1d4_level0_row10\" class=\"row_heading level0 row10\" >kitchen_area</th>\n",
       "                        <td id=\"T_9c1d4_row10_col0\" class=\"data row10 col0\" >9.612220</td>\n",
       "            </tr>\n",
       "            <tr>\n",
       "                        <th id=\"T_9c1d4_level0_row11\" class=\"row_heading level0 row11\" >living_area</th>\n",
       "                        <td id=\"T_9c1d4_row11_col0\" class=\"data row11 col0\" >8.029875</td>\n",
       "            </tr>\n",
       "            <tr>\n",
       "                        <th id=\"T_9c1d4_level0_row12\" class=\"row_heading level0 row12\" >floors_total</th>\n",
       "                        <td id=\"T_9c1d4_row12_col0\" class=\"data row12 col0\" >0.362885</td>\n",
       "            </tr>\n",
       "            <tr>\n",
       "                        <th id=\"T_9c1d4_level0_row13\" class=\"row_heading level0 row13\" >locality_name</th>\n",
       "                        <td id=\"T_9c1d4_row13_col0\" class=\"data row13 col0\" >0.206760</td>\n",
       "            </tr>\n",
       "            <tr>\n",
       "                        <th id=\"T_9c1d4_level0_row14\" class=\"row_heading level0 row14\" >first_day_exposition</th>\n",
       "                        <td id=\"T_9c1d4_row14_col0\" class=\"data row14 col0\" >0.000000</td>\n",
       "            </tr>\n",
       "            <tr>\n",
       "                        <th id=\"T_9c1d4_level0_row15\" class=\"row_heading level0 row15\" >last_price</th>\n",
       "                        <td id=\"T_9c1d4_row15_col0\" class=\"data row15 col0\" >0.000000</td>\n",
       "            </tr>\n",
       "            <tr>\n",
       "                        <th id=\"T_9c1d4_level0_row16\" class=\"row_heading level0 row16\" >total_area</th>\n",
       "                        <td id=\"T_9c1d4_row16_col0\" class=\"data row16 col0\" >0.000000</td>\n",
       "            </tr>\n",
       "            <tr>\n",
       "                        <th id=\"T_9c1d4_level0_row17\" class=\"row_heading level0 row17\" >studio</th>\n",
       "                        <td id=\"T_9c1d4_row17_col0\" class=\"data row17 col0\" >0.000000</td>\n",
       "            </tr>\n",
       "            <tr>\n",
       "                        <th id=\"T_9c1d4_level0_row18\" class=\"row_heading level0 row18\" >rooms</th>\n",
       "                        <td id=\"T_9c1d4_row18_col0\" class=\"data row18 col0\" >0.000000</td>\n",
       "            </tr>\n",
       "            <tr>\n",
       "                        <th id=\"T_9c1d4_level0_row19\" class=\"row_heading level0 row19\" >floor</th>\n",
       "                        <td id=\"T_9c1d4_row19_col0\" class=\"data row19 col0\" >0.000000</td>\n",
       "            </tr>\n",
       "            <tr>\n",
       "                        <th id=\"T_9c1d4_level0_row20\" class=\"row_heading level0 row20\" >open_plan</th>\n",
       "                        <td id=\"T_9c1d4_row20_col0\" class=\"data row20 col0\" >0.000000</td>\n",
       "            </tr>\n",
       "            <tr>\n",
       "                        <th id=\"T_9c1d4_level0_row21\" class=\"row_heading level0 row21\" >total_images</th>\n",
       "                        <td id=\"T_9c1d4_row21_col0\" class=\"data row21 col0\" >0.000000</td>\n",
       "            </tr>\n",
       "    </tbody></table>"
      ],
      "text/plain": [
       "<pandas.io.formats.style.Styler at 0x7fbb415b3eb0>"
      ]
     },
     "execution_count": 7,
     "metadata": {},
     "output_type": "execute_result"
    }
   ],
   "source": [
    "pd.DataFrame(data.isna().mean()*100).sort_values(by=0)[::-1].style.background_gradient('coolwarm')"
   ]
  },
  {
   "cell_type": "markdown",
   "metadata": {},
   "source": [
    "##### Анализ пропусков в данных:\n",
    "\n",
    "Всего `23699` записей, пропусков много\n",
    "\n",
    "*Заполним нулём там, где значение не указано и логчино предположить, что можно заполнить как 0:*\n",
    "- balcony (11519) - его скорее всего нет, раз поле не заполнено\n",
    "- parks_around3000 (5518) - его скорее всего нет, раз поле не заполнено\n",
    "- ponds_around3000 (5518) - его скорее всего нет, раз поле не заполнено\n",
    "- is_apartment (20924) - предполагаем, что раз не заполнено, значит False (не апартаменты), многие просто не знакомы с таким термином и критериям отнесения к апартаментам\n",
    "\n",
    "*Исключим записи, гда порущено:*\n",
    "- locality_name (49) - незначительное количество, предположительно случайных пропуском -  можно удалять.\n",
    "\n",
    "\n",
    "*Для пользовательских катагорий логичную замену предложить невозможно - оставляем пустыми:*\n",
    "- ceiling_height (9195) - высоту часто не указывают, т.к. просто не знают или слишком маленькая, что снижает привлекательность \n",
    "- floors_total (86) - полагаю, что это случайные пропуски в незначительном количестве\n",
    "- living_area (1903) - сложно предложить логичную замену, видимо просто ошибка в данных\n",
    "- kitchen_area (2278) - сложно предложить логичную замену, видимо просто ошибка в данных \n",
    "- days_exposition (3181) - сложно предложить логичную замену, видимо просто ошибка в данных \n",
    "\n",
    "*Аналогично для картографических*\n",
    "- cityCenters_nearest (5519) - лучше оставить пустым и обратиться к поставщику данных за уточнением, параметр важен для анализа\n",
    "- airports_nearest (5542) - много, но для задачи анализа влияния не имеет\n",
    "- parks_nearest (15620) - много, но для задачи анализа влияния не имеет\n",
    "- ponds_nearest (14589) - много, но для задачи анализа влияния не имеет\n",
    "\n",
    "\n",
    "О причинах пропусков судить сложно. \n",
    "Например для \"картографических\" полей - ведь в базе не приводится адрес объекта недвижимости, только населенный пункт - можно предположить в таком случае, что парков и прудов поблизости нет.\n",
    "Пользовательские данные скорее всего не внесены случайно, от незнания или специально, т.к. могут понизить стоимость."
   ]
  },
  {
   "cell_type": "code",
   "execution_count": 8,
   "metadata": {},
   "outputs": [],
   "source": [
    "# указываем количество балконов, парков и прудов 0, там где пропуски \n",
    "\n",
    "data['balcony'] = data['balcony'].fillna(0)\n",
    "data['parks_around3000'] = data['parks_around3000'].fillna(0)\n",
    "data['ponds_around3000'] = data['ponds_around3000'].fillna(0)\n",
    "data['is_apartment'] = data['is_apartment'].fillna(0)\n",
    "data['floors_total'] = data['floors_total'].fillna(0)\n",
    "\n",
    "# исключаем 49 записей, где не указана локация\n",
    "\n",
    "data = data[~data['locality_name'].isna()]"
   ]
  },
  {
   "cell_type": "markdown",
   "metadata": {},
   "source": [
    "#### Типы данных в каждом столбце:\n",
    "\n",
    "Меняем тип данных для трёх колонок, исходя из последующих задач:\n",
    "\n",
    "first_day_exposition нужно привести к datatime, чтобы в дальнейшем извлечь дни, месяцы и года\n",
    "is_apartment к boolean, т.к. это двоичный атрибут как например studio, а\n",
    "floors_total приводим к целому, это потребуется для вычислений"
   ]
  },
  {
   "cell_type": "code",
   "execution_count": 9,
   "metadata": {},
   "outputs": [],
   "source": [
    "# признак апартаментов булеан, этажность дома целое число\n",
    "\n",
    "data['is_apartment'] = data['is_apartment'].astype('bool')\n",
    "data['floors_total'] = data['floors_total'].astype('int')\n",
    "\n",
    "# Перевод из строки в дату и время\n",
    "#data['first_day_exposition'] = pd.to_datetime(data['first_day_exposition'], format='%Y-%m-%dT%H:%M:%S')"
   ]
  },
  {
   "cell_type": "markdown",
   "metadata": {},
   "source": [
    "#### Устранение неявных дубликатов"
   ]
  },
  {
   "cell_type": "markdown",
   "metadata": {},
   "source": [
    "Анализ уникальных значения наименования локаций, показал как минимум 3 закономерности:\n",
    "1. Двоякое написание \"поселок\" и \"посёлок\" - меняем везде на вариант с Ё\n",
    "2. \"городской посёлок\" и \"посёлок городского типа\" это одно и тоже - будем использовать второй вариант\n",
    "3. \"посёлок станции\" и \"поселок при железнодорожной станции\" эквивалентны - используем более короткую версию. \n",
    "\n",
    "Произведем соответствующие замены"
   ]
  },
  {
   "cell_type": "code",
   "execution_count": 10,
   "metadata": {},
   "outputs": [],
   "source": [
    "# устраняем неявные дубликаты в названии населенных пунктов заменой некоторых слов\n",
    "\n",
    "data['locality_name'].replace('поселок','посёлок', inplace=True, regex=True)\n",
    "data['locality_name'].replace('городской посёлок','посёлок городского типа', inplace=True, regex=True)\n",
    "data['locality_name'].replace('посёлок при железнодорожной станции','посёлок станции', inplace=True, regex=True)"
   ]
  },
  {
   "cell_type": "code",
   "execution_count": 11,
   "metadata": {},
   "outputs": [
    {
     "data": {
      "text/plain": [
       "0"
      ]
     },
     "execution_count": 11,
     "metadata": {},
     "output_type": "execute_result"
    }
   ],
   "source": [
    "# проверка наличия полных дублей\n",
    "\n",
    "data.duplicated().sum()"
   ]
  },
  {
   "cell_type": "markdown",
   "metadata": {},
   "source": [
    "#### Находим и устраняем редкие и выбивающиеся значения. \n",
    "\n",
    "Методом `describe()` смотрим, на что следует обратить внимание. Подозрение вызывают следующие поля:\n",
    "\n",
    "- ceiling_height - слишком высокие значения\n",
    "- last_price - очень дешевые предложения\n",
    "- living_area - очень низкие значения\n",
    "- kitchen_area - очень низкие значения\n",
    "- rooms - нулевое значение комнат для нестудий"
   ]
  },
  {
   "cell_type": "code",
   "execution_count": 12,
   "metadata": {},
   "outputs": [],
   "source": [
    "def height_cut(h):\n",
    "    if h >= 20:\n",
    "        h /= 10\n",
    "    return h\n",
    "\n",
    "data['ceiling_height'] = data['ceiling_height'].apply(height_cut)"
   ]
  },
  {
   "cell_type": "code",
   "execution_count": 13,
   "metadata": {},
   "outputs": [],
   "source": [
    "# исключаем подозрительно высокие более 6 метров - 7 шт и ниже нормы в 2,4 метра - 23 шт. \n",
    "# От 3 до 6 метров оставляем, считаем элитным жильём\n",
    "\n",
    "data = data[~(data['ceiling_height'] > 6)]\n",
    "data = data[~(data['ceiling_height'] < 2.4)]"
   ]
  },
  {
   "cell_type": "code",
   "execution_count": 14,
   "metadata": {
    "scrolled": true
   },
   "outputs": [
    {
     "data": {
      "text/plain": [
       "Text(0, 0.5, 'Количество объектов недвижимости')"
      ]
     },
     "execution_count": 14,
     "metadata": {},
     "output_type": "execute_result"
    },
    {
     "data": {
      "image/png": "[encoded data removed]",
      "text/plain": [
       "<Figure size 432x288 with 1 Axes>"
      ]
     },
     "metadata": {
      "needs_background": "light"
     },
     "output_type": "display_data"
    }
   ],
   "source": [
    "# посмотрим распределение объектов по высоте потолков\n",
    "\n",
    "data['ceiling_height'].hist(bins=30, range=(2.0,6))\n",
    "plt.title('Распределение объектов по высоте потолков')\n",
    "plt.xlabel('Высота потолков')\n",
    "plt.ylabel('Количество объектов недвижимости')\n"
   ]
  },
  {
   "cell_type": "markdown",
   "metadata": {},
   "source": [
    "Аномалии по высоте потолков обработаны. Из графика видно, что средние значения 2.4 - 3.0, выше 3.0 можно отнести к элитному жилью. Чем выше потолок, тем меньше объектов, все логично."
   ]
  },
  {
   "cell_type": "code",
   "execution_count": 15,
   "metadata": {},
   "outputs": [],
   "source": [
    "# аномально низкое значение общей цены умножаем на 1000, исходя из предположения, что эта цена указана в тысячах рублей.\n",
    "\n",
    "for s in data['last_price']:\n",
    "    if s < 20000:\n",
    "        data['last_price'].replace(s,s*1000, inplace=True, regex=True)"
   ]
  },
  {
   "cell_type": "code",
   "execution_count": 16,
   "metadata": {},
   "outputs": [
    {
     "data": {
      "text/plain": [
       "Text(0, 0.5, 'Количество объектов недвижимости')"
      ]
     },
     "execution_count": 16,
     "metadata": {},
     "output_type": "execute_result"
    },
    {
     "data": {
      "image/png": "[encoded data removed]",
      "text/plain": [
       "<Figure size 432x288 with 1 Axes>"
      ]
     },
     "metadata": {
      "needs_background": "light"
     },
     "output_type": "display_data"
    }
   ],
   "source": [
    "data['last_price'].hist(bins=100, range=(0,20000000))\n",
    "\n",
    "plt.title('Распределение объектов по цене')\n",
    "plt.xlabel('Цена объекта')\n",
    "plt.ylabel('Количество объектов недвижимости')"
   ]
  },
  {
   "cell_type": "markdown",
   "metadata": {},
   "source": [
    "Распределение цены нормальное, средние значения от 2.5 до 5 миллионов. Еслть \"хвост\" вправо - это дорогой сегмент, по нему количество стремится к 0. Все выглядит логично, считаем, что выбросы обработаны."
   ]
  },
  {
   "cell_type": "code",
   "execution_count": 17,
   "metadata": {},
   "outputs": [],
   "source": [
    "# природа аномалии низкими значениями жилой площади непонятна данные действительно искажены - убираем самые маленькие значения\n",
    "# ограничение 14 взято в соответствии с СНиП 31-01-2003\n",
    "\n",
    "data = data[~(data['living_area'] < 14)]"
   ]
  },
  {
   "cell_type": "code",
   "execution_count": 18,
   "metadata": {
    "scrolled": true
   },
   "outputs": [
    {
     "data": {
      "text/plain": [
       "Text(0, 0.5, 'Количество объектов недвижимости, шт.')"
      ]
     },
     "execution_count": 18,
     "metadata": {},
     "output_type": "execute_result"
    },
    {
     "data": {
      "image/png": "[encoded data removed]",
      "text/plain": [
       "<Figure size 432x288 with 1 Axes>"
      ]
     },
     "metadata": {
      "needs_background": "light"
     },
     "output_type": "display_data"
    }
   ],
   "source": [
    "data['total_area'].hist(bins=150, range=(0,200))\n",
    "\n",
    "plt.title('Распределение объектов по общей площади')\n",
    "plt.xlabel('Общая площадь объекта, метры квадратные')\n",
    "plt.ylabel('Количество объектов недвижимости, шт.')"
   ]
  },
  {
   "cell_type": "markdown",
   "metadata": {},
   "source": [
    "В целом график выглядит логично, есть пик на 45 метрах квадратных, но это нормально, в целом это близко к медиане."
   ]
  },
  {
   "cell_type": "code",
   "execution_count": 19,
   "metadata": {
    "scrolled": false
   },
   "outputs": [
    {
     "data": {
      "text/plain": [
       "Text(0, 0.5, 'Жилая площадь объекта, метры квадратные')"
      ]
     },
     "execution_count": 19,
     "metadata": {},
     "output_type": "execute_result"
    },
    {
     "data": {
      "image/png": "[encoded data removed]",
      "text/plain": [
       "<Figure size 720x360 with 1 Axes>"
      ]
     },
     "metadata": {
      "needs_background": "light"
     },
     "output_type": "display_data"
    }
   ],
   "source": [
    "# Зависимость жилой от общей прощади\n",
    "\n",
    "data.plot(x='total_area', y='living_area', style='x', xlim=(0, 400), ylim=(0,275), grid=True, figsize=(10, 5))\n",
    "\n",
    "plt.title('Зависимость жилой от общей прощади')\n",
    "plt.xlabel('Общая площадь объекта, метры квадратные')\n",
    "plt.ylabel('Жилая площадь объекта, метры квадратные')"
   ]
  },
  {
   "cell_type": "markdown",
   "metadata": {},
   "source": [
    "Есть закономерность - с увеличением общей площади квартиры, увеличивается и жилая.\n",
    "Аномальных отклонений тут не выявлено"
   ]
  },
  {
   "cell_type": "code",
   "execution_count": 20,
   "metadata": {},
   "outputs": [],
   "source": [
    "# исключим записи с анамально маленьким значением площади кухни\n",
    "\n",
    "data = data[~(data['kitchen_area'] < 4)]"
   ]
  },
  {
   "cell_type": "code",
   "execution_count": 21,
   "metadata": {},
   "outputs": [],
   "source": [
    "# ввели категорию общей площади\n",
    "\n",
    "def categorize_area(row):\n",
    "    try:\n",
    "        if row <= 28.0:\n",
    "            return 'маленькая'\n",
    "        elif 28.0 < row <= 55.0:\n",
    "            return 'средняя'\n",
    "        elif 55.0 < row <= 100.0:\n",
    "            return 'большая'\n",
    "        elif 100.0 < row <= 150.0:\n",
    "            return 'очень большая'\n",
    "        elif row > 150.0:\n",
    "            return 'огромная'\n",
    "    except:\n",
    "        return 'нет категории по площади'"
   ]
  },
  {
   "cell_type": "code",
   "execution_count": 22,
   "metadata": {},
   "outputs": [],
   "source": [
    "# добавим столбец с категорией площади и смотрим медианное значение количества комнат\n",
    "\n",
    "data.loc[:,'avr_area'] = data.loc[:,'total_area'].apply(categorize_area)"
   ]
  },
  {
   "cell_type": "code",
   "execution_count": 23,
   "metadata": {
    "scrolled": true
   },
   "outputs": [
    {
     "data": {
      "text/html": [
       "<div>\n",
       "<style scoped>\n",
       "    .dataframe tbody tr th:only-of-type {\n",
       "        vertical-align: middle;\n",
       "    }\n",
       "\n",
       "    .dataframe tbody tr th {\n",
       "        vertical-align: top;\n",
       "    }\n",
       "\n",
       "    .dataframe thead tr th {\n",
       "        text-align: left;\n",
       "    }\n",
       "\n",
       "    .dataframe thead tr:last-of-type th {\n",
       "        text-align: right;\n",
       "    }\n",
       "</style>\n",
       "<table border=\"1\" class=\"dataframe\">\n",
       "  <thead>\n",
       "    <tr>\n",
       "      <th></th>\n",
       "      <th>count</th>\n",
       "      <th>median</th>\n",
       "    </tr>\n",
       "    <tr>\n",
       "      <th></th>\n",
       "      <th>rooms</th>\n",
       "      <th>rooms</th>\n",
       "    </tr>\n",
       "    <tr>\n",
       "      <th>avr_area</th>\n",
       "      <th></th>\n",
       "      <th></th>\n",
       "    </tr>\n",
       "  </thead>\n",
       "  <tbody>\n",
       "    <tr>\n",
       "      <th>большая</th>\n",
       "      <td>8724</td>\n",
       "      <td>3</td>\n",
       "    </tr>\n",
       "    <tr>\n",
       "      <th>маленькая</th>\n",
       "      <td>376</td>\n",
       "      <td>1</td>\n",
       "    </tr>\n",
       "    <tr>\n",
       "      <th>огромная</th>\n",
       "      <td>562</td>\n",
       "      <td>5</td>\n",
       "    </tr>\n",
       "    <tr>\n",
       "      <th>очень большая</th>\n",
       "      <td>1267</td>\n",
       "      <td>3</td>\n",
       "    </tr>\n",
       "    <tr>\n",
       "      <th>средняя</th>\n",
       "      <td>12345</td>\n",
       "      <td>1</td>\n",
       "    </tr>\n",
       "  </tbody>\n",
       "</table>\n",
       "</div>"
      ],
      "text/plain": [
       "               count median\n",
       "               rooms  rooms\n",
       "avr_area                   \n",
       "большая         8724      3\n",
       "маленькая        376      1\n",
       "огромная         562      5\n",
       "очень большая   1267      3\n",
       "средняя        12345      1"
      ]
     },
     "execution_count": 23,
     "metadata": {},
     "output_type": "execute_result"
    }
   ],
   "source": [
    "data.pivot_table(index='avr_area', values='rooms', aggfunc=['count', 'median'])"
   ]
  },
  {
   "cell_type": "code",
   "execution_count": 24,
   "metadata": {},
   "outputs": [],
   "source": [
    "# там, где кол-во комнат было 0, указываем медианное значение по категории площади\n",
    "#pd.set_option('mode.chained_assignment', None)\n",
    "\n",
    "for t in data.loc[:,'avr_area'].unique():\n",
    "    data.loc[(data.loc[:,'avr_area'] == t) & (data.loc[:,'rooms'] == 0) & (data.loc[:,'studio'] == False), 'rooms'] = \\\n",
    "    data.loc[(data.loc[:,'avr_area'] == t), 'rooms'].median()"
   ]
  },
  {
   "cell_type": "code",
   "execution_count": 25,
   "metadata": {},
   "outputs": [],
   "source": [
    "# исключаем из анализа предложения, где комнат больше 6 шт.\n",
    "\n",
    "data = data[~(data['rooms'] > 6)]"
   ]
  },
  {
   "cell_type": "code",
   "execution_count": 26,
   "metadata": {
    "scrolled": true
   },
   "outputs": [
    {
     "name": "stdout",
     "output_type": "stream",
     "text": [
      "23184\n"
     ]
    },
    {
     "data": {
      "text/html": [
       "<div>\n",
       "<style scoped>\n",
       "    .dataframe tbody tr th:only-of-type {\n",
       "        vertical-align: middle;\n",
       "    }\n",
       "\n",
       "    .dataframe tbody tr th {\n",
       "        vertical-align: top;\n",
       "    }\n",
       "\n",
       "    .dataframe thead th {\n",
       "        text-align: right;\n",
       "    }\n",
       "</style>\n",
       "<table border=\"1\" class=\"dataframe\">\n",
       "  <thead>\n",
       "    <tr style=\"text-align: right;\">\n",
       "      <th></th>\n",
       "      <th>last_price</th>\n",
       "      <th>total_area</th>\n",
       "      <th>rooms</th>\n",
       "      <th>ceiling_height</th>\n",
       "    </tr>\n",
       "  </thead>\n",
       "  <tbody>\n",
       "    <tr>\n",
       "      <th>min</th>\n",
       "      <td>430000.0</td>\n",
       "      <td>13.0</td>\n",
       "      <td>0.0</td>\n",
       "      <td>2.4</td>\n",
       "    </tr>\n",
       "    <tr>\n",
       "      <th>max</th>\n",
       "      <td>401300000.0</td>\n",
       "      <td>507.0</td>\n",
       "      <td>6.0</td>\n",
       "      <td>6.0</td>\n",
       "    </tr>\n",
       "  </tbody>\n",
       "</table>\n",
       "</div>"
      ],
      "text/plain": [
       "      last_price  total_area  rooms  ceiling_height\n",
       "min     430000.0        13.0    0.0             2.4\n",
       "max  401300000.0       507.0    6.0             6.0"
      ]
     },
     "execution_count": 26,
     "metadata": {},
     "output_type": "execute_result"
    }
   ],
   "source": [
    "# проверим себя\n",
    "\n",
    "print(len(data))\n",
    "\n",
    "data[['last_price', 'total_area','rooms', 'ceiling_height']].describe().loc[['min', 'max']]"
   ]
  },
  {
   "cell_type": "markdown",
   "metadata": {},
   "source": [
    "### Посчитайте и добавьте в таблицу новые столбцы"
   ]
  },
  {
   "cell_type": "markdown",
   "metadata": {},
   "source": [
    "#### Добавили в таблицу новые столбцы со следующими параметрами:\n",
    "\n",
    "- цена одного квадратного метра;\n",
    "- день недели публикации объявления (0 — понедельник, 1 — вторник и так далее);\n",
    "- месяц публикации объявления;\n",
    "- год публикации объявления;\n",
    "- тип этажа квартиры (значения — «‎первый», «последний», «другой»);\n",
    "- расстояние до центра города в километрах (переведите из м в км и округлите до целых значений)."
   ]
  },
  {
   "cell_type": "code",
   "execution_count": 27,
   "metadata": {
    "scrolled": false
   },
   "outputs": [
    {
     "data": {
      "text/plain": [
       "count    2.318400e+04\n",
       "mean     9.907539e+04\n",
       "std      4.855562e+04\n",
       "min      7.962963e+03\n",
       "25%      7.647059e+04\n",
       "50%      9.485331e+04\n",
       "75%      1.140016e+05\n",
       "max      1.736842e+06\n",
       "Name: price_per_sqtm, dtype: float64"
      ]
     },
     "execution_count": 27,
     "metadata": {},
     "output_type": "execute_result"
    }
   ],
   "source": [
    "# добавляем столбец с ценой квадратного метра\n",
    "\n",
    "data.loc[:,'price_per_sqtm'] = data.loc[:,'last_price'] / data.loc[:,'total_area']\n",
    "data['price_per_sqtm'].describe()"
   ]
  },
  {
   "cell_type": "code",
   "execution_count": 28,
   "metadata": {},
   "outputs": [
    {
     "data": {
      "text/plain": [
       "<AxesSubplot:>"
      ]
     },
     "execution_count": 28,
     "metadata": {},
     "output_type": "execute_result"
    },
    {
     "data": {
      "image/png": "[encoded data removed]",
      "text/plain": [
       "<Figure size 432x288 with 1 Axes>"
      ]
     },
     "metadata": {
      "needs_background": "light"
     },
     "output_type": "display_data"
    }
   ],
   "source": [
    "import matplotlib.pyplot as plt \n",
    "\n",
    "plt.ylim(10**4, 10**6)\n",
    "plt.xlim(0, 2) \n",
    "\n",
    "data.boxplot('price_per_sqtm')"
   ]
  },
  {
   "cell_type": "code",
   "execution_count": 29,
   "metadata": {},
   "outputs": [
    {
     "data": {
      "text/plain": [
       "Text(0, 0.5, 'Количество объектов')"
      ]
     },
     "execution_count": 29,
     "metadata": {},
     "output_type": "execute_result"
    },
    {
     "data": {
      "image/png": "[encoded data removed]",
      "text/plain": [
       "<Figure size 432x288 with 1 Axes>"
      ]
     },
     "metadata": {
      "needs_background": "light"
     },
     "output_type": "display_data"
    }
   ],
   "source": [
    "data.hist('price_per_sqtm', bins=100, range=(0,500000))\n",
    "\n",
    "plt.title('Распределение цены за квадратный метр')\n",
    "plt.xlabel('Цена за метр квадратный, в рублях')\n",
    "plt.ylabel('Количество объектов')"
   ]
  },
  {
   "cell_type": "markdown",
   "metadata": {},
   "source": [
    "Цена за метр распределена нормально, выбросов нет. В целом график повторяет график по общей стоимости."
   ]
  },
  {
   "cell_type": "code",
   "execution_count": 30,
   "metadata": {},
   "outputs": [],
   "source": [
    "# ввели категорию цены за квадрат\n",
    "\n",
    "def categorize_price(row):\n",
    "    try:\n",
    "        if row <= 70000:\n",
    "            return 'эконом'\n",
    "        elif 70000 < row <= 130000:\n",
    "            return 'комфорт'\n",
    "        elif 130000 < row <= 300000:\n",
    "            return 'бизнес'\n",
    "        elif 300000 < row <= 600000:\n",
    "            return 'премиум'\n",
    "        elif row > 600000:\n",
    "            return 'элитная'\n",
    "    except:\n",
    "        return 'нет категории по цене квадратного метра'"
   ]
  },
  {
   "cell_type": "code",
   "execution_count": 31,
   "metadata": {},
   "outputs": [],
   "source": [
    "data.loc[:,'price_cat'] = data.loc[:,'price_per_sqtm'].apply(categorize_price)"
   ]
  },
  {
   "cell_type": "code",
   "execution_count": 32,
   "metadata": {},
   "outputs": [
    {
     "data": {
      "text/plain": [
       "комфорт    15558\n",
       "эконом      4444\n",
       "бизнес      3020\n",
       "премиум      143\n",
       "элитная       19\n",
       "Name: price_cat, dtype: int64"
      ]
     },
     "execution_count": 32,
     "metadata": {},
     "output_type": "execute_result"
    }
   ],
   "source": [
    "data['price_cat'].value_counts()"
   ]
  },
  {
   "cell_type": "code",
   "execution_count": 33,
   "metadata": {},
   "outputs": [],
   "source": [
    "# день недели публикации объявления (0 — понедельник, 1 — вторник и так далее)\n",
    "data.loc[:,'day_public'] = data.loc[:,'first_day_exposition'].dt.weekday\n",
    "\n",
    "# месяц публикации объявления\n",
    "data.loc[:,'month_public'] = data.loc[:,'first_day_exposition'].dt.month\n",
    "\n",
    "# год публикации объявления\n",
    "data.loc[:,'year_public'] = data.loc[:,'first_day_exposition'].dt.year"
   ]
  },
  {
   "cell_type": "code",
   "execution_count": 34,
   "metadata": {},
   "outputs": [],
   "source": [
    "# тип этажа квартиры (значения — «первый», «последний», «другой»)\n",
    "\n",
    "def function(row):\n",
    "    if row['floor'] == 1:\n",
    "        return 'первый'\n",
    "    elif row['floor'] == row['floors_total']:\n",
    "        return 'последний'\n",
    "    else:\n",
    "        return 'другой'\n",
    "\n",
    "data.loc[:,'floor_cat'] = data.apply(function, axis=1)"
   ]
  },
  {
   "cell_type": "code",
   "execution_count": 35,
   "metadata": {},
   "outputs": [],
   "source": [
    "# расстояние до центра города в километрах (переведите из м в км и округлите до целых значений)\n",
    "\n",
    "data['centr_km'] = (data['cityCenters_nearest']/1000)"
   ]
  },
  {
   "cell_type": "code",
   "execution_count": 36,
   "metadata": {
    "scrolled": true
   },
   "outputs": [],
   "source": [
    "data['centr_km'] = (data[data['centr_km'].notnull()]['centr_km']).astype('int')"
   ]
  },
  {
   "cell_type": "markdown",
   "metadata": {},
   "source": [
    "### Исследовательский анализ данных"
   ]
  },
  {
   "cell_type": "markdown",
   "metadata": {},
   "source": [
    "#### Анализ данных"
   ]
  },
  {
   "cell_type": "code",
   "execution_count": 37,
   "metadata": {},
   "outputs": [
    {
     "data": {
      "text/plain": [
       "Text(0, 0.5, 'Количество объектов')"
      ]
     },
     "execution_count": 37,
     "metadata": {},
     "output_type": "execute_result"
    },
    {
     "data": {
      "image/png": "[encoded data removed]",
      "text/plain": [
       "<Figure size 432x288 with 1 Axes>"
      ]
     },
     "metadata": {
      "needs_background": "light"
     },
     "output_type": "display_data"
    }
   ],
   "source": [
    "# гисторамма общей площади\n",
    "\n",
    "data.hist('total_area', bins=50, range=(0, 200))\n",
    "\n",
    "plt.title('Распределение общей площади')\n",
    "plt.xlabel('Общая площадь, в метрах квадратных')\n",
    "plt.ylabel('Количество объектов')"
   ]
  },
  {
   "cell_type": "markdown",
   "metadata": {},
   "source": [
    "- общая площадь - наиболее частое значение в диапазоне от 30 до 50 м2- скорее всего это однокомнатные квартиры и студии их больше всего, при этом есть объекты очень большой площади - из количество логично уменьшается с увеличением площади; "
   ]
  },
  {
   "cell_type": "code",
   "execution_count": 38,
   "metadata": {},
   "outputs": [
    {
     "data": {
      "text/plain": [
       "Text(0, 0.5, 'Количество объектов')"
      ]
     },
     "execution_count": 38,
     "metadata": {},
     "output_type": "execute_result"
    },
    {
     "data": {
      "image/png": "[encoded data removed]",
      "text/plain": [
       "<Figure size 432x288 with 1 Axes>"
      ]
     },
     "metadata": {
      "needs_background": "light"
     },
     "output_type": "display_data"
    }
   ],
   "source": [
    "# жилая площадь\n",
    "data.hist('living_area', bins=100, range=(0, 100))\n",
    "\n",
    "plt.title('Распределение жилой площади')\n",
    "plt.xlabel('Жилая площадь, в метрах квадратных')\n",
    "plt.ylabel('Количество объектов')"
   ]
  },
  {
   "cell_type": "markdown",
   "metadata": {},
   "source": [
    "- жилая площадь - ярко выражены три пика 18, 30 и 50 м2, можно предположить, что это характерно для самых массовых категорий: однокомнатные, двухкомнатные и трёхкомнатные квартиры;"
   ]
  },
  {
   "cell_type": "code",
   "execution_count": 39,
   "metadata": {},
   "outputs": [
    {
     "data": {
      "text/plain": [
       "Text(0, 0.5, 'Количество объектов')"
      ]
     },
     "execution_count": 39,
     "metadata": {},
     "output_type": "execute_result"
    },
    {
     "data": {
      "image/png": "[encoded data removed]",
      "text/plain": [
       "<Figure size 432x288 with 1 Axes>"
      ]
     },
     "metadata": {
      "needs_background": "light"
     },
     "output_type": "display_data"
    }
   ],
   "source": [
    "#площадь кухни;\n",
    "data.hist('kitchen_area', bins=30, range=(0, 40))\n",
    "\n",
    "plt.title('Распределение площади кухни')\n",
    "plt.xlabel('Площадь кухни в метрах квадратных')\n",
    "plt.ylabel('Количество объектов')"
   ]
  },
  {
   "cell_type": "markdown",
   "metadata": {},
   "source": [
    "- площадь кухни - большинство кухонь небольшие - в диапазоне от 5 до 10 метров;"
   ]
  },
  {
   "cell_type": "code",
   "execution_count": 40,
   "metadata": {},
   "outputs": [
    {
     "data": {
      "image/png": "[encoded data removed]",
      "text/plain": [
       "<Figure size 432x288 with 1 Axes>"
      ]
     },
     "metadata": {
      "needs_background": "light"
     },
     "output_type": "display_data"
    },
    {
     "data": {
      "text/plain": [
       "Text(0, 0.5, 'Количество объектов')"
      ]
     },
     "execution_count": 40,
     "metadata": {},
     "output_type": "execute_result"
    },
    {
     "data": {
      "image/png": "[encoded data removed]",
      "text/plain": [
       "<Figure size 432x288 with 1 Axes>"
      ]
     },
     "metadata": {
      "needs_background": "light"
     },
     "output_type": "display_data"
    }
   ],
   "source": [
    "#цена объекта;\n",
    "data.hist('last_price', bins=75, range=(0, 17500000))\n",
    "plt.title('Распределение цены за объект')\n",
    "plt.xlabel('Цена за объект, в миллионах рублей')\n",
    "plt.ylabel('Количество объектов')\n",
    "\n",
    "plt.show()\n",
    "\n",
    "data.hist('price_per_sqtm', bins=75, range=(0, 200000))\n",
    "plt.title('Распределение цены за квадратный метр')\n",
    "plt.xlabel('Цена за метр квадратный, в рублях')\n",
    "plt.ylabel('Количество объектов')"
   ]
  },
  {
   "cell_type": "markdown",
   "metadata": {},
   "source": [
    "- цена объекта - большинство объектов имеет стоимость от 2,5 до 5 млн. рублей;"
   ]
  },
  {
   "cell_type": "code",
   "execution_count": 41,
   "metadata": {},
   "outputs": [
    {
     "data": {
      "text/plain": [
       "Text(0, 0.5, 'Количество объектов')"
      ]
     },
     "execution_count": 41,
     "metadata": {},
     "output_type": "execute_result"
    },
    {
     "data": {
      "image/png": "[encoded data removed]",
      "text/plain": [
       "<Figure size 432x288 with 1 Axes>"
      ]
     },
     "metadata": {
      "needs_background": "light"
     },
     "output_type": "display_data"
    }
   ],
   "source": [
    "# количество комнат;\n",
    "sns.countplot(x=data['rooms'])\n",
    "\n",
    "plt.title('Распределение количества комнат')\n",
    "plt.xlabel('Количество комнат')\n",
    "plt.ylabel('Количество объектов')\n",
    "\n"
   ]
  },
  {
   "cell_type": "markdown",
   "metadata": {},
   "source": [
    "- количество комнат - больше всего однокомнатных и двухкомнатных почти по 8000, трёшек меньше 6000. Ноль комнат характерно для студий, их совесем мало. Также чем больше комнат, тем реже встречается объект;"
   ]
  },
  {
   "cell_type": "code",
   "execution_count": 42,
   "metadata": {},
   "outputs": [
    {
     "data": {
      "text/plain": [
       "Text(0, 0.5, 'Количество объектов')"
      ]
     },
     "execution_count": 42,
     "metadata": {},
     "output_type": "execute_result"
    },
    {
     "data": {
      "image/png": "[encoded data removed]",
      "text/plain": [
       "<Figure size 432x288 with 1 Axes>"
      ]
     },
     "metadata": {
      "needs_background": "light"
     },
     "output_type": "display_data"
    }
   ],
   "source": [
    "# высота потолков;\n",
    "data.hist('ceiling_height', bins=15, range=(2, 4))\n",
    "\n",
    "plt.title('Распределение высоты потолков')\n",
    "plt.xlabel('Высота потолков')\n",
    "plt.ylabel('Количество объектов')"
   ]
  },
  {
   "cell_type": "markdown",
   "metadata": {},
   "source": [
    "- высота потолков - в основном стандартные, около 2,5 метров, в дорогих объектах встречаются очень высокие;"
   ]
  },
  {
   "cell_type": "code",
   "execution_count": 43,
   "metadata": {},
   "outputs": [
    {
     "data": {
      "text/plain": [
       "Text(0, 0.5, 'Количество объектов')"
      ]
     },
     "execution_count": 43,
     "metadata": {},
     "output_type": "execute_result"
    },
    {
     "data": {
      "image/png": "[encoded data removed]",
      "text/plain": [
       "<Figure size 432x288 with 1 Axes>"
      ]
     },
     "metadata": {
      "needs_background": "light"
     },
     "output_type": "display_data"
    }
   ],
   "source": [
    "# этаж квартиры;\n",
    "\n",
    "data.hist('floor', bins=50, range=(1, 25))\n",
    "\n",
    "plt.title('Распределение этажей, на которых находятся объекты')\n",
    "plt.xlabel('Этаж')\n",
    "plt.ylabel('Количество объектов')"
   ]
  },
  {
   "cell_type": "markdown",
   "metadata": {},
   "source": [
    "- этаж квартиры - в большинстве этаж с 1 по 5;"
   ]
  },
  {
   "cell_type": "code",
   "execution_count": 44,
   "metadata": {},
   "outputs": [
    {
     "data": {
      "text/plain": [
       "Text(0, 0.5, 'Количество объектов')"
      ]
     },
     "execution_count": 44,
     "metadata": {},
     "output_type": "execute_result"
    },
    {
     "data": {
      "image/png": "[encoded data removed]",
      "text/plain": [
       "<Figure size 432x288 with 1 Axes>"
      ]
     },
     "metadata": {
      "needs_background": "light"
     },
     "output_type": "display_data"
    }
   ],
   "source": [
    "# тип этажа квартиры («первый», «последний», «другой»);\n",
    "\n",
    "sns.countplot(x=data['floor_cat'])\n",
    "\n",
    "plt.title('Распределение объектов по типам этажей')\n",
    "plt.xlabel('Тип этажа')\n",
    "plt.ylabel('Количество объектов')"
   ]
  },
  {
   "cell_type": "markdown",
   "metadata": {},
   "source": [
    "- тип этажа квартиры («первый», «последний», «другой») - перый и последний встречаются реже - по 2000 объектов, другие этажи 16000;"
   ]
  },
  {
   "cell_type": "code",
   "execution_count": 45,
   "metadata": {},
   "outputs": [
    {
     "data": {
      "text/plain": [
       "Text(0, 0.5, 'Количество объектов')"
      ]
     },
     "execution_count": 45,
     "metadata": {},
     "output_type": "execute_result"
    },
    {
     "data": {
      "image/png": "[encoded data removed]",
      "text/plain": [
       "<Figure size 432x288 with 1 Axes>"
      ]
     },
     "metadata": {
      "needs_background": "light"
     },
     "output_type": "display_data"
    }
   ],
   "source": [
    "# общее количество этажей в доме;\n",
    "sns.countplot(x=data['floors_total'])\n",
    "\n",
    "plt.title('Распределение этажности домов')\n",
    "plt.xlabel('Количество этажей в доме')\n",
    "plt.ylabel('Количество объектов')"
   ]
  },
  {
   "cell_type": "markdown",
   "metadata": {},
   "source": [
    "- общее количество этажей в доме - в основном это 5ти и 9ти этажные дома;"
   ]
  },
  {
   "cell_type": "code",
   "execution_count": 46,
   "metadata": {},
   "outputs": [
    {
     "data": {
      "text/plain": [
       "Text(0, 0.5, 'Количество объектов')"
      ]
     },
     "execution_count": 46,
     "metadata": {},
     "output_type": "execute_result"
    },
    {
     "data": {
      "image/png": "[encoded data removed]",
      "text/plain": [
       "<Figure size 432x288 with 1 Axes>"
      ]
     },
     "metadata": {
      "needs_background": "light"
     },
     "output_type": "display_data"
    }
   ],
   "source": [
    "# расстояние до центра города в метрах;\n",
    "\n",
    "data.hist('cityCenters_nearest', bins=75, range=(0, 35000))\n",
    "\n",
    "plt.title('Распределение по расстоянию до центра города')\n",
    "plt.xlabel('Расстояние до центра, в метрах')\n",
    "plt.ylabel('Количество объектов')"
   ]
  },
  {
   "cell_type": "markdown",
   "metadata": {},
   "source": [
    "- расстояние до центра города в метрах - 10-15 км - удаленность от центра большинства объектов;"
   ]
  },
  {
   "cell_type": "code",
   "execution_count": 47,
   "metadata": {},
   "outputs": [
    {
     "data": {
      "text/plain": [
       "Text(0, 0.5, 'Количество объектов')"
      ]
     },
     "execution_count": 47,
     "metadata": {},
     "output_type": "execute_result"
    },
    {
     "data": {
      "image/png": "[encoded data removed]",
      "text/plain": [
       "<Figure size 432x288 with 1 Axes>"
      ]
     },
     "metadata": {
      "needs_background": "light"
     },
     "output_type": "display_data"
    }
   ],
   "source": [
    "# расстояние до ближайшего аэропорта;\n",
    "\n",
    "data.hist('airports_nearest', bins=30, range=(5000, 75000))\n",
    "plt.title('Распределение по расстоянию до аэропорта')\n",
    "plt.xlabel('Расстояние до аэропорта, в метрах')\n",
    "plt.ylabel('Количество объектов')"
   ]
  },
  {
   "cell_type": "markdown",
   "metadata": {},
   "source": [
    "- расстояние до ближайшего аэропорта - в основном от 10 до 40 км;"
   ]
  },
  {
   "cell_type": "code",
   "execution_count": 48,
   "metadata": {},
   "outputs": [
    {
     "data": {
      "text/plain": [
       "Text(0, 0.5, 'Количество объектов')"
      ]
     },
     "execution_count": 48,
     "metadata": {},
     "output_type": "execute_result"
    },
    {
     "data": {
      "image/png": "[encoded data removed]",
      "text/plain": [
       "<Figure size 432x288 with 1 Axes>"
      ]
     },
     "metadata": {
      "needs_background": "light"
     },
     "output_type": "display_data"
    }
   ],
   "source": [
    "# расстояние до ближайшего парка;\n",
    "\n",
    "data.hist('parks_nearest', bins=25, range=(0, 2500))\n",
    "plt.title('Распределение по расстоянию до парка')\n",
    "plt.xlabel('Расстояние до парка в метрах')\n",
    "plt.ylabel('Количество объектов')"
   ]
  },
  {
   "cell_type": "markdown",
   "metadata": {},
   "source": [
    "- расстояние до ближайшего парка - зачастую парк есть в пределах 750 метров;"
   ]
  },
  {
   "cell_type": "code",
   "execution_count": 49,
   "metadata": {},
   "outputs": [
    {
     "data": {
      "image/png": "[encoded data removed]",
      "text/plain": [
       "<Figure size 432x288 with 1 Axes>"
      ]
     },
     "metadata": {
      "needs_background": "light"
     },
     "output_type": "display_data"
    },
    {
     "data": {
      "text/plain": [
       "Text(0, 0.5, 'Количество объектов')"
      ]
     },
     "execution_count": 49,
     "metadata": {},
     "output_type": "execute_result"
    },
    {
     "data": {
      "image/png": "[encoded data removed]",
      "text/plain": [
       "<Figure size 432x288 with 1 Axes>"
      ]
     },
     "metadata": {
      "needs_background": "light"
     },
     "output_type": "display_data"
    }
   ],
   "source": [
    "sns.countplot(x=data['day_public'])\n",
    "plt.title('Распределение по дням публикации')\n",
    "plt.xlabel('День публикации')\n",
    "plt.ylabel('Количество объектов')\n",
    "\n",
    "plt.show()\n",
    "\n",
    "sns.countplot(x=data['month_public'])\n",
    "plt.title('Распределение по месяцам')\n",
    "plt.xlabel('Месяц')\n",
    "plt.ylabel('Количество объектов')"
   ]
  },
  {
   "cell_type": "markdown",
   "metadata": {},
   "source": [
    "- день и месяц публикации объявления - зачастую объявления размещают по будням, по выходным реже. январь, май и декабрь наименее популярные месяца, а в феврале, марте и апреле пиковые значения, с лета до декабря количество объявлений планомерно увеличивается."
   ]
  },
  {
   "cell_type": "markdown",
   "metadata": {},
   "source": [
    "#### Как быстро продавались квартиры или сколько дней было размещено каждое объявление?\n",
    "\n",
    "среднее значение - 181 день\n",
    "медианное значение - 95 дней\n",
    "\n",
    "Медиана в два раза меньше среднего значения - обуславливается длинным хвостом диаграммы вправо - более 3000 объектов были выставлены более года (если не брать их в рассчет, то среднее = 104, медиана = 74).\n",
    "\n",
    "Объекты проданные меньше, чем за 45 дней можно считать быстрыми; дольше 232 дней - долгими"
   ]
  },
  {
   "cell_type": "code",
   "execution_count": 50,
   "metadata": {},
   "outputs": [
    {
     "data": {
      "text/plain": [
       "Text(0, 0.5, 'Количество объектов')"
      ]
     },
     "execution_count": 50,
     "metadata": {},
     "output_type": "execute_result"
    },
    {
     "data": {
      "image/png": "[encoded data removed]",
      "text/plain": [
       "<Figure size 432x288 with 1 Axes>"
      ]
     },
     "metadata": {
      "needs_background": "light"
     },
     "output_type": "display_data"
    }
   ],
   "source": [
    "data['days_exposition'].hist(bins=30, range=(0,700))\n",
    "\n",
    "plt.title('Распределение по количеству дней публикации')\n",
    "plt.xlabel('Количество дней публикации')\n",
    "plt.ylabel('Количество объектов')"
   ]
  },
  {
   "cell_type": "markdown",
   "metadata": {},
   "source": [
    "Количество опубликованных объявлений закономерно уменьшается со временем, но немного удивляет, что в среднем одно объевление \"висит\" около 200 дней, а некоторые до 2ух лет. Тут можно предположить, что их просто не убирают после продажи."
   ]
  },
  {
   "cell_type": "code",
   "execution_count": 51,
   "metadata": {},
   "outputs": [
    {
     "data": {
      "text/plain": [
       "count    20069.000000\n",
       "mean       180.944342\n",
       "std        220.202067\n",
       "min          1.000000\n",
       "25%         45.000000\n",
       "50%         95.000000\n",
       "75%        231.000000\n",
       "max       1580.000000\n",
       "Name: days_exposition, dtype: float64"
      ]
     },
     "execution_count": 51,
     "metadata": {},
     "output_type": "execute_result"
    }
   ],
   "source": [
    "data['days_exposition'].describe()"
   ]
  },
  {
   "cell_type": "markdown",
   "metadata": {},
   "source": [
    "#### Определяем какой фактор больше всего влияет на общую (полную) стоимость объекта.\n",
    "\n",
    "Строим графики, которые покажут зависимость цены от указанных ниже параметров. \n",
    "        \n",
    "        - общей площади;\n",
    "        \n",
    "        - жилой площади;\n",
    "        \n",
    "        - площади кухни;\n",
    "        \n",
    "        - количество комнат;\n",
    "        \n",
    "        - типа этажа, на котором расположена квартира (первый, последний, другой);\n",
    "        \n",
    "        - даты размещения (день недели, месяц, год);"
   ]
  },
  {
   "cell_type": "code",
   "execution_count": 52,
   "metadata": {},
   "outputs": [
    {
     "name": "stdout",
     "output_type": "stream",
     "text": [
      "Коэффициент корреляции last_price с total_area = 0.6817528276995841\n",
      "Коэффициент корреляции last_price с living_area = 0.5890868146822015\n",
      "Коэффициент корреляции last_price с kitchen_area = 0.50667207149543\n",
      "Коэффициент корреляции last_price с rooms = 0.3682245612483457\n",
      "Коэффициент корреляции last_price с day_public = 0.0021755571710322746\n",
      "Коэффициент корреляции last_price с month_public = -0.004368633124261326\n",
      "Коэффициент корреляции last_price с year_public = -0.050966211061705693\n"
     ]
    }
   ],
   "source": [
    "# цикл вывода коэффициента корреляции цены от указанных параметров\n",
    "\n",
    "for col in ['total_area', 'living_area', 'kitchen_area', 'rooms', 'day_public', 'month_public', 'year_public']:\n",
    "    print('Коэффициент корреляции last_price с', col, '=', data['last_price'].corr(data[col]))"
   ]
  },
  {
   "cell_type": "code",
   "execution_count": 53,
   "metadata": {
    "scrolled": false
   },
   "outputs": [
    {
     "data": {
      "image/png": "[encoded data removed]",
      "text/plain": [
       "<Figure size 432x288 with 1 Axes>"
      ]
     },
     "metadata": {
      "needs_background": "light"
     },
     "output_type": "display_data"
    },
    {
     "data": {
      "image/png": "[encoded data removed]",
      "text/plain": [
       "<Figure size 432x288 with 1 Axes>"
      ]
     },
     "metadata": {
      "needs_background": "light"
     },
     "output_type": "display_data"
    },
    {
     "data": {
      "image/png": "[encoded data removed]",
      "text/plain": [
       "<Figure size 432x288 with 1 Axes>"
      ]
     },
     "metadata": {
      "needs_background": "light"
     },
     "output_type": "display_data"
    }
   ],
   "source": [
    "# графики зависимотси цены от указанных параметров\n",
    "\n",
    "for col in ['total_area', 'living_area', 'kitchen_area']:\n",
    "    data.plot(x=col, y='last_price', kind='scatter', ylim=(0, 10**8))"
   ]
  },
  {
   "cell_type": "code",
   "execution_count": 54,
   "metadata": {
    "scrolled": false
   },
   "outputs": [
    {
     "data": {
      "image/png": "[encoded data removed]",
      "text/plain": [
       "<Figure size 720x360 with 1 Axes>"
      ]
     },
     "metadata": {
      "needs_background": "light"
     },
     "output_type": "display_data"
    },
    {
     "data": {
      "image/png": "[encoded data removed]",
      "text/plain": [
       "<Figure size 720x360 with 1 Axes>"
      ]
     },
     "metadata": {
      "needs_background": "light"
     },
     "output_type": "display_data"
    },
    {
     "data": {
      "image/png": "[encoded data removed]",
      "text/plain": [
       "<Figure size 720x360 with 1 Axes>"
      ]
     },
     "metadata": {
      "needs_background": "light"
     },
     "output_type": "display_data"
    },
    {
     "data": {
      "image/png": "[encoded data removed]",
      "text/plain": [
       "<Figure size 720x360 with 1 Axes>"
      ]
     },
     "metadata": {
      "needs_background": "light"
     },
     "output_type": "display_data"
    }
   ],
   "source": [
    "for col in ['rooms', 'day_public', 'month_public', 'year_public']:\n",
    "    data.pivot_table(index=col, values='last_price', aggfunc='median').plot(grid=True, figsize=(10, 5))\n"
   ]
  },
  {
   "cell_type": "code",
   "execution_count": 55,
   "metadata": {},
   "outputs": [
    {
     "data": {
      "text/html": [
       "<div>\n",
       "<style scoped>\n",
       "    .dataframe tbody tr th:only-of-type {\n",
       "        vertical-align: middle;\n",
       "    }\n",
       "\n",
       "    .dataframe tbody tr th {\n",
       "        vertical-align: top;\n",
       "    }\n",
       "\n",
       "    .dataframe thead tr th {\n",
       "        text-align: left;\n",
       "    }\n",
       "\n",
       "    .dataframe thead tr:last-of-type th {\n",
       "        text-align: right;\n",
       "    }\n",
       "</style>\n",
       "<table border=\"1\" class=\"dataframe\">\n",
       "  <thead>\n",
       "    <tr>\n",
       "      <th></th>\n",
       "      <th>median</th>\n",
       "    </tr>\n",
       "    <tr>\n",
       "      <th></th>\n",
       "      <th>last_price</th>\n",
       "    </tr>\n",
       "    <tr>\n",
       "      <th>floor_cat</th>\n",
       "      <th></th>\n",
       "    </tr>\n",
       "  </thead>\n",
       "  <tbody>\n",
       "    <tr>\n",
       "      <th>другой</th>\n",
       "      <td>4850000.0</td>\n",
       "    </tr>\n",
       "    <tr>\n",
       "      <th>первый</th>\n",
       "      <td>3900000.0</td>\n",
       "    </tr>\n",
       "    <tr>\n",
       "      <th>последний</th>\n",
       "      <td>4300000.0</td>\n",
       "    </tr>\n",
       "  </tbody>\n",
       "</table>\n",
       "</div>"
      ],
      "text/plain": [
       "              median\n",
       "          last_price\n",
       "floor_cat           \n",
       "другой     4850000.0\n",
       "первый     3900000.0\n",
       "последний  4300000.0"
      ]
     },
     "execution_count": 55,
     "metadata": {},
     "output_type": "execute_result"
    }
   ],
   "source": [
    "data.pivot_table(index='floor_cat', values=['last_price'], aggfunc=['median'])"
   ]
  },
  {
   "cell_type": "markdown",
   "metadata": {},
   "source": [
    "Самые дешевые квартиры на первом этаже. На последнем дороже, чем на первом, но дешевле, чем на других."
   ]
  },
  {
   "cell_type": "markdown",
   "metadata": {},
   "source": [
    "#### \"Cчитаем среднюю цену одного квадратного метра в 10 населённых пунктах с наибольшим числом объявлений. Выделяем населённые пункты с самой высокой и низкой стоимостью квадратного метра."
   ]
  },
  {
   "cell_type": "code",
   "execution_count": 56,
   "metadata": {},
   "outputs": [
    {
     "name": "stdout",
     "output_type": "stream",
     "text": [
      "                   count         mean_m\n",
      "locality_name                          \n",
      "Санкт-Петербург    15418  114419.672855\n",
      "посёлок Мурино       533   85446.339344\n",
      "посёлок Шушары       425   77926.207140\n",
      "Всеволожск           390   68675.856802\n",
      "Пушкин               365  103046.435755\n",
      "Колпино              335   75302.822323\n",
      "Гатчина              306   68935.194838\n",
      "посёлок Парголово    306   89762.325778\n",
      "деревня Кудрово      293   92527.306322\n",
      "Выборг               233   58070.254217\n"
     ]
    },
    {
     "data": {
      "text/html": [
       "<div>\n",
       "<style scoped>\n",
       "    .dataframe tbody tr th:only-of-type {\n",
       "        vertical-align: middle;\n",
       "    }\n",
       "\n",
       "    .dataframe tbody tr th {\n",
       "        vertical-align: top;\n",
       "    }\n",
       "\n",
       "    .dataframe thead th {\n",
       "        text-align: right;\n",
       "    }\n",
       "</style>\n",
       "<table border=\"1\" class=\"dataframe\">\n",
       "  <thead>\n",
       "    <tr style=\"text-align: right;\">\n",
       "      <th></th>\n",
       "      <th>count</th>\n",
       "      <th>mean_m</th>\n",
       "    </tr>\n",
       "    <tr>\n",
       "      <th>locality_name</th>\n",
       "      <th></th>\n",
       "      <th></th>\n",
       "    </tr>\n",
       "  </thead>\n",
       "  <tbody>\n",
       "    <tr>\n",
       "      <th>Санкт-Петербург</th>\n",
       "      <td>15418</td>\n",
       "      <td>114419.672855</td>\n",
       "    </tr>\n",
       "    <tr>\n",
       "      <th>Выборг</th>\n",
       "      <td>233</td>\n",
       "      <td>58070.254217</td>\n",
       "    </tr>\n",
       "  </tbody>\n",
       "</table>\n",
       "</div>"
      ],
      "text/plain": [
       "                 count         mean_m\n",
       "locality_name                        \n",
       "Санкт-Петербург  15418  114419.672855\n",
       "Выборг             233   58070.254217"
      ]
     },
     "execution_count": 56,
     "metadata": {},
     "output_type": "execute_result"
    }
   ],
   "source": [
    "# сводная таблица по городам со средней стоимостью метра и количеством объявлений\n",
    "data_pivot_m = data.pivot_table(index='locality_name', values='price_per_sqtm', aggfunc=['count','mean'])\n",
    "\n",
    "# переименовываем столбцы для удобства\n",
    "data_pivot_m.columns=['count', 'mean_m']\n",
    "\n",
    "# выводим топ-10 по количеству объявлений\n",
    "top_ten = data_pivot_m.sort_values('count', ascending=False).head(10)\n",
    "print(top_ten)\n",
    "\n",
    "\n",
    "# выводим населённые пункты с минимальной и максимальной стоимостью квадратного метра\n",
    "top_ten[(top_ten['mean_m'] == min(top_ten['mean_m']))|(top_ten['mean_m'] == max(top_ten['mean_m']))]\n"
   ]
  },
  {
   "cell_type": "markdown",
   "metadata": {},
   "source": [
    "#### Вычисление средней цены каждого километра. Опишите, как стоимость объектов зависит от расстояния до центра города."
   ]
  },
  {
   "cell_type": "code",
   "execution_count": 57,
   "metadata": {},
   "outputs": [
    {
     "data": {
      "text/plain": [
       "0        16.0\n",
       "1        18.0\n",
       "2        13.0\n",
       "3         6.0\n",
       "4         8.0\n",
       "         ... \n",
       "23693    34.0\n",
       "23694     4.0\n",
       "23695     NaN\n",
       "23696     NaN\n",
       "23697    10.0\n",
       "Name: centr_km, Length: 23184, dtype: float64"
      ]
     },
     "execution_count": 57,
     "metadata": {},
     "output_type": "execute_result"
    }
   ],
   "source": [
    "data['centr_km']"
   ]
  },
  {
   "cell_type": "code",
   "execution_count": 58,
   "metadata": {
    "scrolled": false
   },
   "outputs": [
    {
     "data": {
      "text/plain": [
       "Text(0, 0.5, 'Средняя стоимость квадратного метра')"
      ]
     },
     "execution_count": 58,
     "metadata": {},
     "output_type": "execute_result"
    },
    {
     "data": {
      "image/png": "[encoded data removed]",
      "text/plain": [
       "<Figure size 720x360 with 1 Axes>"
      ]
     },
     "metadata": {
      "needs_background": "light"
     },
     "output_type": "display_data"
    }
   ],
   "source": [
    "(data\n",
    "    .query('locality_name == \"Санкт-Петербург\"')\n",
    "    .pivot_table(index='centr_km', values='price_per_sqtm')\n",
    "    .plot(grid=True, figsize=(10, 5))\n",
    ")\n",
    "\n",
    "plt.title('Зависимость цены квадратного метра от расстояния до центра')\n",
    "plt.xlabel('Расстояние до центра города, в километрах')\n",
    "plt.ylabel('Средняя стоимость квадратного метра')"
   ]
  },
  {
   "cell_type": "code",
   "execution_count": 59,
   "metadata": {},
   "outputs": [
    {
     "data": {
      "text/plain": [
       "Text(0, 0.5, 'Средняя стоимость объекта')"
      ]
     },
     "execution_count": 59,
     "metadata": {},
     "output_type": "execute_result"
    },
    {
     "data": {
      "image/png": "[encoded data removed]",
      "text/plain": [
       "<Figure size 720x360 with 1 Axes>"
      ]
     },
     "metadata": {
      "needs_background": "light"
     },
     "output_type": "display_data"
    }
   ],
   "source": [
    "(data\n",
    "    .query('locality_name == \"Санкт-Петербург\"')\n",
    "    .pivot_table(index='centr_km', values='last_price')\n",
    "    .plot(grid=True, figsize=(10, 5))\n",
    ")\n",
    "\n",
    "plt.title('Зависимость общей цены объекта от расстояния до центра')\n",
    "plt.xlabel('Расстояние до центра города, в километрах')\n",
    "plt.ylabel('Средняя стоимость объекта')"
   ]
  },
  {
   "cell_type": "markdown",
   "metadata": {},
   "source": [
    "### Общий вывод"
   ]
  },
  {
   "cell_type": "markdown",
   "metadata": {},
   "source": [
    "Проведен анализ архива объявлений о продаже квартир в Санкт-Петербурге и соседних населённых пунктов за период с 2014 по 2019 годы. Большую часть выбокри (15505 из 23699) составялют объекты из Санкт-Петербурга.\n",
    "\n",
    "Первое, на что нужно обратить внимение - большое количество пропусков в данных, как картографических, так и пользовательских. Часть была дозаполнена исходя их логики (отсутствие балконов, отнесение к типу \"апартаменты\"). Для формирования окончательного вывода по исследованию требуется уточнение исходных данных по полям `living_area, kitchen_area, ceiling_height, days_exposition, cityCenters_nearest`.\n",
    "\n",
    "Исходя из цели анализа - установить параметры объявлений о продаже, влияющие на рыночную стоимость объектов недвижимости, для отслеживания аномалий и мошеннической деятельности - на основании построенных графиков и подсчитанных коэффициентах корреляции, можно сделать следующие выводы:\n",
    "\n",
    "1. Параметры, которые более всего влияют на общую стоимость:\n",
    "    - `общая площать`\n",
    "        Стоимость увеличивается при увеличении общей площади. Наиболее частое значение в диапазоне от 30 до 50 м2 - это однокомнатные квартиры и студии их больше всего, при этом есть объекты очень большой площади - их количество уменьшается с увеличением площади.\n",
    "                \n",
    "    - `жилая площадь`\n",
    "        Зависит от общей, и соответственно тоже чем больше, тем выше стоимость. Ярко выражены три пика 18, 30 и 50 м2, можно предположить, что это характерно для самых массовых категорий: однокомнатные, двухкомнатные и трёхкомнатные квартиры\n",
    "        \n",
    "    - `количество комнат`\n",
    "        Чем больше комнат, тем выше цена, что логично, т.к. количество комнат напрямую связано с жилой площадью.\n",
    "        \n",
    "    - `площадь кухни`\n",
    "       Также как и жилая влияет на общую стоимость. При этом большинство кухонь небольшие - в диапазоне от 5 до 10 метров\n",
    "    \n",
    "    - `удаленность от центра`\n",
    "        Стоимость объектов падает при удаленни от центра населенного пункта. В перелах нескольких километров от центра цена резко возрастает. Есть некоторые аномальные выбросы, на которые стоит обратить внимение - возможно тут присутстует элемент мошенничества.\n",
    "\n",
    "2. Объекты проданные меньше, чем за 45 дней можно считать быстрыми, а дольше 232 дней - долгими\n",
    "\n",
    "3. Зачастую объявления размещают по будням, по выходным реже. Январь, май и декабрь наименее популярные месяца, а в феврале, марте и апреле пиковые значения, с лета до декабря количество объявлений планомерно увеличивается.\n",
    "\n",
    "4. Объекты на первом и последнем этажах встречаются реже остальных и их цена в среднем ниже. Самые дешевые квартиры на первом этаже. На последнем дороже, чем на первом, но дешевле, чем на других.\n"
   ]
  },
  {
   "cell_type": "markdown",
   "metadata": {},
   "source": [
    "**Чек-лист готовности проекта**\n",
    "\n",
    "Поставьте 'x' в выполненных пунктах. Далее нажмите Shift+Enter."
   ]
  },
  {
   "cell_type": "markdown",
   "metadata": {},
   "source": [
    "- [x]  открыт файл\n",
    "- [x]  файлы изучены (выведены первые строки, метод `info()`, гистограммы и т.д.)\n",
    "- [x]  определены пропущенные значения\n",
    "- [x]  заполнены пропущенные значения там, где это возможно\n",
    "- [x]  есть пояснение, какие пропущенные значения обнаружены\n",
    "- [x]  изменены типы данных\n",
    "- [x]  есть пояснение, в каких столбцах изменены типы и почему\n",
    "- [x]  устранены неявные дубликаты в названиях населённых пунктов\n",
    "- [x]  устранены редкие и выбивающиеся значения (аномалии) во всех столбцах\n",
    "- [x]  посчитано и добавлено в таблицу: цена одного квадратного метра\n",
    "- [x]  посчитано и добавлено в таблицу: день публикации объявления (0 - понедельник, 1 - вторник и т.д.)\n",
    "- [x]  посчитано и добавлено в таблицу: месяц публикации объявления\n",
    "- [x]  посчитано и добавлено в таблицу: год публикации объявления\n",
    "- [x]  посчитано и добавлено в таблицу: тип этажа квартиры (значения — «первый», «последний», «другой»)\n",
    "- [x]  посчитано и добавлено в таблицу: расстояние в км до центра города\n",
    "- [x]  изучены и описаны следующие параметры:\n",
    "        - общая площадь;\n",
    "        - жилая площадь;\n",
    "        - площадь кухни;\n",
    "        - цена объекта;\n",
    "        - количество комнат;\n",
    "        - высота потолков;\n",
    "        - этаж квартиры;\n",
    "        - тип этажа квартиры («первый», «последний», «другой»);\n",
    "        - общее количество этажей в доме;\n",
    "        - расстояние до центра города в метрах;\n",
    "        - расстояние до ближайшего аэропорта;\n",
    "        - расстояние до ближайшего парка;\n",
    "        - день и месяц публикации объявления\n",
    "- [x]  построены гистограммы для каждого параметра\n",
    "- [x]  выполнено задание: \"Изучите, как быстро продавались квартиры (столбец days_exposition). Этот параметр показывает, сколько дней «висело» каждое объявление.\n",
    "    - Постройте гистограмму.\n",
    "    - Посчитайте среднее и медиану.\n",
    "    - В ячейке типа markdown опишите, сколько обычно занимает продажа. Какие продажи можно считать быстрыми, а какие — необычно долгими?\"\n",
    "- [x]  выполнено задание: \"Какие факторы больше всего влияют на общую (полную) стоимость объекта? Постройте графики, которые покажут зависимость цены от указанных ниже параметров. Для подготовки данных перед визуализацией вы можете использовать сводные таблицы.\"\n",
    "        - общей площади;\n",
    "        - жилой площади;\n",
    "        - площади кухни;\n",
    "        - количество комнат;\n",
    "        - типа этажа, на котором расположена квартира (первый, последний, другой);\n",
    "        - даты размещения (день недели, месяц, год);\n",
    "- [x]  выполнено задание: \"Посчитайте среднюю цену одного квадратного метра в 10 населённых пунктах с наибольшим числом объявлений. Выделите населённые пункты с самой высокой и низкой стоимостью квадратного метра. Эти данные можно найти по имени в столбце `locality_name`.\"\n",
    "- [x]  выполнено задание: \"Ранее вы посчитали расстояние до центра в километрах. Теперь выделите квартиры в Санкт-Петербурге с помощью столбца `locality_name` и вычислите среднюю цену каждого километра. Опишите, как стоимость объектов зависит от расстояния до центра города.\"\n",
    "- [x]  в каждом этапе есть промежуточные выводы\n",
    "- [x]  есть общий вывод"
   ]
  }
 ],
 "metadata": {
  "ExecuteTimeLog": [
   {
    "duration": 530,
    "start_time": "2022-11-25T08:16:23.376Z"
   },
   {
    "duration": 90,
    "start_time": "2022-11-25T08:17:38.212Z"
   },
   {
    "duration": 81,
    "start_time": "2022-11-25T08:17:49.778Z"
   },
   {
    "duration": 75,
    "start_time": "2022-11-25T08:17:59.128Z"
   },
   {
    "duration": 114,
    "start_time": "2022-11-25T08:18:23.924Z"
   },
   {
    "duration": 124,
    "start_time": "2022-11-25T08:18:48.770Z"
   },
   {
    "duration": 407,
    "start_time": "2022-11-25T08:19:23.746Z"
   },
   {
    "duration": 445,
    "start_time": "2022-11-25T08:20:33.761Z"
   },
   {
    "duration": 96,
    "start_time": "2022-11-25T08:21:40.245Z"
   },
   {
    "duration": 509,
    "start_time": "2022-11-25T08:21:49.886Z"
   },
   {
    "duration": 418,
    "start_time": "2022-11-25T08:22:00.785Z"
   },
   {
    "duration": 484,
    "start_time": "2022-11-25T08:22:07.870Z"
   },
   {
    "duration": 410,
    "start_time": "2022-11-25T08:22:09.656Z"
   },
   {
    "duration": 469,
    "start_time": "2022-11-25T08:23:22.298Z"
   },
   {
    "duration": 454,
    "start_time": "2022-11-25T08:23:35.329Z"
   },
   {
    "duration": 476,
    "start_time": "2022-11-25T08:24:02.277Z"
   },
   {
    "duration": 6,
    "start_time": "2022-11-25T08:24:29.000Z"
   },
   {
    "duration": 4,
    "start_time": "2022-11-25T08:24:31.986Z"
   },
   {
    "duration": 2329,
    "start_time": "2022-11-25T08:28:35.272Z"
   },
   {
    "duration": 4,
    "start_time": "2022-11-25T08:33:15.490Z"
   },
   {
    "duration": 25,
    "start_time": "2022-11-25T08:33:27.229Z"
   },
   {
    "duration": 18,
    "start_time": "2022-11-25T08:33:37.428Z"
   },
   {
    "duration": 11,
    "start_time": "2022-11-25T08:33:42.019Z"
   },
   {
    "duration": 9,
    "start_time": "2022-11-25T08:35:54.414Z"
   },
   {
    "duration": 778,
    "start_time": "2022-11-28T05:08:39.058Z"
   },
   {
    "duration": 13,
    "start_time": "2022-11-28T05:09:19.463Z"
   },
   {
    "duration": 8,
    "start_time": "2022-11-28T05:42:28.014Z"
   },
   {
    "duration": 1147,
    "start_time": "2022-11-28T05:48:31.993Z"
   },
   {
    "duration": 1200,
    "start_time": "2022-11-28T05:49:03.632Z"
   },
   {
    "duration": 57,
    "start_time": "2022-11-28T05:49:15.883Z"
   },
   {
    "duration": 37,
    "start_time": "2022-11-28T05:49:23.914Z"
   },
   {
    "duration": 26,
    "start_time": "2022-11-28T05:49:30.351Z"
   },
   {
    "duration": 26,
    "start_time": "2022-11-28T05:49:34.707Z"
   },
   {
    "duration": 35,
    "start_time": "2022-11-28T05:50:33.974Z"
   },
   {
    "duration": 26,
    "start_time": "2022-11-28T05:50:50.832Z"
   },
   {
    "duration": 28,
    "start_time": "2022-11-28T05:52:53.548Z"
   },
   {
    "duration": 32,
    "start_time": "2022-11-28T05:54:25.752Z"
   },
   {
    "duration": 16,
    "start_time": "2022-11-28T05:54:37.590Z"
   },
   {
    "duration": 14,
    "start_time": "2022-11-28T05:54:47.248Z"
   },
   {
    "duration": 30,
    "start_time": "2022-11-28T05:54:51.522Z"
   },
   {
    "duration": 27,
    "start_time": "2022-11-28T06:10:38.051Z"
   },
   {
    "duration": 37,
    "start_time": "2022-11-28T06:10:55.262Z"
   },
   {
    "duration": 11,
    "start_time": "2022-11-28T06:11:53.331Z"
   },
   {
    "duration": 9,
    "start_time": "2022-11-28T06:12:01.895Z"
   },
   {
    "duration": 10,
    "start_time": "2022-11-28T06:12:04.794Z"
   },
   {
    "duration": 25,
    "start_time": "2022-11-28T06:12:14.421Z"
   },
   {
    "duration": 10,
    "start_time": "2022-11-28T06:14:31.410Z"
   },
   {
    "duration": 1218,
    "start_time": "2022-11-28T06:14:39.927Z"
   },
   {
    "duration": 1149,
    "start_time": "2022-11-28T06:14:44.684Z"
   },
   {
    "duration": 49,
    "start_time": "2022-11-28T06:14:53.160Z"
   },
   {
    "duration": 52,
    "start_time": "2022-11-28T06:16:05.720Z"
   },
   {
    "duration": 29,
    "start_time": "2022-11-28T06:28:24.079Z"
   },
   {
    "duration": 7,
    "start_time": "2022-11-28T06:30:53.407Z"
   },
   {
    "duration": 6,
    "start_time": "2022-11-28T06:32:59.996Z"
   },
   {
    "duration": 8,
    "start_time": "2022-11-28T06:33:12.405Z"
   },
   {
    "duration": 8,
    "start_time": "2022-11-28T06:33:26.689Z"
   },
   {
    "duration": 2,
    "start_time": "2022-11-28T06:33:43.439Z"
   },
   {
    "duration": 5,
    "start_time": "2022-11-28T06:33:46.438Z"
   },
   {
    "duration": 4,
    "start_time": "2022-11-28T06:33:48.567Z"
   },
   {
    "duration": 5,
    "start_time": "2022-11-28T06:33:55.660Z"
   },
   {
    "duration": 656,
    "start_time": "2022-11-28T06:34:04.486Z"
   },
   {
    "duration": 367,
    "start_time": "2022-11-28T06:34:12.416Z"
   },
   {
    "duration": 1878,
    "start_time": "2022-11-28T06:34:16.386Z"
   },
   {
    "duration": 13,
    "start_time": "2022-11-28T06:36:23.980Z"
   },
   {
    "duration": 6,
    "start_time": "2022-11-28T06:36:27.326Z"
   },
   {
    "duration": 8,
    "start_time": "2022-11-28T06:36:34.336Z"
   },
   {
    "duration": 4,
    "start_time": "2022-11-28T06:36:44.520Z"
   },
   {
    "duration": 9,
    "start_time": "2022-11-28T06:36:46.895Z"
   },
   {
    "duration": 3,
    "start_time": "2022-11-28T06:37:24.325Z"
   },
   {
    "duration": 49,
    "start_time": "2022-11-28T06:41:04.131Z"
   },
   {
    "duration": 14,
    "start_time": "2022-11-28T06:41:14.589Z"
   },
   {
    "duration": 43,
    "start_time": "2022-11-28T06:41:23.166Z"
   },
   {
    "duration": 9,
    "start_time": "2022-11-28T06:44:20.360Z"
   },
   {
    "duration": 15,
    "start_time": "2022-11-28T06:44:38.591Z"
   },
   {
    "duration": 7,
    "start_time": "2022-11-28T06:44:44.748Z"
   },
   {
    "duration": 5,
    "start_time": "2022-11-28T06:44:59.312Z"
   },
   {
    "duration": 7,
    "start_time": "2022-11-28T06:45:15.507Z"
   },
   {
    "duration": 13,
    "start_time": "2022-11-28T06:45:21.668Z"
   },
   {
    "duration": 9,
    "start_time": "2022-11-28T06:45:53.079Z"
   },
   {
    "duration": 12,
    "start_time": "2022-11-28T06:46:01.143Z"
   },
   {
    "duration": 313,
    "start_time": "2022-11-28T06:46:08.273Z"
   },
   {
    "duration": 5,
    "start_time": "2022-11-28T06:46:48.983Z"
   },
   {
    "duration": 10,
    "start_time": "2022-11-28T06:46:51.876Z"
   },
   {
    "duration": 15,
    "start_time": "2022-11-28T06:47:00.527Z"
   },
   {
    "duration": 6,
    "start_time": "2022-11-28T06:47:58.476Z"
   },
   {
    "duration": 58,
    "start_time": "2022-11-28T06:48:08.415Z"
   },
   {
    "duration": 24,
    "start_time": "2022-11-28T06:48:18.208Z"
   },
   {
    "duration": 19,
    "start_time": "2022-11-28T06:48:46.028Z"
   },
   {
    "duration": 26,
    "start_time": "2022-11-28T06:48:49.538Z"
   },
   {
    "duration": 4,
    "start_time": "2022-11-28T07:22:59.792Z"
   },
   {
    "duration": 9,
    "start_time": "2022-11-28T07:23:03.483Z"
   },
   {
    "duration": 18,
    "start_time": "2022-11-28T07:23:10.914Z"
   },
   {
    "duration": 8,
    "start_time": "2022-11-28T07:24:17.776Z"
   },
   {
    "duration": 8,
    "start_time": "2022-11-28T07:25:39.711Z"
   },
   {
    "duration": 5,
    "start_time": "2022-11-28T07:25:51.730Z"
   },
   {
    "duration": 14,
    "start_time": "2022-11-28T07:25:57.837Z"
   },
   {
    "duration": 13,
    "start_time": "2022-11-28T07:26:04.169Z"
   },
   {
    "duration": 22,
    "start_time": "2022-11-28T07:26:41.871Z"
   },
   {
    "duration": 7,
    "start_time": "2022-11-28T07:29:16.221Z"
   },
   {
    "duration": 9,
    "start_time": "2022-11-28T07:29:17.564Z"
   },
   {
    "duration": 6,
    "start_time": "2022-11-28T07:29:50.332Z"
   },
   {
    "duration": 58,
    "start_time": "2022-11-28T07:30:00.523Z"
   },
   {
    "duration": 11,
    "start_time": "2022-11-28T07:30:29.859Z"
   },
   {
    "duration": 7,
    "start_time": "2022-11-28T07:34:24.130Z"
   },
   {
    "duration": 13,
    "start_time": "2022-11-28T07:34:31.729Z"
   },
   {
    "duration": 9,
    "start_time": "2022-11-28T07:34:45.039Z"
   },
   {
    "duration": 10,
    "start_time": "2022-11-28T07:38:18.786Z"
   },
   {
    "duration": 14,
    "start_time": "2022-11-28T07:44:55.451Z"
   },
   {
    "duration": 37,
    "start_time": "2022-11-28T07:45:35.927Z"
   },
   {
    "duration": 22,
    "start_time": "2022-11-28T07:48:05.364Z"
   },
   {
    "duration": 10,
    "start_time": "2022-11-28T07:48:09.787Z"
   },
   {
    "duration": 16,
    "start_time": "2022-11-28T07:48:14.164Z"
   },
   {
    "duration": 13,
    "start_time": "2022-11-28T08:11:47.322Z"
   },
   {
    "duration": 11,
    "start_time": "2022-11-28T08:17:40.001Z"
   },
   {
    "duration": 9,
    "start_time": "2022-11-28T08:18:00.841Z"
   },
   {
    "duration": 11,
    "start_time": "2022-11-28T08:18:15.992Z"
   },
   {
    "duration": 7,
    "start_time": "2022-11-28T08:18:51.497Z"
   },
   {
    "duration": 14,
    "start_time": "2022-11-28T08:19:17.029Z"
   },
   {
    "duration": 6,
    "start_time": "2022-11-28T08:20:21.220Z"
   },
   {
    "duration": 11,
    "start_time": "2022-11-28T08:20:49.298Z"
   },
   {
    "duration": 18,
    "start_time": "2022-11-28T08:21:21.482Z"
   },
   {
    "duration": 7,
    "start_time": "2022-11-28T08:22:21.707Z"
   },
   {
    "duration": 12,
    "start_time": "2022-11-28T08:22:27.902Z"
   },
   {
    "duration": 14,
    "start_time": "2022-11-28T08:22:42.654Z"
   },
   {
    "duration": 13,
    "start_time": "2022-11-28T08:23:29.738Z"
   },
   {
    "duration": 16,
    "start_time": "2022-11-28T08:23:32.976Z"
   },
   {
    "duration": 8,
    "start_time": "2022-11-28T08:26:15.833Z"
   },
   {
    "duration": 1826,
    "start_time": "2022-11-28T08:30:23.274Z"
   },
   {
    "duration": 6,
    "start_time": "2022-11-28T08:30:31.353Z"
   },
   {
    "duration": 8,
    "start_time": "2022-11-28T09:14:01.144Z"
   },
   {
    "duration": 9,
    "start_time": "2022-11-28T09:14:06.770Z"
   },
   {
    "duration": 10,
    "start_time": "2022-11-28T09:14:19.585Z"
   },
   {
    "duration": 10,
    "start_time": "2022-11-28T09:14:48.381Z"
   },
   {
    "duration": 12,
    "start_time": "2022-11-28T09:14:55.961Z"
   },
   {
    "duration": 6,
    "start_time": "2022-11-28T09:19:06.421Z"
   },
   {
    "duration": 9,
    "start_time": "2022-11-28T09:19:22.563Z"
   },
   {
    "duration": 10,
    "start_time": "2022-11-28T09:20:58.190Z"
   },
   {
    "duration": 9,
    "start_time": "2022-11-28T09:22:47.884Z"
   },
   {
    "duration": 8,
    "start_time": "2022-11-28T09:22:56.394Z"
   },
   {
    "duration": 8,
    "start_time": "2022-11-28T09:25:22.574Z"
   },
   {
    "duration": 18,
    "start_time": "2022-11-28T09:27:13.229Z"
   },
   {
    "duration": 6,
    "start_time": "2022-11-28T10:18:11.368Z"
   },
   {
    "duration": 3,
    "start_time": "2022-11-28T10:18:20.384Z"
   },
   {
    "duration": 19,
    "start_time": "2022-11-28T10:18:36.880Z"
   },
   {
    "duration": 5,
    "start_time": "2022-11-28T10:18:50.051Z"
   },
   {
    "duration": 21,
    "start_time": "2022-11-28T10:18:57.943Z"
   },
   {
    "duration": 4,
    "start_time": "2022-11-28T10:20:15.371Z"
   },
   {
    "duration": 20,
    "start_time": "2022-11-28T10:20:21.388Z"
   },
   {
    "duration": 6,
    "start_time": "2022-11-28T10:20:39.288Z"
   },
   {
    "duration": 7,
    "start_time": "2022-11-28T10:26:23.761Z"
   },
   {
    "duration": 69,
    "start_time": "2022-11-28T10:32:43.108Z"
   },
   {
    "duration": 5,
    "start_time": "2022-11-28T11:01:20.331Z"
   },
   {
    "duration": 6,
    "start_time": "2022-11-28T11:01:37.214Z"
   },
   {
    "duration": 4,
    "start_time": "2022-11-28T11:02:34.345Z"
   },
   {
    "duration": 7,
    "start_time": "2022-11-28T11:02:36.841Z"
   },
   {
    "duration": 10,
    "start_time": "2022-11-28T11:06:01.993Z"
   },
   {
    "duration": 9,
    "start_time": "2022-11-28T11:06:16.013Z"
   },
   {
    "duration": 79,
    "start_time": "2022-11-28T11:06:35.598Z"
   },
   {
    "duration": 27,
    "start_time": "2022-11-28T11:07:14.873Z"
   },
   {
    "duration": 43,
    "start_time": "2022-11-28T11:07:35.321Z"
   },
   {
    "duration": 89,
    "start_time": "2022-11-28T11:07:42.332Z"
   },
   {
    "duration": 71,
    "start_time": "2022-11-28T11:08:14.266Z"
   },
   {
    "duration": 73,
    "start_time": "2022-11-28T11:08:23.892Z"
   },
   {
    "duration": 195,
    "start_time": "2022-11-28T11:08:36.654Z"
   },
   {
    "duration": 97,
    "start_time": "2022-11-28T11:08:58.467Z"
   },
   {
    "duration": 18,
    "start_time": "2022-11-28T11:09:18.077Z"
   },
   {
    "duration": 8,
    "start_time": "2022-11-28T11:09:36.034Z"
   },
   {
    "duration": 28,
    "start_time": "2022-11-28T11:09:57.329Z"
   },
   {
    "duration": 70,
    "start_time": "2022-11-28T11:10:19.825Z"
   },
   {
    "duration": 15,
    "start_time": "2022-11-28T11:10:34.661Z"
   },
   {
    "duration": 12,
    "start_time": "2022-11-28T11:13:37.075Z"
   },
   {
    "duration": 20,
    "start_time": "2022-11-28T11:13:40.191Z"
   },
   {
    "duration": 4,
    "start_time": "2022-11-28T11:14:27.894Z"
   },
   {
    "duration": 19,
    "start_time": "2022-11-28T11:14:30.334Z"
   },
   {
    "duration": 5,
    "start_time": "2022-11-28T11:24:43.646Z"
   },
   {
    "duration": 17,
    "start_time": "2022-11-28T11:24:47.447Z"
   },
   {
    "duration": 43,
    "start_time": "2022-11-28T11:28:52.106Z"
   },
   {
    "duration": 6,
    "start_time": "2022-11-28T11:29:43.318Z"
   },
   {
    "duration": 96,
    "start_time": "2022-11-28T11:30:54.084Z"
   },
   {
    "duration": 74,
    "start_time": "2022-11-28T11:31:02.400Z"
   },
   {
    "duration": 66,
    "start_time": "2022-11-28T11:31:09.353Z"
   },
   {
    "duration": 2608,
    "start_time": "2022-11-28T11:35:34.804Z"
   },
   {
    "duration": 2561,
    "start_time": "2022-11-28T11:36:35.475Z"
   },
   {
    "duration": 41,
    "start_time": "2022-11-28T11:36:49.367Z"
   },
   {
    "duration": 36974,
    "start_time": "2022-11-28T11:38:09.925Z"
   },
   {
    "duration": 7,
    "start_time": "2022-11-28T11:44:09.660Z"
   },
   {
    "duration": 33,
    "start_time": "2022-11-28T11:44:30.407Z"
   },
   {
    "duration": 2438,
    "start_time": "2022-11-28T11:44:37.169Z"
   },
   {
    "duration": 19,
    "start_time": "2022-11-28T11:55:48.394Z"
   },
   {
    "duration": 4951,
    "start_time": "2022-11-28T12:01:13.839Z"
   },
   {
    "duration": 5069,
    "start_time": "2022-11-28T12:02:08.954Z"
   },
   {
    "duration": 16,
    "start_time": "2022-11-28T12:02:40.977Z"
   },
   {
    "duration": 2693,
    "start_time": "2022-11-28T12:03:16.608Z"
   },
   {
    "duration": 2802,
    "start_time": "2022-11-28T12:04:22.493Z"
   },
   {
    "duration": 13,
    "start_time": "2022-11-28T12:05:06.260Z"
   },
   {
    "duration": 5,
    "start_time": "2022-11-28T12:16:43.997Z"
   },
   {
    "duration": 5,
    "start_time": "2022-11-28T12:17:02.877Z"
   },
   {
    "duration": 4,
    "start_time": "2022-11-28T12:21:02.773Z"
   },
   {
    "duration": 5,
    "start_time": "2022-11-28T12:21:56.141Z"
   },
   {
    "duration": 8,
    "start_time": "2022-11-28T12:23:02.033Z"
   },
   {
    "duration": 3,
    "start_time": "2022-11-28T12:23:09.205Z"
   },
   {
    "duration": 12,
    "start_time": "2022-11-28T12:23:39.177Z"
   },
   {
    "duration": 1240,
    "start_time": "2022-11-28T12:24:03.476Z"
   },
   {
    "duration": 1839,
    "start_time": "2022-11-28T12:25:01.926Z"
   },
   {
    "duration": 1347,
    "start_time": "2022-11-28T12:26:54.973Z"
   },
   {
    "duration": 1501,
    "start_time": "2022-11-28T12:27:24.238Z"
   },
   {
    "duration": 8,
    "start_time": "2022-11-28T12:29:09.420Z"
   },
   {
    "duration": 8,
    "start_time": "2022-11-28T12:30:21.496Z"
   },
   {
    "duration": 1576,
    "start_time": "2022-11-28T12:30:31.127Z"
   },
   {
    "duration": 2416,
    "start_time": "2022-11-28T12:31:32.311Z"
   },
   {
    "duration": 10007,
    "start_time": "2022-11-28T12:32:24.074Z"
   },
   {
    "duration": 7,
    "start_time": "2022-11-28T12:33:00.155Z"
   },
   {
    "duration": 443,
    "start_time": "2022-11-28T12:33:26.823Z"
   },
   {
    "duration": 1180,
    "start_time": "2022-11-28T12:33:39.893Z"
   },
   {
    "duration": 22,
    "start_time": "2022-11-28T12:33:55.853Z"
   },
   {
    "duration": 235,
    "start_time": "2022-11-28T12:34:23.159Z"
   },
   {
    "duration": 6,
    "start_time": "2022-11-28T12:36:22.820Z"
   },
   {
    "duration": 226,
    "start_time": "2022-11-28T12:36:44.137Z"
   },
   {
    "duration": 218,
    "start_time": "2022-11-28T12:37:14.543Z"
   },
   {
    "duration": 231,
    "start_time": "2022-11-28T12:37:35.358Z"
   },
   {
    "duration": 13,
    "start_time": "2022-11-28T12:37:49.176Z"
   },
   {
    "duration": 5,
    "start_time": "2022-11-28T12:37:53.925Z"
   },
   {
    "duration": 8,
    "start_time": "2022-11-28T12:38:00.510Z"
   },
   {
    "duration": 11,
    "start_time": "2022-11-28T12:38:02.493Z"
   },
   {
    "duration": 11,
    "start_time": "2022-11-28T12:38:07.454Z"
   },
   {
    "duration": 4,
    "start_time": "2022-11-28T12:38:12.863Z"
   },
   {
    "duration": 6,
    "start_time": "2022-11-28T12:39:00.456Z"
   },
   {
    "duration": 6,
    "start_time": "2022-11-28T12:39:54.938Z"
   },
   {
    "duration": 240,
    "start_time": "2022-11-28T12:39:57.500Z"
   },
   {
    "duration": 4,
    "start_time": "2022-11-28T12:40:16.609Z"
   },
   {
    "duration": 5097,
    "start_time": "2022-11-28T12:40:21.808Z"
   },
   {
    "duration": 11,
    "start_time": "2022-11-28T12:41:14.003Z"
   },
   {
    "duration": 10,
    "start_time": "2022-11-28T13:17:42.836Z"
   },
   {
    "duration": 20,
    "start_time": "2022-11-28T13:17:56.376Z"
   },
   {
    "duration": 3122,
    "start_time": "2022-11-28T13:18:05.608Z"
   },
   {
    "duration": 28,
    "start_time": "2022-11-28T13:18:55.024Z"
   },
   {
    "duration": 12,
    "start_time": "2022-11-28T13:20:30.537Z"
   },
   {
    "duration": 334,
    "start_time": "2022-11-28T13:22:19.246Z"
   },
   {
    "duration": 20,
    "start_time": "2022-11-28T13:22:34.642Z"
   },
   {
    "duration": 6,
    "start_time": "2022-11-28T13:23:00.203Z"
   },
   {
    "duration": 21,
    "start_time": "2022-11-28T13:23:10.356Z"
   },
   {
    "duration": 5,
    "start_time": "2022-11-28T13:23:38.882Z"
   },
   {
    "duration": 10,
    "start_time": "2022-11-28T13:23:43.957Z"
   },
   {
    "duration": 7,
    "start_time": "2022-11-28T13:23:54.472Z"
   },
   {
    "duration": 8,
    "start_time": "2022-11-28T13:24:10.023Z"
   },
   {
    "duration": 11,
    "start_time": "2022-11-28T13:24:17.669Z"
   },
   {
    "duration": 5,
    "start_time": "2022-11-28T13:25:48.499Z"
   },
   {
    "duration": 5305,
    "start_time": "2022-11-28T13:31:48.993Z"
   },
   {
    "duration": 27,
    "start_time": "2022-11-28T13:31:54.518Z"
   },
   {
    "duration": 5082,
    "start_time": "2022-11-28T13:32:17.346Z"
   },
   {
    "duration": 19,
    "start_time": "2022-11-28T13:32:24.534Z"
   },
   {
    "duration": 445,
    "start_time": "2022-11-28T13:32:29.338Z"
   },
   {
    "duration": 5,
    "start_time": "2022-11-28T13:32:52.543Z"
   },
   {
    "duration": 20,
    "start_time": "2022-11-28T13:32:56.129Z"
   },
   {
    "duration": 4819,
    "start_time": "2022-11-28T13:32:59.240Z"
   },
   {
    "duration": 20,
    "start_time": "2022-11-28T13:33:07.021Z"
   },
   {
    "duration": 17,
    "start_time": "2022-11-28T13:34:11.623Z"
   },
   {
    "duration": 31,
    "start_time": "2022-11-28T13:34:23.341Z"
   },
   {
    "duration": 11106,
    "start_time": "2022-11-28T13:35:33.275Z"
   },
   {
    "duration": 466,
    "start_time": "2022-11-28T13:37:03.846Z"
   },
   {
    "duration": 12,
    "start_time": "2022-11-28T13:37:14.454Z"
   },
   {
    "duration": 20,
    "start_time": "2022-11-28T13:37:22.001Z"
   },
   {
    "duration": 7,
    "start_time": "2022-11-28T13:40:04.970Z"
   },
   {
    "duration": 19,
    "start_time": "2022-11-28T13:40:16.611Z"
   },
   {
    "duration": 13,
    "start_time": "2022-11-28T13:44:28.694Z"
   },
   {
    "duration": 24,
    "start_time": "2022-11-28T13:44:31.997Z"
   },
   {
    "duration": 17,
    "start_time": "2022-11-28T13:44:35.425Z"
   },
   {
    "duration": 12,
    "start_time": "2022-11-28T13:48:28.600Z"
   },
   {
    "duration": 45,
    "start_time": "2022-11-28T18:01:27.500Z"
   },
   {
    "duration": 792,
    "start_time": "2022-11-28T18:01:42.361Z"
   },
   {
    "duration": 27,
    "start_time": "2022-11-28T18:01:51.251Z"
   },
   {
    "duration": 42,
    "start_time": "2022-11-28T18:02:57.264Z"
   },
   {
    "duration": 20,
    "start_time": "2022-11-28T18:03:09.091Z"
   },
   {
    "duration": 42,
    "start_time": "2022-11-28T18:11:09.346Z"
   },
   {
    "duration": 29,
    "start_time": "2022-11-28T18:11:13.430Z"
   },
   {
    "duration": 79,
    "start_time": "2022-11-28T18:17:45.867Z"
   },
   {
    "duration": 3,
    "start_time": "2022-11-28T18:18:26.266Z"
   },
   {
    "duration": 28,
    "start_time": "2022-11-28T18:18:51.246Z"
   },
   {
    "duration": 65,
    "start_time": "2022-11-28T18:25:26.682Z"
   },
   {
    "duration": 21,
    "start_time": "2022-11-28T18:25:29.686Z"
   },
   {
    "duration": 73,
    "start_time": "2022-11-28T18:28:54.711Z"
   },
   {
    "duration": 43,
    "start_time": "2022-11-29T04:46:10.141Z"
   },
   {
    "duration": 817,
    "start_time": "2022-11-29T04:46:17.242Z"
   },
   {
    "duration": 19,
    "start_time": "2022-11-29T04:46:30.471Z"
   },
   {
    "duration": 10,
    "start_time": "2022-11-29T04:46:39.140Z"
   },
   {
    "duration": 26,
    "start_time": "2022-11-29T04:46:41.123Z"
   },
   {
    "duration": 7,
    "start_time": "2022-11-29T04:46:45.121Z"
   },
   {
    "duration": 7,
    "start_time": "2022-11-29T04:46:50.441Z"
   },
   {
    "duration": 8,
    "start_time": "2022-11-29T04:46:53.339Z"
   },
   {
    "duration": 12,
    "start_time": "2022-11-29T04:47:01.197Z"
   },
   {
    "duration": 68,
    "start_time": "2022-11-29T04:49:20.060Z"
   },
   {
    "duration": 24,
    "start_time": "2022-11-29T04:49:24.789Z"
   },
   {
    "duration": 549,
    "start_time": "2022-11-29T04:51:47.534Z"
   },
   {
    "duration": 173,
    "start_time": "2022-11-29T04:51:57.241Z"
   },
   {
    "duration": 211,
    "start_time": "2022-11-29T04:52:01.578Z"
   },
   {
    "duration": 114,
    "start_time": "2022-11-29T04:52:07.721Z"
   },
   {
    "duration": 99,
    "start_time": "2022-11-29T04:52:21.790Z"
   },
   {
    "duration": 120,
    "start_time": "2022-11-29T04:52:46.056Z"
   },
   {
    "duration": 64,
    "start_time": "2022-11-29T04:53:24.299Z"
   },
   {
    "duration": 109,
    "start_time": "2022-11-29T04:53:34.423Z"
   },
   {
    "duration": 132,
    "start_time": "2022-11-29T04:53:52.417Z"
   },
   {
    "duration": 137,
    "start_time": "2022-11-29T05:08:20.877Z"
   },
   {
    "duration": 72,
    "start_time": "2022-11-29T05:08:38.012Z"
   },
   {
    "duration": 243,
    "start_time": "2022-11-29T05:08:45.477Z"
   },
   {
    "duration": 300,
    "start_time": "2022-11-29T05:08:56.376Z"
   },
   {
    "duration": 213,
    "start_time": "2022-11-29T05:12:19.635Z"
   },
   {
    "duration": 233,
    "start_time": "2022-11-29T05:12:26.731Z"
   },
   {
    "duration": 277,
    "start_time": "2022-11-29T05:12:32.307Z"
   },
   {
    "duration": 18,
    "start_time": "2022-11-29T05:14:49.937Z"
   },
   {
    "duration": 8,
    "start_time": "2022-11-29T05:14:54.647Z"
   },
   {
    "duration": 8,
    "start_time": "2022-11-29T05:15:20.539Z"
   },
   {
    "duration": 8,
    "start_time": "2022-11-29T05:15:25.286Z"
   },
   {
    "duration": 11,
    "start_time": "2022-11-29T05:15:52.196Z"
   },
   {
    "duration": 10,
    "start_time": "2022-11-29T05:15:59.641Z"
   },
   {
    "duration": 9,
    "start_time": "2022-11-29T05:16:18.783Z"
   },
   {
    "duration": 9,
    "start_time": "2022-11-29T05:17:58.456Z"
   },
   {
    "duration": 13,
    "start_time": "2022-11-29T05:18:03.205Z"
   },
   {
    "duration": 13,
    "start_time": "2022-11-29T05:18:07.053Z"
   },
   {
    "duration": 12,
    "start_time": "2022-11-29T05:18:23.054Z"
   },
   {
    "duration": 12,
    "start_time": "2022-11-29T05:18:58.131Z"
   },
   {
    "duration": 11,
    "start_time": "2022-11-29T05:19:05.528Z"
   },
   {
    "duration": 11,
    "start_time": "2022-11-29T05:19:30.068Z"
   },
   {
    "duration": 9,
    "start_time": "2022-11-29T05:23:20.740Z"
   },
   {
    "duration": 12,
    "start_time": "2022-11-29T05:23:35.113Z"
   },
   {
    "duration": 12,
    "start_time": "2022-11-29T05:26:21.319Z"
   },
   {
    "duration": 8,
    "start_time": "2022-11-29T05:26:27.794Z"
   },
   {
    "duration": 7,
    "start_time": "2022-11-29T05:26:51.199Z"
   },
   {
    "duration": 9,
    "start_time": "2022-11-29T05:27:24.831Z"
   },
   {
    "duration": 7,
    "start_time": "2022-11-29T05:27:52.708Z"
   },
   {
    "duration": 4,
    "start_time": "2022-11-29T05:27:58.035Z"
   },
   {
    "duration": 5,
    "start_time": "2022-11-29T05:27:59.224Z"
   },
   {
    "duration": 7,
    "start_time": "2022-11-29T05:28:24.584Z"
   },
   {
    "duration": 9,
    "start_time": "2022-11-29T05:28:54.297Z"
   },
   {
    "duration": 8,
    "start_time": "2022-11-29T05:29:07.464Z"
   },
   {
    "duration": 8,
    "start_time": "2022-11-29T05:29:10.826Z"
   },
   {
    "duration": 7,
    "start_time": "2022-11-29T05:29:16.802Z"
   },
   {
    "duration": 8,
    "start_time": "2022-11-29T05:29:19.731Z"
   },
   {
    "duration": 4,
    "start_time": "2022-11-29T05:29:25.074Z"
   },
   {
    "duration": 9,
    "start_time": "2022-11-29T05:29:32.685Z"
   },
   {
    "duration": 9,
    "start_time": "2022-11-29T05:29:36.699Z"
   },
   {
    "duration": 10,
    "start_time": "2022-11-29T05:36:43.827Z"
   },
   {
    "duration": 130,
    "start_time": "2022-11-29T05:37:48.038Z"
   },
   {
    "duration": 238,
    "start_time": "2022-11-29T05:38:24.043Z"
   },
   {
    "duration": 360,
    "start_time": "2022-11-29T05:38:52.192Z"
   },
   {
    "duration": 220,
    "start_time": "2022-11-29T05:39:03.378Z"
   },
   {
    "duration": 240,
    "start_time": "2022-11-29T05:42:37.660Z"
   },
   {
    "duration": 46,
    "start_time": "2022-11-29T05:47:06.014Z"
   },
   {
    "duration": 38,
    "start_time": "2022-11-29T05:47:57.725Z"
   },
   {
    "duration": 44,
    "start_time": "2022-11-29T05:49:15.426Z"
   },
   {
    "duration": 62,
    "start_time": "2022-11-29T05:50:12.715Z"
   },
   {
    "duration": 35,
    "start_time": "2022-11-29T05:50:31.638Z"
   },
   {
    "duration": 27,
    "start_time": "2022-11-29T05:51:15.759Z"
   },
   {
    "duration": 11,
    "start_time": "2022-11-29T05:53:46.083Z"
   },
   {
    "duration": 67,
    "start_time": "2022-11-29T05:53:49.633Z"
   },
   {
    "duration": 7,
    "start_time": "2022-11-29T05:54:00.013Z"
   },
   {
    "duration": 66,
    "start_time": "2022-11-29T05:54:01.733Z"
   },
   {
    "duration": 136,
    "start_time": "2022-11-29T05:54:07.639Z"
   },
   {
    "duration": 112,
    "start_time": "2022-11-29T05:54:17.532Z"
   },
   {
    "duration": 251,
    "start_time": "2022-11-29T05:54:31.512Z"
   },
   {
    "duration": 331,
    "start_time": "2022-11-29T05:54:40.625Z"
   },
   {
    "duration": 16,
    "start_time": "2022-11-29T05:55:03.018Z"
   },
   {
    "duration": 13,
    "start_time": "2022-11-29T05:55:19.113Z"
   },
   {
    "duration": 29,
    "start_time": "2022-11-29T05:55:36.996Z"
   },
   {
    "duration": 8,
    "start_time": "2022-11-29T05:59:11.049Z"
   },
   {
    "duration": 15,
    "start_time": "2022-11-29T05:59:13.211Z"
   },
   {
    "duration": 48,
    "start_time": "2022-11-29T05:59:30.833Z"
   },
   {
    "duration": 11,
    "start_time": "2022-11-29T06:00:28.292Z"
   },
   {
    "duration": 15,
    "start_time": "2022-11-29T06:00:31.323Z"
   },
   {
    "duration": 70,
    "start_time": "2022-11-29T06:01:39.959Z"
   },
   {
    "duration": 147,
    "start_time": "2022-11-29T06:01:58.940Z"
   },
   {
    "duration": 223,
    "start_time": "2022-11-29T06:02:13.357Z"
   },
   {
    "duration": 11,
    "start_time": "2022-11-29T06:02:21.594Z"
   },
   {
    "duration": 246,
    "start_time": "2022-11-29T06:02:26.174Z"
   },
   {
    "duration": 14,
    "start_time": "2022-11-29T06:03:02.884Z"
   },
   {
    "duration": 56,
    "start_time": "2022-11-29T06:03:05.669Z"
   },
   {
    "duration": 354,
    "start_time": "2022-11-29T06:14:29.003Z"
   },
   {
    "duration": 10,
    "start_time": "2022-11-29T06:14:38.959Z"
   },
   {
    "duration": 72,
    "start_time": "2022-11-29T06:14:44.862Z"
   },
   {
    "duration": 63,
    "start_time": "2022-11-29T06:14:59.330Z"
   },
   {
    "duration": 63,
    "start_time": "2022-11-29T06:15:27.478Z"
   },
   {
    "duration": 36,
    "start_time": "2022-11-29T06:17:29.874Z"
   },
   {
    "duration": 69,
    "start_time": "2022-11-29T06:18:37.373Z"
   },
   {
    "duration": 9,
    "start_time": "2022-11-29T06:18:41.645Z"
   },
   {
    "duration": 69,
    "start_time": "2022-11-29T06:18:43.862Z"
   },
   {
    "duration": 15,
    "start_time": "2022-11-29T06:18:54.624Z"
   },
   {
    "duration": 23,
    "start_time": "2022-11-29T06:18:58.193Z"
   },
   {
    "duration": 130,
    "start_time": "2022-11-29T06:19:20.069Z"
   },
   {
    "duration": 171,
    "start_time": "2022-11-29T06:22:03.201Z"
   },
   {
    "duration": 233,
    "start_time": "2022-11-29T06:22:30.365Z"
   },
   {
    "duration": 356,
    "start_time": "2022-11-29T06:22:41.723Z"
   },
   {
    "duration": 15,
    "start_time": "2022-11-29T06:23:01.289Z"
   },
   {
    "duration": 265,
    "start_time": "2022-11-29T06:23:16.835Z"
   },
   {
    "duration": 230,
    "start_time": "2022-11-29T06:23:28.576Z"
   },
   {
    "duration": 17,
    "start_time": "2022-11-29T06:24:00.568Z"
   },
   {
    "duration": 26,
    "start_time": "2022-11-29T06:24:07.754Z"
   },
   {
    "duration": 1658,
    "start_time": "2022-11-29T06:55:00.933Z"
   },
   {
    "duration": 123,
    "start_time": "2022-11-29T06:55:03.724Z"
   },
   {
    "duration": 1602,
    "start_time": "2022-11-29T06:55:18.527Z"
   },
   {
    "duration": 240,
    "start_time": "2022-11-29T06:55:23.557Z"
   },
   {
    "duration": 211,
    "start_time": "2022-11-29T06:55:44.328Z"
   },
   {
    "duration": 211,
    "start_time": "2022-11-29T06:55:47.846Z"
   },
   {
    "duration": 355,
    "start_time": "2022-11-29T06:55:49.977Z"
   },
   {
    "duration": 214,
    "start_time": "2022-11-29T06:55:53.381Z"
   },
   {
    "duration": 224,
    "start_time": "2022-11-29T06:56:00.908Z"
   },
   {
    "duration": 235,
    "start_time": "2022-11-29T06:56:03.850Z"
   },
   {
    "duration": 222,
    "start_time": "2022-11-29T06:56:05.943Z"
   },
   {
    "duration": 232,
    "start_time": "2022-11-29T06:56:27.410Z"
   },
   {
    "duration": 220,
    "start_time": "2022-11-29T06:57:05.212Z"
   },
   {
    "duration": 216,
    "start_time": "2022-11-29T06:57:10.417Z"
   },
   {
    "duration": 9,
    "start_time": "2022-11-29T06:57:34.755Z"
   },
   {
    "duration": 13,
    "start_time": "2022-11-29T06:57:39.451Z"
   },
   {
    "duration": 13,
    "start_time": "2022-11-29T06:57:51.977Z"
   },
   {
    "duration": 173,
    "start_time": "2022-11-29T06:58:45.014Z"
   },
   {
    "duration": 39,
    "start_time": "2022-11-29T06:59:39.093Z"
   },
   {
    "duration": 38,
    "start_time": "2022-11-29T07:02:41.173Z"
   },
   {
    "duration": 32,
    "start_time": "2022-11-29T07:03:05.901Z"
   },
   {
    "duration": 23,
    "start_time": "2022-11-29T07:03:26.546Z"
   },
   {
    "duration": 8,
    "start_time": "2022-11-29T07:06:13.034Z"
   },
   {
    "duration": 241,
    "start_time": "2022-11-29T07:06:15.414Z"
   },
   {
    "duration": 16,
    "start_time": "2022-11-29T07:07:32.574Z"
   },
   {
    "duration": 47,
    "start_time": "2022-11-29T07:07:42.678Z"
   },
   {
    "duration": 41,
    "start_time": "2022-11-29T07:07:51.286Z"
   },
   {
    "duration": 41,
    "start_time": "2022-11-29T07:07:57.983Z"
   },
   {
    "duration": 41,
    "start_time": "2022-11-29T07:08:02.938Z"
   },
   {
    "duration": 36,
    "start_time": "2022-11-29T07:08:09.620Z"
   },
   {
    "duration": 38,
    "start_time": "2022-11-29T07:08:14.448Z"
   },
   {
    "duration": 66,
    "start_time": "2022-11-29T07:08:22.284Z"
   },
   {
    "duration": 49,
    "start_time": "2022-11-29T07:08:29.803Z"
   },
   {
    "duration": 15,
    "start_time": "2022-11-29T07:08:49.840Z"
   },
   {
    "duration": 70,
    "start_time": "2022-11-29T07:08:52.447Z"
   },
   {
    "duration": 243,
    "start_time": "2022-11-29T07:09:24.864Z"
   },
   {
    "duration": 220,
    "start_time": "2022-11-29T07:09:42.804Z"
   },
   {
    "duration": 274,
    "start_time": "2022-11-29T07:09:46.439Z"
   },
   {
    "duration": 226,
    "start_time": "2022-11-29T07:09:49.628Z"
   },
   {
    "duration": 222,
    "start_time": "2022-11-29T07:09:53.471Z"
   },
   {
    "duration": 127,
    "start_time": "2022-11-29T07:10:01.111Z"
   },
   {
    "duration": 17,
    "start_time": "2022-11-29T08:37:08.910Z"
   },
   {
    "duration": 25,
    "start_time": "2022-11-29T08:37:14.409Z"
   },
   {
    "duration": 121,
    "start_time": "2022-11-29T08:43:15.720Z"
   },
   {
    "duration": 252,
    "start_time": "2022-11-29T08:43:38.919Z"
   },
   {
    "duration": 280,
    "start_time": "2022-11-29T08:43:45.276Z"
   },
   {
    "duration": 248,
    "start_time": "2022-11-29T08:43:49.826Z"
   },
   {
    "duration": 220,
    "start_time": "2022-11-29T08:44:08.080Z"
   },
   {
    "duration": 535,
    "start_time": "2022-11-29T08:44:12.323Z"
   },
   {
    "duration": 209,
    "start_time": "2022-11-29T08:44:24.143Z"
   },
   {
    "duration": 307,
    "start_time": "2022-11-29T08:44:30.134Z"
   },
   {
    "duration": 300,
    "start_time": "2022-11-29T08:44:41.476Z"
   },
   {
    "duration": 332,
    "start_time": "2022-11-29T08:44:42.138Z"
   },
   {
    "duration": 160,
    "start_time": "2022-11-29T08:44:59.383Z"
   },
   {
    "duration": 1168,
    "start_time": "2022-11-29T08:45:28.627Z"
   },
   {
    "duration": 331,
    "start_time": "2022-11-29T08:45:40.860Z"
   },
   {
    "duration": 262,
    "start_time": "2022-11-29T08:45:49.324Z"
   },
   {
    "duration": 363,
    "start_time": "2022-11-29T08:45:53.220Z"
   },
   {
    "duration": 235,
    "start_time": "2022-11-29T08:45:57.742Z"
   },
   {
    "duration": 525,
    "start_time": "2022-11-29T08:46:29.885Z"
   },
   {
    "duration": 307,
    "start_time": "2022-11-29T08:46:37.217Z"
   },
   {
    "duration": 265,
    "start_time": "2022-11-29T08:46:40.978Z"
   },
   {
    "duration": 175,
    "start_time": "2022-11-29T08:46:45.188Z"
   },
   {
    "duration": 222,
    "start_time": "2022-11-29T08:46:52.523Z"
   },
   {
    "duration": 188,
    "start_time": "2022-11-29T08:46:55.724Z"
   },
   {
    "duration": 192,
    "start_time": "2022-11-29T08:46:59.325Z"
   },
   {
    "duration": 172,
    "start_time": "2022-11-29T08:47:02.823Z"
   },
   {
    "duration": 169,
    "start_time": "2022-11-29T08:47:07.525Z"
   },
   {
    "duration": 161,
    "start_time": "2022-11-29T08:47:16.617Z"
   },
   {
    "duration": 160,
    "start_time": "2022-11-29T08:47:35.099Z"
   },
   {
    "duration": 191,
    "start_time": "2022-11-29T08:48:25.423Z"
   },
   {
    "duration": 165,
    "start_time": "2022-11-29T08:48:34.336Z"
   },
   {
    "duration": 152,
    "start_time": "2022-11-29T08:48:55.837Z"
   },
   {
    "duration": 158,
    "start_time": "2022-11-29T08:49:01.754Z"
   },
   {
    "duration": 159,
    "start_time": "2022-11-29T08:49:08.543Z"
   },
   {
    "duration": 130,
    "start_time": "2022-11-29T08:49:13.424Z"
   },
   {
    "duration": 19,
    "start_time": "2022-11-29T08:50:38.091Z"
   },
   {
    "duration": 41,
    "start_time": "2022-11-29T08:51:14.078Z"
   },
   {
    "duration": 45,
    "start_time": "2022-11-29T08:52:33.125Z"
   },
   {
    "duration": 49,
    "start_time": "2022-11-29T08:52:56.920Z"
   },
   {
    "duration": 29,
    "start_time": "2022-11-29T08:53:17.779Z"
   },
   {
    "duration": 42,
    "start_time": "2022-11-29T08:55:46.024Z"
   },
   {
    "duration": 36,
    "start_time": "2022-11-29T08:55:58.834Z"
   },
   {
    "duration": 48,
    "start_time": "2022-11-29T08:58:16.687Z"
   },
   {
    "duration": 14,
    "start_time": "2022-11-29T08:59:23.238Z"
   },
   {
    "duration": 16,
    "start_time": "2022-11-29T08:59:41.731Z"
   },
   {
    "duration": 38,
    "start_time": "2022-11-29T08:59:53.623Z"
   },
   {
    "duration": 43,
    "start_time": "2022-11-29T09:01:25.630Z"
   },
   {
    "duration": 51,
    "start_time": "2022-11-29T09:01:47.125Z"
   },
   {
    "duration": 41,
    "start_time": "2022-11-29T09:02:01.274Z"
   },
   {
    "duration": 8,
    "start_time": "2022-11-29T09:06:36.973Z"
   },
   {
    "duration": 88,
    "start_time": "2022-11-29T09:06:39.036Z"
   },
   {
    "duration": 42,
    "start_time": "2022-11-29T09:09:56.314Z"
   },
   {
    "duration": 68,
    "start_time": "2022-11-29T09:15:31.016Z"
   },
   {
    "duration": 5,
    "start_time": "2022-11-29T10:22:09.513Z"
   },
   {
    "duration": 73,
    "start_time": "2022-11-29T10:23:21.698Z"
   },
   {
    "duration": 6,
    "start_time": "2022-11-29T10:23:41.359Z"
   },
   {
    "duration": 10,
    "start_time": "2022-11-29T10:25:17.386Z"
   },
   {
    "duration": 55,
    "start_time": "2022-11-29T10:25:24.205Z"
   },
   {
    "duration": 75,
    "start_time": "2022-11-29T10:26:02.585Z"
   },
   {
    "duration": 49,
    "start_time": "2022-11-29T10:30:24.019Z"
   },
   {
    "duration": 287,
    "start_time": "2022-11-29T10:34:07.723Z"
   },
   {
    "duration": 126,
    "start_time": "2022-11-29T10:34:35.644Z"
   },
   {
    "duration": 222,
    "start_time": "2022-11-29T10:36:30.711Z"
   },
   {
    "duration": 178,
    "start_time": "2022-11-29T10:37:01.080Z"
   },
   {
    "duration": 268,
    "start_time": "2022-11-29T10:38:12.415Z"
   },
   {
    "duration": 72,
    "start_time": "2022-11-29T10:38:40.316Z"
   },
   {
    "duration": 96,
    "start_time": "2022-11-29T10:38:54.573Z"
   },
   {
    "duration": 233,
    "start_time": "2022-11-29T10:38:58.402Z"
   },
   {
    "duration": 207,
    "start_time": "2022-11-29T10:39:03.375Z"
   },
   {
    "duration": 211,
    "start_time": "2022-11-29T10:39:10.875Z"
   },
   {
    "duration": 137,
    "start_time": "2022-11-29T10:41:33.056Z"
   },
   {
    "duration": 278,
    "start_time": "2022-11-29T10:42:06.063Z"
   },
   {
    "duration": 598,
    "start_time": "2022-11-29T10:42:23.125Z"
   },
   {
    "duration": 469,
    "start_time": "2022-11-29T10:42:28.264Z"
   },
   {
    "duration": 157,
    "start_time": "2022-11-29T10:42:31.395Z"
   },
   {
    "duration": 144,
    "start_time": "2022-11-29T10:42:36.414Z"
   },
   {
    "duration": 854,
    "start_time": "2022-11-29T10:43:13.304Z"
   },
   {
    "duration": 157,
    "start_time": "2022-11-29T10:43:17.572Z"
   },
   {
    "duration": 12,
    "start_time": "2022-11-29T10:43:36.622Z"
   },
   {
    "duration": 69,
    "start_time": "2022-11-29T10:43:49.331Z"
   },
   {
    "duration": 11,
    "start_time": "2022-11-29T10:43:53.839Z"
   },
   {
    "duration": 156,
    "start_time": "2022-11-29T10:44:13.541Z"
   },
   {
    "duration": 33,
    "start_time": "2022-11-29T10:45:32.652Z"
   },
   {
    "duration": 71,
    "start_time": "2022-11-29T10:46:26.455Z"
   },
   {
    "duration": 14,
    "start_time": "2022-11-29T10:47:00.173Z"
   },
   {
    "duration": 18,
    "start_time": "2022-11-29T10:47:06.182Z"
   },
   {
    "duration": 72,
    "start_time": "2022-11-29T10:47:26.707Z"
   },
   {
    "duration": 88,
    "start_time": "2022-11-29T10:47:36.432Z"
   },
   {
    "duration": 9,
    "start_time": "2022-11-29T10:47:43.203Z"
   },
   {
    "duration": 17,
    "start_time": "2022-11-29T10:48:06.365Z"
   },
   {
    "duration": 8,
    "start_time": "2022-11-29T10:48:41.717Z"
   },
   {
    "duration": 9,
    "start_time": "2022-11-29T10:48:52.454Z"
   },
   {
    "duration": 8,
    "start_time": "2022-11-29T10:49:23.803Z"
   },
   {
    "duration": 8,
    "start_time": "2022-11-29T10:49:32.295Z"
   },
   {
    "duration": 28,
    "start_time": "2022-11-29T10:49:47.367Z"
   },
   {
    "duration": 9,
    "start_time": "2022-11-29T10:50:02.480Z"
   },
   {
    "duration": 138,
    "start_time": "2022-11-29T10:50:21.461Z"
   },
   {
    "duration": 229,
    "start_time": "2022-11-29T10:50:32.624Z"
   },
   {
    "duration": 161,
    "start_time": "2022-11-29T10:50:36.475Z"
   },
   {
    "duration": 134,
    "start_time": "2022-11-29T10:50:59.886Z"
   },
   {
    "duration": 132,
    "start_time": "2022-11-29T10:51:06.130Z"
   },
   {
    "duration": 129,
    "start_time": "2022-11-29T10:51:53.892Z"
   },
   {
    "duration": 11,
    "start_time": "2022-11-29T10:52:48.522Z"
   },
   {
    "duration": 7,
    "start_time": "2022-11-29T10:53:01.862Z"
   },
   {
    "duration": 25,
    "start_time": "2022-11-29T10:56:12.234Z"
   },
   {
    "duration": 29,
    "start_time": "2022-11-29T10:57:12.133Z"
   },
   {
    "duration": 35,
    "start_time": "2022-11-29T10:57:24.427Z"
   },
   {
    "duration": 35,
    "start_time": "2022-11-29T10:57:57.575Z"
   },
   {
    "duration": 44,
    "start_time": "2022-11-29T10:59:08.170Z"
   },
   {
    "duration": 38,
    "start_time": "2022-11-29T11:00:17.353Z"
   },
   {
    "duration": 8,
    "start_time": "2022-11-29T11:01:12.951Z"
   },
   {
    "duration": 7,
    "start_time": "2022-11-29T11:01:17.987Z"
   },
   {
    "duration": 32,
    "start_time": "2022-11-29T11:01:25.525Z"
   },
   {
    "duration": 10,
    "start_time": "2022-11-29T12:08:52.307Z"
   },
   {
    "duration": 82,
    "start_time": "2022-11-29T12:09:02.466Z"
   },
   {
    "duration": 8,
    "start_time": "2022-11-29T12:10:23.460Z"
   },
   {
    "duration": 7,
    "start_time": "2022-11-29T12:10:38.984Z"
   },
   {
    "duration": 7,
    "start_time": "2022-11-29T12:10:45.072Z"
   },
   {
    "duration": 4,
    "start_time": "2022-11-29T12:11:04.298Z"
   },
   {
    "duration": 7,
    "start_time": "2022-11-29T12:11:19.147Z"
   },
   {
    "duration": 6,
    "start_time": "2022-11-29T12:12:31.826Z"
   },
   {
    "duration": 7,
    "start_time": "2022-11-29T12:12:34.870Z"
   },
   {
    "duration": 7,
    "start_time": "2022-11-29T12:12:38.171Z"
   },
   {
    "duration": 36,
    "start_time": "2022-11-29T12:12:41.840Z"
   },
   {
    "duration": 65,
    "start_time": "2022-11-29T12:13:06.896Z"
   },
   {
    "duration": 133,
    "start_time": "2022-11-29T12:15:35.606Z"
   },
   {
    "duration": 160,
    "start_time": "2022-11-29T12:15:57.463Z"
   },
   {
    "duration": 162,
    "start_time": "2022-11-29T12:16:01.753Z"
   },
   {
    "duration": 13,
    "start_time": "2022-11-29T12:16:17.124Z"
   },
   {
    "duration": 156,
    "start_time": "2022-11-29T12:16:26.031Z"
   },
   {
    "duration": 22,
    "start_time": "2022-11-29T12:17:30.064Z"
   },
   {
    "duration": 9,
    "start_time": "2022-11-29T12:18:23.518Z"
   },
   {
    "duration": 6,
    "start_time": "2022-11-29T12:18:28.162Z"
   },
   {
    "duration": 38,
    "start_time": "2022-11-29T12:18:42.461Z"
   },
   {
    "duration": 47,
    "start_time": "2022-11-29T12:19:38.616Z"
   },
   {
    "duration": 30,
    "start_time": "2022-11-29T12:20:57.391Z"
   },
   {
    "duration": 19,
    "start_time": "2022-11-29T12:26:00.182Z"
   },
   {
    "duration": 45,
    "start_time": "2022-11-29T12:28:59.418Z"
   },
   {
    "duration": 69,
    "start_time": "2022-11-29T12:29:09.376Z"
   },
   {
    "duration": 36,
    "start_time": "2022-11-29T12:29:16.681Z"
   },
   {
    "duration": 44,
    "start_time": "2022-11-29T12:29:38.598Z"
   },
   {
    "duration": 8,
    "start_time": "2022-11-29T12:30:16.106Z"
   },
   {
    "duration": 70,
    "start_time": "2022-11-29T12:30:23.048Z"
   },
   {
    "duration": 3,
    "start_time": "2022-11-29T12:37:56.147Z"
   },
   {
    "duration": 1329,
    "start_time": "2022-11-29T12:37:58.926Z"
   },
   {
    "duration": 10,
    "start_time": "2022-11-29T12:38:07.368Z"
   },
   {
    "duration": 79,
    "start_time": "2022-11-29T12:38:11.004Z"
   },
   {
    "duration": 6,
    "start_time": "2022-11-29T12:38:30.717Z"
   },
   {
    "duration": 62,
    "start_time": "2022-11-29T12:39:07.220Z"
   },
   {
    "duration": 8,
    "start_time": "2022-11-29T12:40:54.451Z"
   },
   {
    "duration": 39,
    "start_time": "2022-11-29T12:41:00.466Z"
   },
   {
    "duration": 21,
    "start_time": "2022-11-29T12:43:18.049Z"
   },
   {
    "duration": 29,
    "start_time": "2022-11-29T12:45:27.954Z"
   },
   {
    "duration": 38,
    "start_time": "2022-11-29T12:46:03.446Z"
   },
   {
    "duration": 39,
    "start_time": "2022-11-29T12:46:34.263Z"
   },
   {
    "duration": 52,
    "start_time": "2022-11-29T12:46:41.078Z"
   },
   {
    "duration": 64,
    "start_time": "2022-11-29T12:47:20.554Z"
   },
   {
    "duration": 65,
    "start_time": "2022-11-29T12:51:50.318Z"
   },
   {
    "duration": 25,
    "start_time": "2022-11-29T12:52:02.335Z"
   },
   {
    "duration": 21,
    "start_time": "2022-11-29T12:52:07.258Z"
   },
   {
    "duration": 21,
    "start_time": "2022-11-29T12:52:51.415Z"
   },
   {
    "duration": 23,
    "start_time": "2022-11-29T12:53:01.997Z"
   },
   {
    "duration": 92,
    "start_time": "2022-11-29T12:53:22.460Z"
   },
   {
    "duration": 14,
    "start_time": "2022-11-29T12:55:36.781Z"
   },
   {
    "duration": 5,
    "start_time": "2022-11-29T12:55:48.439Z"
   },
   {
    "duration": 39,
    "start_time": "2022-11-29T12:55:49.963Z"
   },
   {
    "duration": 40,
    "start_time": "2022-11-29T12:55:59.296Z"
   },
   {
    "duration": 26,
    "start_time": "2022-11-29T12:56:09.206Z"
   },
   {
    "duration": 36,
    "start_time": "2022-11-29T12:58:24.663Z"
   },
   {
    "duration": 35,
    "start_time": "2022-11-29T12:58:33.960Z"
   },
   {
    "duration": 1305,
    "start_time": "2022-11-29T13:00:06.229Z"
   },
   {
    "duration": 1215,
    "start_time": "2022-11-29T13:00:35.815Z"
   },
   {
    "duration": 4,
    "start_time": "2022-11-29T13:00:47.997Z"
   },
   {
    "duration": 10,
    "start_time": "2022-11-29T13:01:43.438Z"
   },
   {
    "duration": 8,
    "start_time": "2022-11-29T13:02:55.484Z"
   },
   {
    "duration": 577,
    "start_time": "2022-11-29T13:03:05.522Z"
   },
   {
    "duration": 134,
    "start_time": "2022-11-29T13:03:24.431Z"
   },
   {
    "duration": 137,
    "start_time": "2022-11-29T13:06:06.120Z"
   },
   {
    "duration": 137,
    "start_time": "2022-11-29T13:06:32.590Z"
   },
   {
    "duration": 166,
    "start_time": "2022-11-29T13:06:43.701Z"
   },
   {
    "duration": 132,
    "start_time": "2022-11-29T13:06:47.506Z"
   },
   {
    "duration": 522,
    "start_time": "2022-11-29T13:06:50.880Z"
   },
   {
    "duration": 132,
    "start_time": "2022-11-29T13:06:53.377Z"
   },
   {
    "duration": 155,
    "start_time": "2022-11-29T13:07:03.585Z"
   },
   {
    "duration": 150,
    "start_time": "2022-11-29T13:07:07.685Z"
   },
   {
    "duration": 175,
    "start_time": "2022-11-29T13:07:16.114Z"
   },
   {
    "duration": 180,
    "start_time": "2022-11-29T13:07:21.097Z"
   },
   {
    "duration": 185,
    "start_time": "2022-11-29T13:07:24.396Z"
   },
   {
    "duration": 203,
    "start_time": "2022-11-29T13:07:35.390Z"
   },
   {
    "duration": 243,
    "start_time": "2022-11-29T13:07:49.971Z"
   },
   {
    "duration": 241,
    "start_time": "2022-11-29T13:07:57.072Z"
   },
   {
    "duration": 258,
    "start_time": "2022-11-29T13:08:33.872Z"
   },
   {
    "duration": 227,
    "start_time": "2022-11-29T13:08:41.077Z"
   },
   {
    "duration": 42,
    "start_time": "2022-11-29T13:09:15.757Z"
   },
   {
    "duration": 4,
    "start_time": "2022-11-29T13:14:42.404Z"
   },
   {
    "duration": 11,
    "start_time": "2022-11-29T13:14:44.304Z"
   },
   {
    "duration": 7,
    "start_time": "2022-11-29T13:15:03.945Z"
   },
   {
    "duration": 40,
    "start_time": "2022-11-29T13:15:48.095Z"
   },
   {
    "duration": 37,
    "start_time": "2022-11-29T13:16:05.108Z"
   },
   {
    "duration": 74,
    "start_time": "2022-11-29T13:17:55.974Z"
   },
   {
    "duration": 1920,
    "start_time": "2022-11-29T13:19:20.437Z"
   },
   {
    "duration": 172,
    "start_time": "2022-11-29T13:26:58.090Z"
   },
   {
    "duration": 150,
    "start_time": "2022-11-29T13:27:02.608Z"
   },
   {
    "duration": 269,
    "start_time": "2022-11-29T13:27:54.296Z"
   },
   {
    "duration": 277,
    "start_time": "2022-11-29T13:28:01.538Z"
   },
   {
    "duration": 278,
    "start_time": "2022-11-29T13:28:11.230Z"
   },
   {
    "duration": 32,
    "start_time": "2022-11-29T13:28:58.973Z"
   },
   {
    "duration": 26,
    "start_time": "2022-11-29T13:33:58.825Z"
   },
   {
    "duration": 77,
    "start_time": "2022-11-29T13:34:00.894Z"
   },
   {
    "duration": 30,
    "start_time": "2022-11-29T13:38:29.484Z"
   },
   {
    "duration": 14,
    "start_time": "2022-11-29T13:38:36.229Z"
   },
   {
    "duration": 4,
    "start_time": "2022-11-29T13:38:53.973Z"
   },
   {
    "duration": 13,
    "start_time": "2022-11-29T13:38:55.724Z"
   },
   {
    "duration": 7,
    "start_time": "2022-11-29T13:38:57.973Z"
   },
   {
    "duration": 17,
    "start_time": "2022-11-29T13:39:00.701Z"
   },
   {
    "duration": 41,
    "start_time": "2022-11-29T13:39:44.754Z"
   },
   {
    "duration": 44,
    "start_time": "2022-11-29T13:40:31.000Z"
   },
   {
    "duration": 104,
    "start_time": "2022-11-29T13:46:38.943Z"
   },
   {
    "duration": 115,
    "start_time": "2022-11-29T13:46:45.715Z"
   },
   {
    "duration": 560,
    "start_time": "2022-11-29T13:46:55.140Z"
   },
   {
    "duration": 125,
    "start_time": "2022-11-29T13:47:01.441Z"
   },
   {
    "duration": 114,
    "start_time": "2022-11-29T13:47:05.215Z"
   },
   {
    "duration": 118,
    "start_time": "2022-11-29T13:47:07.113Z"
   },
   {
    "duration": 110,
    "start_time": "2022-11-29T13:47:14.973Z"
   },
   {
    "duration": 113,
    "start_time": "2022-11-29T13:47:19.921Z"
   },
   {
    "duration": 112,
    "start_time": "2022-11-29T13:47:27.987Z"
   },
   {
    "duration": 109,
    "start_time": "2022-11-29T13:47:31.661Z"
   },
   {
    "duration": 119,
    "start_time": "2022-11-29T13:47:34.461Z"
   },
   {
    "duration": 116,
    "start_time": "2022-11-29T13:47:38.611Z"
   },
   {
    "duration": 112,
    "start_time": "2022-11-29T13:47:51.255Z"
   },
   {
    "duration": 101,
    "start_time": "2022-11-29T13:47:55.689Z"
   },
   {
    "duration": 121,
    "start_time": "2022-11-29T13:47:59.893Z"
   },
   {
    "duration": 102,
    "start_time": "2022-11-29T13:48:03.907Z"
   },
   {
    "duration": 100,
    "start_time": "2022-11-29T13:48:22.099Z"
   },
   {
    "duration": 126,
    "start_time": "2022-11-29T13:48:26.342Z"
   },
   {
    "duration": 102,
    "start_time": "2022-11-29T13:48:31.192Z"
   },
   {
    "duration": 105,
    "start_time": "2022-11-29T13:48:33.886Z"
   },
   {
    "duration": 110,
    "start_time": "2022-11-29T13:48:42.913Z"
   },
   {
    "duration": 122,
    "start_time": "2022-11-29T13:48:47.366Z"
   },
   {
    "duration": 114,
    "start_time": "2022-11-29T13:48:49.588Z"
   },
   {
    "duration": 238,
    "start_time": "2022-11-29T13:51:28.614Z"
   },
   {
    "duration": 10,
    "start_time": "2022-11-29T13:56:12.047Z"
   },
   {
    "duration": 10,
    "start_time": "2022-11-29T13:56:47.392Z"
   },
   {
    "duration": 14,
    "start_time": "2022-11-29T13:56:49.849Z"
   },
   {
    "duration": 6,
    "start_time": "2022-11-29T13:56:56.926Z"
   },
   {
    "duration": 5,
    "start_time": "2022-11-29T13:57:03.018Z"
   },
   {
    "duration": 8,
    "start_time": "2022-11-29T13:57:47.412Z"
   },
   {
    "duration": 10,
    "start_time": "2022-11-29T13:59:47.139Z"
   },
   {
    "duration": 7,
    "start_time": "2022-11-29T13:59:54.636Z"
   },
   {
    "duration": 112,
    "start_time": "2022-11-29T14:00:02.252Z"
   },
   {
    "duration": 7,
    "start_time": "2022-11-29T14:16:59.489Z"
   },
   {
    "duration": 7,
    "start_time": "2022-11-29T14:17:27.178Z"
   },
   {
    "duration": 5,
    "start_time": "2022-11-29T14:17:51.575Z"
   },
   {
    "duration": 2163,
    "start_time": "2022-11-29T14:23:37.918Z"
   },
   {
    "duration": 2147,
    "start_time": "2022-11-29T14:24:20.625Z"
   },
   {
    "duration": 45,
    "start_time": "2022-11-29T14:24:53.816Z"
   },
   {
    "duration": 16,
    "start_time": "2022-11-29T14:27:31.042Z"
   },
   {
    "duration": 38,
    "start_time": "2022-11-29T14:28:42.320Z"
   },
   {
    "duration": 12,
    "start_time": "2022-11-29T14:31:10.661Z"
   },
   {
    "duration": 15,
    "start_time": "2022-11-29T14:31:17.156Z"
   },
   {
    "duration": 16,
    "start_time": "2022-11-29T14:31:21.933Z"
   },
   {
    "duration": 2203,
    "start_time": "2022-11-29T14:31:44.345Z"
   },
   {
    "duration": 2131,
    "start_time": "2022-11-29T14:33:22.992Z"
   },
   {
    "duration": 1026,
    "start_time": "2022-11-29T14:37:10.009Z"
   },
   {
    "duration": 9,
    "start_time": "2022-11-29T14:45:47.181Z"
   },
   {
    "duration": 1138,
    "start_time": "2022-11-29T14:48:57.818Z"
   },
   {
    "duration": 43,
    "start_time": "2022-11-29T14:49:20.991Z"
   },
   {
    "duration": 42,
    "start_time": "2022-11-30T04:04:35.731Z"
   },
   {
    "duration": 935,
    "start_time": "2022-11-30T04:04:49.995Z"
   },
   {
    "duration": 70,
    "start_time": "2022-11-30T04:04:50.932Z"
   },
   {
    "duration": 2099,
    "start_time": "2022-11-30T04:04:51.003Z"
   },
   {
    "duration": 19,
    "start_time": "2022-11-30T04:04:53.104Z"
   },
   {
    "duration": 24,
    "start_time": "2022-11-30T04:04:53.125Z"
   },
   {
    "duration": 10,
    "start_time": "2022-11-30T04:04:53.150Z"
   },
   {
    "duration": 18,
    "start_time": "2022-11-30T04:04:53.161Z"
   },
   {
    "duration": 11,
    "start_time": "2022-11-30T04:04:53.198Z"
   },
   {
    "duration": 34,
    "start_time": "2022-11-30T04:04:53.210Z"
   },
   {
    "duration": 62,
    "start_time": "2022-11-30T04:04:53.246Z"
   },
   {
    "duration": 19,
    "start_time": "2022-11-30T04:04:53.309Z"
   },
   {
    "duration": 9,
    "start_time": "2022-11-30T04:04:53.329Z"
   },
   {
    "duration": 17,
    "start_time": "2022-11-30T04:04:53.339Z"
   },
   {
    "duration": 168,
    "start_time": "2022-11-30T04:04:53.358Z"
   },
   {
    "duration": 136,
    "start_time": "2022-11-30T04:04:53.528Z"
   },
   {
    "duration": 8,
    "start_time": "2022-11-30T04:04:53.665Z"
   },
   {
    "duration": 286,
    "start_time": "2022-11-30T04:04:53.674Z"
   },
   {
    "duration": 8,
    "start_time": "2022-11-30T04:04:53.961Z"
   },
   {
    "duration": 285,
    "start_time": "2022-11-30T04:04:53.971Z"
   },
   {
    "duration": 187,
    "start_time": "2022-11-30T04:04:54.258Z"
   },
   {
    "duration": 6,
    "start_time": "2022-11-30T04:04:54.446Z"
   },
   {
    "duration": 7,
    "start_time": "2022-11-30T04:04:54.453Z"
   },
   {
    "duration": 37,
    "start_time": "2022-11-30T04:04:54.461Z"
   },
   {
    "duration": 25,
    "start_time": "2022-11-30T04:04:54.500Z"
   },
   {
    "duration": 100,
    "start_time": "2022-11-30T04:04:54.527Z"
   },
   {
    "duration": 11,
    "start_time": "2022-11-30T04:04:54.630Z"
   },
   {
    "duration": 129,
    "start_time": "2022-11-30T04:04:54.644Z"
   },
   {
    "duration": 225,
    "start_time": "2022-11-30T04:04:54.774Z"
   },
   {
    "duration": 3,
    "start_time": "2022-11-30T04:04:55.000Z"
   },
   {
    "duration": 28,
    "start_time": "2022-11-30T04:04:55.005Z"
   },
   {
    "duration": 6,
    "start_time": "2022-11-30T04:04:55.035Z"
   },
   {
    "duration": 41,
    "start_time": "2022-11-30T04:04:55.043Z"
   },
   {
    "duration": 13,
    "start_time": "2022-11-30T04:04:55.085Z"
   },
   {
    "duration": 5,
    "start_time": "2022-11-30T04:04:55.099Z"
   },
   {
    "duration": 5,
    "start_time": "2022-11-30T04:04:55.106Z"
   },
   {
    "duration": 10,
    "start_time": "2022-11-30T04:04:55.113Z"
   },
   {
    "duration": 848,
    "start_time": "2022-11-30T04:04:55.124Z"
   },
   {
    "duration": 0,
    "start_time": "2022-11-30T04:04:55.973Z"
   },
   {
    "duration": 0,
    "start_time": "2022-11-30T04:04:55.974Z"
   },
   {
    "duration": 15,
    "start_time": "2022-11-30T04:05:29.338Z"
   },
   {
    "duration": 15,
    "start_time": "2022-11-30T04:05:40.396Z"
   },
   {
    "duration": 228,
    "start_time": "2022-11-30T04:08:12.440Z"
   },
   {
    "duration": 33,
    "start_time": "2022-11-30T04:08:26.159Z"
   },
   {
    "duration": 37,
    "start_time": "2022-11-30T04:08:59.221Z"
   },
   {
    "duration": 18,
    "start_time": "2022-11-30T04:09:45.404Z"
   },
   {
    "duration": 9,
    "start_time": "2022-11-30T04:09:56.488Z"
   },
   {
    "duration": 24,
    "start_time": "2022-11-30T04:50:48.921Z"
   },
   {
    "duration": 9,
    "start_time": "2022-11-30T04:52:48.826Z"
   },
   {
    "duration": 34,
    "start_time": "2022-11-30T04:53:13.988Z"
   },
   {
    "duration": 9,
    "start_time": "2022-11-30T04:53:40.057Z"
   },
   {
    "duration": 4,
    "start_time": "2022-11-30T04:54:14.015Z"
   },
   {
    "duration": 9,
    "start_time": "2022-11-30T04:55:00.675Z"
   },
   {
    "duration": 4,
    "start_time": "2022-11-30T04:55:26.532Z"
   },
   {
    "duration": 48,
    "start_time": "2022-11-30T05:03:19.472Z"
   },
   {
    "duration": 212,
    "start_time": "2022-11-30T05:03:40.242Z"
   },
   {
    "duration": 177,
    "start_time": "2022-11-30T05:04:49.307Z"
   },
   {
    "duration": 9,
    "start_time": "2022-11-30T05:10:56.529Z"
   },
   {
    "duration": 9,
    "start_time": "2022-11-30T05:12:30.481Z"
   },
   {
    "duration": 10,
    "start_time": "2022-11-30T05:13:59.434Z"
   },
   {
    "duration": 9,
    "start_time": "2022-11-30T05:14:12.571Z"
   },
   {
    "duration": 8,
    "start_time": "2022-11-30T05:14:14.597Z"
   },
   {
    "duration": 3,
    "start_time": "2022-11-30T05:14:16.926Z"
   },
   {
    "duration": 8,
    "start_time": "2022-11-30T05:14:19.570Z"
   },
   {
    "duration": 401,
    "start_time": "2022-11-30T05:14:28.608Z"
   },
   {
    "duration": 64,
    "start_time": "2022-11-30T05:14:29.010Z"
   },
   {
    "duration": 1841,
    "start_time": "2022-11-30T05:14:29.075Z"
   },
   {
    "duration": 16,
    "start_time": "2022-11-30T05:14:30.918Z"
   },
   {
    "duration": 28,
    "start_time": "2022-11-30T05:14:30.936Z"
   },
   {
    "duration": 10,
    "start_time": "2022-11-30T05:14:30.965Z"
   },
   {
    "duration": 22,
    "start_time": "2022-11-30T05:14:30.977Z"
   },
   {
    "duration": 59,
    "start_time": "2022-11-30T05:14:31.000Z"
   },
   {
    "duration": 9,
    "start_time": "2022-11-30T05:14:31.060Z"
   },
   {
    "duration": 8,
    "start_time": "2022-11-30T05:14:31.071Z"
   },
   {
    "duration": 178,
    "start_time": "2022-11-30T05:14:31.080Z"
   },
   {
    "duration": 150,
    "start_time": "2022-11-30T05:14:31.259Z"
   },
   {
    "duration": 7,
    "start_time": "2022-11-30T05:14:31.411Z"
   },
   {
    "duration": 228,
    "start_time": "2022-11-30T05:14:31.419Z"
   },
   {
    "duration": 6,
    "start_time": "2022-11-30T05:14:31.648Z"
   },
   {
    "duration": 383,
    "start_time": "2022-11-30T05:14:31.656Z"
   },
   {
    "duration": 187,
    "start_time": "2022-11-30T05:14:32.041Z"
   },
   {
    "duration": 6,
    "start_time": "2022-11-30T05:14:32.230Z"
   },
   {
    "duration": 21,
    "start_time": "2022-11-30T05:14:32.237Z"
   },
   {
    "duration": 10,
    "start_time": "2022-11-30T05:14:35.036Z"
   },
   {
    "duration": 9,
    "start_time": "2022-11-30T05:14:50.511Z"
   },
   {
    "duration": 57,
    "start_time": "2022-11-30T05:54:31.124Z"
   },
   {
    "duration": 35,
    "start_time": "2022-11-30T05:54:36.245Z"
   },
   {
    "duration": 15,
    "start_time": "2022-11-30T06:02:08.088Z"
   },
   {
    "duration": 0,
    "start_time": "2022-11-30T06:02:08.104Z"
   },
   {
    "duration": 10,
    "start_time": "2022-11-30T06:02:41.944Z"
   },
   {
    "duration": 21,
    "start_time": "2022-11-30T06:02:45.424Z"
   },
   {
    "duration": 30,
    "start_time": "2022-11-30T06:03:02.538Z"
   },
   {
    "duration": 11,
    "start_time": "2022-11-30T06:03:32.038Z"
   },
   {
    "duration": 543,
    "start_time": "2022-11-30T06:03:45.424Z"
   },
   {
    "duration": 10,
    "start_time": "2022-11-30T06:04:35.322Z"
   },
   {
    "duration": 9,
    "start_time": "2022-11-30T06:05:10.871Z"
   },
   {
    "duration": 24,
    "start_time": "2022-11-30T06:05:13.548Z"
   },
   {
    "duration": 10,
    "start_time": "2022-11-30T06:05:55.659Z"
   },
   {
    "duration": 10,
    "start_time": "2022-11-30T06:06:03.391Z"
   },
   {
    "duration": 10,
    "start_time": "2022-11-30T06:06:13.203Z"
   },
   {
    "duration": 11,
    "start_time": "2022-11-30T06:06:16.450Z"
   },
   {
    "duration": 10,
    "start_time": "2022-11-30T06:06:21.989Z"
   },
   {
    "duration": 10,
    "start_time": "2022-11-30T06:06:28.748Z"
   },
   {
    "duration": 7,
    "start_time": "2022-11-30T06:06:30.393Z"
   },
   {
    "duration": 9,
    "start_time": "2022-11-30T06:06:34.317Z"
   },
   {
    "duration": 10,
    "start_time": "2022-11-30T06:06:54.139Z"
   },
   {
    "duration": 7,
    "start_time": "2022-11-30T06:06:55.728Z"
   },
   {
    "duration": 6,
    "start_time": "2022-11-30T06:06:58.828Z"
   },
   {
    "duration": 7,
    "start_time": "2022-11-30T06:07:00.045Z"
   },
   {
    "duration": 6,
    "start_time": "2022-11-30T06:07:14.588Z"
   },
   {
    "duration": 5,
    "start_time": "2022-11-30T06:07:19.671Z"
   },
   {
    "duration": 6,
    "start_time": "2022-11-30T06:07:35.438Z"
   },
   {
    "duration": 6,
    "start_time": "2022-11-30T06:07:56.688Z"
   },
   {
    "duration": 6,
    "start_time": "2022-11-30T06:08:05.968Z"
   },
   {
    "duration": 6,
    "start_time": "2022-11-30T06:08:07.350Z"
   },
   {
    "duration": 27,
    "start_time": "2022-11-30T06:11:49.527Z"
   },
   {
    "duration": 783,
    "start_time": "2022-11-30T06:14:12.117Z"
   },
   {
    "duration": 75,
    "start_time": "2022-11-30T06:14:12.902Z"
   },
   {
    "duration": 2136,
    "start_time": "2022-11-30T06:14:12.978Z"
   },
   {
    "duration": 20,
    "start_time": "2022-11-30T06:14:15.116Z"
   },
   {
    "duration": 25,
    "start_time": "2022-11-30T06:14:15.138Z"
   },
   {
    "duration": 9,
    "start_time": "2022-11-30T06:14:15.165Z"
   },
   {
    "duration": 28,
    "start_time": "2022-11-30T06:14:15.175Z"
   },
   {
    "duration": 62,
    "start_time": "2022-11-30T06:14:15.204Z"
   },
   {
    "duration": 9,
    "start_time": "2022-11-30T06:14:15.268Z"
   },
   {
    "duration": 24,
    "start_time": "2022-11-30T06:14:15.280Z"
   },
   {
    "duration": 169,
    "start_time": "2022-11-30T06:14:15.306Z"
   },
   {
    "duration": 131,
    "start_time": "2022-11-30T06:14:15.477Z"
   },
   {
    "duration": 8,
    "start_time": "2022-11-30T06:14:15.610Z"
   },
   {
    "duration": 342,
    "start_time": "2022-11-30T06:14:15.620Z"
   },
   {
    "duration": 8,
    "start_time": "2022-11-30T06:14:15.963Z"
   },
   {
    "duration": 289,
    "start_time": "2022-11-30T06:14:15.972Z"
   },
   {
    "duration": 202,
    "start_time": "2022-11-30T06:14:16.263Z"
   },
   {
    "duration": 6,
    "start_time": "2022-11-30T06:14:16.466Z"
   },
   {
    "duration": 5,
    "start_time": "2022-11-30T06:14:16.474Z"
   },
   {
    "duration": 23,
    "start_time": "2022-11-30T06:14:16.481Z"
   },
   {
    "duration": 25,
    "start_time": "2022-11-30T06:14:16.506Z"
   },
   {
    "duration": 34,
    "start_time": "2022-11-30T06:14:16.533Z"
   },
   {
    "duration": 92,
    "start_time": "2022-11-30T06:14:16.568Z"
   },
   {
    "duration": 11,
    "start_time": "2022-11-30T06:14:16.662Z"
   },
   {
    "duration": 126,
    "start_time": "2022-11-30T06:14:16.674Z"
   },
   {
    "duration": 242,
    "start_time": "2022-11-30T06:14:16.801Z"
   },
   {
    "duration": 4,
    "start_time": "2022-11-30T06:14:17.045Z"
   },
   {
    "duration": 23,
    "start_time": "2022-11-30T06:14:17.052Z"
   },
   {
    "duration": 9,
    "start_time": "2022-11-30T06:14:17.077Z"
   },
   {
    "duration": 15,
    "start_time": "2022-11-30T06:14:17.088Z"
   },
   {
    "duration": 7,
    "start_time": "2022-11-30T06:14:17.105Z"
   },
   {
    "duration": 11,
    "start_time": "2022-11-30T06:14:17.114Z"
   },
   {
    "duration": 9,
    "start_time": "2022-11-30T06:14:17.127Z"
   },
   {
    "duration": 854,
    "start_time": "2022-11-30T06:14:17.137Z"
   },
   {
    "duration": 0,
    "start_time": "2022-11-30T06:14:17.993Z"
   },
   {
    "duration": 50,
    "start_time": "2022-11-30T06:15:25.839Z"
   },
   {
    "duration": 713,
    "start_time": "2022-11-30T06:15:30.001Z"
   },
   {
    "duration": 9,
    "start_time": "2022-11-30T06:15:39.653Z"
   },
   {
    "duration": 6,
    "start_time": "2022-11-30T06:20:49.575Z"
   },
   {
    "duration": 6,
    "start_time": "2022-11-30T06:20:51.603Z"
   },
   {
    "duration": 6,
    "start_time": "2022-11-30T06:20:55.189Z"
   },
   {
    "duration": 6,
    "start_time": "2022-11-30T06:20:57.293Z"
   },
   {
    "duration": 6,
    "start_time": "2022-11-30T06:20:59.483Z"
   },
   {
    "duration": 6,
    "start_time": "2022-11-30T06:21:11.828Z"
   },
   {
    "duration": 7,
    "start_time": "2022-11-30T06:21:13.974Z"
   },
   {
    "duration": 8,
    "start_time": "2022-11-30T06:21:15.294Z"
   },
   {
    "duration": 14,
    "start_time": "2022-11-30T06:21:44.784Z"
   },
   {
    "duration": 8,
    "start_time": "2022-11-30T06:21:47.543Z"
   },
   {
    "duration": 10,
    "start_time": "2022-11-30T06:21:54.498Z"
   },
   {
    "duration": 7,
    "start_time": "2022-11-30T06:22:14.647Z"
   },
   {
    "duration": 6,
    "start_time": "2022-11-30T06:22:28.551Z"
   },
   {
    "duration": 26,
    "start_time": "2022-11-30T06:22:47.614Z"
   },
   {
    "duration": 32,
    "start_time": "2022-11-30T06:22:51.877Z"
   },
   {
    "duration": 31,
    "start_time": "2022-11-30T06:22:52.795Z"
   },
   {
    "duration": 27,
    "start_time": "2022-11-30T06:22:56.371Z"
   },
   {
    "duration": 25,
    "start_time": "2022-11-30T06:22:59.456Z"
   },
   {
    "duration": 5,
    "start_time": "2022-11-30T06:23:54.464Z"
   },
   {
    "duration": 9,
    "start_time": "2022-11-30T06:24:00.112Z"
   },
   {
    "duration": 10,
    "start_time": "2022-11-30T06:24:02.778Z"
   },
   {
    "duration": 9,
    "start_time": "2022-11-30T06:24:03.762Z"
   },
   {
    "duration": 11,
    "start_time": "2022-11-30T06:24:04.613Z"
   },
   {
    "duration": 10,
    "start_time": "2022-11-30T06:24:24.113Z"
   },
   {
    "duration": 14,
    "start_time": "2022-11-30T06:24:27.288Z"
   },
   {
    "duration": 9,
    "start_time": "2022-11-30T06:24:29.761Z"
   },
   {
    "duration": 19,
    "start_time": "2022-11-30T06:24:31.370Z"
   },
   {
    "duration": 5,
    "start_time": "2022-11-30T06:24:34.030Z"
   },
   {
    "duration": 26,
    "start_time": "2022-11-30T06:24:37.744Z"
   },
   {
    "duration": 25,
    "start_time": "2022-11-30T06:25:24.270Z"
   },
   {
    "duration": 29,
    "start_time": "2022-11-30T06:26:00.843Z"
   },
   {
    "duration": 28,
    "start_time": "2022-11-30T06:26:02.390Z"
   },
   {
    "duration": 6,
    "start_time": "2022-11-30T06:26:27.246Z"
   },
   {
    "duration": 6,
    "start_time": "2022-11-30T06:26:38.826Z"
   },
   {
    "duration": 33,
    "start_time": "2022-11-30T06:26:51.036Z"
   },
   {
    "duration": 34,
    "start_time": "2022-11-30T06:26:59.874Z"
   },
   {
    "duration": 6,
    "start_time": "2022-11-30T06:32:11.728Z"
   },
   {
    "duration": 7,
    "start_time": "2022-11-30T06:32:21.109Z"
   },
   {
    "duration": 38,
    "start_time": "2022-11-30T06:32:28.543Z"
   },
   {
    "duration": 28,
    "start_time": "2022-11-30T06:32:32.927Z"
   },
   {
    "duration": 30,
    "start_time": "2022-11-30T06:32:34.421Z"
   },
   {
    "duration": 9,
    "start_time": "2022-11-30T06:33:08.925Z"
   },
   {
    "duration": 10,
    "start_time": "2022-11-30T06:33:10.907Z"
   },
   {
    "duration": 10,
    "start_time": "2022-11-30T06:33:12.411Z"
   },
   {
    "duration": 9,
    "start_time": "2022-11-30T06:33:13.574Z"
   },
   {
    "duration": 11,
    "start_time": "2022-11-30T06:33:14.732Z"
   },
   {
    "duration": 19,
    "start_time": "2022-11-30T06:33:16.223Z"
   },
   {
    "duration": 12,
    "start_time": "2022-11-30T06:33:17.805Z"
   },
   {
    "duration": 27,
    "start_time": "2022-11-30T06:33:21.876Z"
   },
   {
    "duration": 29,
    "start_time": "2022-11-30T06:33:25.730Z"
   },
   {
    "duration": 27,
    "start_time": "2022-11-30T06:33:26.871Z"
   },
   {
    "duration": 351,
    "start_time": "2022-11-30T06:33:30.706Z"
   },
   {
    "duration": 20,
    "start_time": "2022-11-30T06:33:39.197Z"
   },
   {
    "duration": 33,
    "start_time": "2022-11-30T06:33:48.373Z"
   },
   {
    "duration": 158,
    "start_time": "2022-11-30T06:33:56.562Z"
   },
   {
    "duration": 10,
    "start_time": "2022-11-30T06:34:01.638Z"
   },
   {
    "duration": 6,
    "start_time": "2022-11-30T06:34:04.209Z"
   },
   {
    "duration": 108,
    "start_time": "2022-11-30T06:34:15.916Z"
   },
   {
    "duration": 223,
    "start_time": "2022-11-30T06:34:18.149Z"
   },
   {
    "duration": 4,
    "start_time": "2022-11-30T06:34:21.821Z"
   },
   {
    "duration": 15,
    "start_time": "2022-11-30T06:34:24.645Z"
   },
   {
    "duration": 7,
    "start_time": "2022-11-30T06:34:27.250Z"
   },
   {
    "duration": 11,
    "start_time": "2022-11-30T06:34:30.285Z"
   },
   {
    "duration": 10,
    "start_time": "2022-11-30T06:34:57.812Z"
   },
   {
    "duration": 23,
    "start_time": "2022-11-30T06:35:14.683Z"
   },
   {
    "duration": 12,
    "start_time": "2022-11-30T06:35:18.802Z"
   },
   {
    "duration": 9,
    "start_time": "2022-11-30T06:35:25.368Z"
   },
   {
    "duration": 6,
    "start_time": "2022-11-30T06:35:30.282Z"
   },
   {
    "duration": 5,
    "start_time": "2022-11-30T06:35:32.763Z"
   },
   {
    "duration": 7,
    "start_time": "2022-11-30T06:35:35.397Z"
   },
   {
    "duration": 5,
    "start_time": "2022-11-30T06:46:03.305Z"
   },
   {
    "duration": 6,
    "start_time": "2022-11-30T06:46:52.472Z"
   },
   {
    "duration": 5,
    "start_time": "2022-11-30T06:47:10.931Z"
   },
   {
    "duration": 6,
    "start_time": "2022-11-30T06:47:41.923Z"
   },
   {
    "duration": 11,
    "start_time": "2022-11-30T06:48:22.880Z"
   },
   {
    "duration": 10,
    "start_time": "2022-11-30T06:54:53.395Z"
   },
   {
    "duration": 3,
    "start_time": "2022-11-30T07:00:09.170Z"
   },
   {
    "duration": 17,
    "start_time": "2022-11-30T07:00:17.921Z"
   },
   {
    "duration": 3,
    "start_time": "2022-11-30T07:43:10.535Z"
   },
   {
    "duration": 275,
    "start_time": "2022-11-30T07:43:13.222Z"
   },
   {
    "duration": 5,
    "start_time": "2022-11-30T07:43:22.891Z"
   },
   {
    "duration": 6,
    "start_time": "2022-11-30T07:43:34.451Z"
   },
   {
    "duration": 74,
    "start_time": "2022-11-30T07:49:36.653Z"
   },
   {
    "duration": 11,
    "start_time": "2022-11-30T07:50:01.077Z"
   },
   {
    "duration": 24,
    "start_time": "2022-11-30T07:50:25.014Z"
   },
   {
    "duration": 48,
    "start_time": "2022-11-30T07:50:53.750Z"
   },
   {
    "duration": 7,
    "start_time": "2022-11-30T07:55:15.433Z"
   },
   {
    "duration": 9,
    "start_time": "2022-11-30T07:55:26.421Z"
   },
   {
    "duration": 7,
    "start_time": "2022-11-30T07:55:36.136Z"
   },
   {
    "duration": 4,
    "start_time": "2022-11-30T07:55:52.863Z"
   },
   {
    "duration": 86,
    "start_time": "2022-11-30T07:56:10.272Z"
   },
   {
    "duration": 2417,
    "start_time": "2022-11-30T08:05:45.301Z"
   },
   {
    "duration": 178,
    "start_time": "2022-11-30T08:06:51.427Z"
   },
   {
    "duration": 105,
    "start_time": "2022-11-30T08:07:00.322Z"
   },
   {
    "duration": 149,
    "start_time": "2022-11-30T08:07:07.869Z"
   },
   {
    "duration": 149,
    "start_time": "2022-11-30T08:07:25.940Z"
   },
   {
    "duration": 262,
    "start_time": "2022-11-30T08:07:47.160Z"
   },
   {
    "duration": 156,
    "start_time": "2022-11-30T08:08:00.928Z"
   },
   {
    "duration": 156,
    "start_time": "2022-11-30T08:08:08.028Z"
   },
   {
    "duration": 162,
    "start_time": "2022-11-30T08:08:40.501Z"
   },
   {
    "duration": 25823,
    "start_time": "2022-11-30T08:10:52.456Z"
   },
   {
    "duration": 78,
    "start_time": "2022-11-30T08:12:13.660Z"
   },
   {
    "duration": 4,
    "start_time": "2022-11-30T08:15:47.581Z"
   },
   {
    "duration": 183,
    "start_time": "2022-11-30T08:19:14.062Z"
   },
   {
    "duration": 199,
    "start_time": "2022-11-30T08:19:20.000Z"
   },
   {
    "duration": 235,
    "start_time": "2022-11-30T08:20:09.427Z"
   },
   {
    "duration": 285,
    "start_time": "2022-11-30T08:20:21.027Z"
   },
   {
    "duration": 236,
    "start_time": "2022-11-30T08:20:43.721Z"
   },
   {
    "duration": 283,
    "start_time": "2022-11-30T08:25:41.094Z"
   },
   {
    "duration": 296,
    "start_time": "2022-11-30T08:25:47.458Z"
   },
   {
    "duration": 177,
    "start_time": "2022-11-30T08:25:56.694Z"
   },
   {
    "duration": 143,
    "start_time": "2022-11-30T08:26:04.858Z"
   },
   {
    "duration": 139,
    "start_time": "2022-11-30T08:26:15.275Z"
   },
   {
    "duration": 228,
    "start_time": "2022-11-30T08:26:25.397Z"
   },
   {
    "duration": 151,
    "start_time": "2022-11-30T08:26:32.743Z"
   },
   {
    "duration": 170,
    "start_time": "2022-11-30T08:26:45.546Z"
   },
   {
    "duration": 152,
    "start_time": "2022-11-30T08:26:51.400Z"
   },
   {
    "duration": 599,
    "start_time": "2022-11-30T08:27:08.067Z"
   },
   {
    "duration": 182,
    "start_time": "2022-11-30T08:27:20.032Z"
   },
   {
    "duration": 147,
    "start_time": "2022-11-30T08:38:35.167Z"
   },
   {
    "duration": 157,
    "start_time": "2022-11-30T08:38:47.389Z"
   },
   {
    "duration": 145,
    "start_time": "2022-11-30T08:38:51.673Z"
   },
   {
    "duration": 159,
    "start_time": "2022-11-30T08:38:57.126Z"
   },
   {
    "duration": 172,
    "start_time": "2022-11-30T08:39:01.718Z"
   },
   {
    "duration": 252,
    "start_time": "2022-11-30T08:39:05.904Z"
   },
   {
    "duration": 495,
    "start_time": "2022-11-30T08:40:18.997Z"
   },
   {
    "duration": 471,
    "start_time": "2022-11-30T08:40:29.023Z"
   },
   {
    "duration": 482,
    "start_time": "2022-11-30T08:40:42.093Z"
   },
   {
    "duration": 442,
    "start_time": "2022-11-30T08:40:55.920Z"
   },
   {
    "duration": 490,
    "start_time": "2022-11-30T08:41:14.620Z"
   },
   {
    "duration": 503,
    "start_time": "2022-11-30T08:41:24.774Z"
   },
   {
    "duration": 399,
    "start_time": "2022-11-30T08:41:38.419Z"
   },
   {
    "duration": 465,
    "start_time": "2022-11-30T08:41:45.337Z"
   },
   {
    "duration": 416,
    "start_time": "2022-11-30T08:43:18.267Z"
   },
   {
    "duration": 535,
    "start_time": "2022-11-30T08:44:02.620Z"
   },
   {
    "duration": 7,
    "start_time": "2022-11-30T08:53:58.803Z"
   },
   {
    "duration": 536,
    "start_time": "2022-11-30T08:54:15.889Z"
   },
   {
    "duration": 453,
    "start_time": "2022-11-30T09:04:39.907Z"
   },
   {
    "duration": 424,
    "start_time": "2022-11-30T09:05:13.242Z"
   },
   {
    "duration": 1031,
    "start_time": "2022-11-30T09:05:20.452Z"
   },
   {
    "duration": 414,
    "start_time": "2022-11-30T09:05:28.573Z"
   },
   {
    "duration": 499,
    "start_time": "2022-11-30T09:05:44.566Z"
   },
   {
    "duration": 429,
    "start_time": "2022-11-30T09:05:51.611Z"
   },
   {
    "duration": 432,
    "start_time": "2022-11-30T09:07:00.414Z"
   },
   {
    "duration": 716,
    "start_time": "2022-11-30T09:07:07.139Z"
   },
   {
    "duration": 302,
    "start_time": "2022-11-30T09:07:27.430Z"
   },
   {
    "duration": 80,
    "start_time": "2022-11-30T09:07:27.734Z"
   },
   {
    "duration": 1671,
    "start_time": "2022-11-30T09:07:27.816Z"
   },
   {
    "duration": 22,
    "start_time": "2022-11-30T09:07:29.489Z"
   },
   {
    "duration": 23,
    "start_time": "2022-11-30T09:07:29.513Z"
   },
   {
    "duration": 14,
    "start_time": "2022-11-30T09:07:29.537Z"
   },
   {
    "duration": 34,
    "start_time": "2022-11-30T09:07:29.552Z"
   },
   {
    "duration": 70,
    "start_time": "2022-11-30T09:07:29.588Z"
   },
   {
    "duration": 9,
    "start_time": "2022-11-30T09:07:29.659Z"
   },
   {
    "duration": 25,
    "start_time": "2022-11-30T09:07:29.669Z"
   },
   {
    "duration": 174,
    "start_time": "2022-11-30T09:07:29.696Z"
   },
   {
    "duration": 143,
    "start_time": "2022-11-30T09:07:29.872Z"
   },
   {
    "duration": 7,
    "start_time": "2022-11-30T09:07:30.017Z"
   },
   {
    "duration": 268,
    "start_time": "2022-11-30T09:07:30.027Z"
   },
   {
    "duration": 7,
    "start_time": "2022-11-30T09:07:30.297Z"
   },
   {
    "duration": 320,
    "start_time": "2022-11-30T09:07:30.305Z"
   },
   {
    "duration": 196,
    "start_time": "2022-11-30T09:07:30.626Z"
   },
   {
    "duration": 5,
    "start_time": "2022-11-30T09:07:30.824Z"
   },
   {
    "duration": 28,
    "start_time": "2022-11-30T09:07:30.831Z"
   },
   {
    "duration": 46,
    "start_time": "2022-11-30T09:07:30.861Z"
   },
   {
    "duration": 52,
    "start_time": "2022-11-30T09:07:30.910Z"
   },
   {
    "duration": 5,
    "start_time": "2022-11-30T09:07:30.965Z"
   },
   {
    "duration": 46,
    "start_time": "2022-11-30T09:07:30.972Z"
   },
   {
    "duration": 11,
    "start_time": "2022-11-30T09:07:31.020Z"
   },
   {
    "duration": 38,
    "start_time": "2022-11-30T09:07:31.033Z"
   },
   {
    "duration": 66,
    "start_time": "2022-11-30T09:07:31.073Z"
   },
   {
    "duration": 11,
    "start_time": "2022-11-30T09:07:31.141Z"
   },
   {
    "duration": 109,
    "start_time": "2022-11-30T09:07:31.154Z"
   },
   {
    "duration": 234,
    "start_time": "2022-11-30T09:07:31.265Z"
   },
   {
    "duration": 4,
    "start_time": "2022-11-30T09:07:31.501Z"
   },
   {
    "duration": 60,
    "start_time": "2022-11-30T09:07:31.506Z"
   },
   {
    "duration": 15,
    "start_time": "2022-11-30T09:07:31.567Z"
   },
   {
    "duration": 22,
    "start_time": "2022-11-30T09:07:31.584Z"
   },
   {
    "duration": 8,
    "start_time": "2022-11-30T09:07:31.607Z"
   },
   {
    "duration": 7,
    "start_time": "2022-11-30T09:07:31.616Z"
   },
   {
    "duration": 284,
    "start_time": "2022-11-30T09:07:31.624Z"
   },
   {
    "duration": 4,
    "start_time": "2022-11-30T09:07:31.910Z"
   },
   {
    "duration": 104,
    "start_time": "2022-11-30T09:07:31.915Z"
   },
   {
    "duration": 3,
    "start_time": "2022-11-30T09:07:32.021Z"
   },
   {
    "duration": 0,
    "start_time": "2022-11-30T09:07:32.026Z"
   },
   {
    "duration": 0,
    "start_time": "2022-11-30T09:07:32.027Z"
   },
   {
    "duration": 0,
    "start_time": "2022-11-30T09:07:32.028Z"
   },
   {
    "duration": 558,
    "start_time": "2022-11-30T09:07:52.124Z"
   },
   {
    "duration": 461,
    "start_time": "2022-11-30T09:08:36.866Z"
   },
   {
    "duration": 2,
    "start_time": "2022-11-30T09:08:42.755Z"
   },
   {
    "duration": 213,
    "start_time": "2022-11-30T09:11:18.771Z"
   },
   {
    "duration": 207,
    "start_time": "2022-11-30T09:11:26.050Z"
   },
   {
    "duration": 212,
    "start_time": "2022-11-30T09:11:30.879Z"
   },
   {
    "duration": 147,
    "start_time": "2022-11-30T09:11:36.469Z"
   },
   {
    "duration": 143,
    "start_time": "2022-11-30T09:11:41.119Z"
   },
   {
    "duration": 143,
    "start_time": "2022-11-30T09:11:50.820Z"
   },
   {
    "duration": 167,
    "start_time": "2022-11-30T09:11:57.972Z"
   },
   {
    "duration": 149,
    "start_time": "2022-11-30T09:16:37.271Z"
   },
   {
    "duration": 1348,
    "start_time": "2022-11-30T09:16:47.841Z"
   },
   {
    "duration": 194,
    "start_time": "2022-11-30T09:16:54.754Z"
   },
   {
    "duration": 169,
    "start_time": "2022-11-30T09:18:27.384Z"
   },
   {
    "duration": 148,
    "start_time": "2022-11-30T09:18:31.854Z"
   },
   {
    "duration": 178,
    "start_time": "2022-11-30T09:18:38.075Z"
   },
   {
    "duration": 130,
    "start_time": "2022-11-30T09:18:49.342Z"
   },
   {
    "duration": 149,
    "start_time": "2022-11-30T09:18:54.895Z"
   },
   {
    "duration": 156,
    "start_time": "2022-11-30T09:19:05.121Z"
   },
   {
    "duration": 204,
    "start_time": "2022-11-30T09:19:14.758Z"
   },
   {
    "duration": 170,
    "start_time": "2022-11-30T09:19:19.543Z"
   },
   {
    "duration": 196,
    "start_time": "2022-11-30T09:19:35.280Z"
   },
   {
    "duration": 155,
    "start_time": "2022-11-30T09:19:47.667Z"
   },
   {
    "duration": 147,
    "start_time": "2022-11-30T09:20:01.136Z"
   },
   {
    "duration": 402,
    "start_time": "2022-11-30T09:20:11.555Z"
   },
   {
    "duration": 239,
    "start_time": "2022-11-30T09:20:41.600Z"
   },
   {
    "duration": 175,
    "start_time": "2022-11-30T09:20:57.837Z"
   },
   {
    "duration": 40,
    "start_time": "2022-11-30T09:22:20.399Z"
   },
   {
    "duration": 144,
    "start_time": "2022-11-30T09:22:32.965Z"
   },
   {
    "duration": 132,
    "start_time": "2022-11-30T09:22:44.397Z"
   },
   {
    "duration": 14,
    "start_time": "2022-11-30T09:23:06.019Z"
   },
   {
    "duration": 18,
    "start_time": "2022-11-30T09:23:28.312Z"
   },
   {
    "duration": 133,
    "start_time": "2022-11-30T09:23:43.158Z"
   },
   {
    "duration": 313,
    "start_time": "2022-11-30T09:26:04.319Z"
   },
   {
    "duration": 832,
    "start_time": "2022-11-30T09:26:28.818Z"
   },
   {
    "duration": 296,
    "start_time": "2022-11-30T09:26:36.993Z"
   },
   {
    "duration": 18,
    "start_time": "2022-11-30T09:26:45.311Z"
   },
   {
    "duration": 11,
    "start_time": "2022-11-30T09:26:50.695Z"
   },
   {
    "duration": 64,
    "start_time": "2022-11-30T09:26:52.868Z"
   },
   {
    "duration": 14,
    "start_time": "2022-11-30T09:26:55.402Z"
   },
   {
    "duration": 9,
    "start_time": "2022-11-30T09:26:56.953Z"
   },
   {
    "duration": 145,
    "start_time": "2022-11-30T09:26:59.275Z"
   },
   {
    "duration": 7,
    "start_time": "2022-11-30T09:27:08.799Z"
   },
   {
    "duration": 220,
    "start_time": "2022-11-30T09:27:11.317Z"
   },
   {
    "duration": 7,
    "start_time": "2022-11-30T09:27:14.411Z"
   },
   {
    "duration": 272,
    "start_time": "2022-11-30T09:27:17.561Z"
   },
   {
    "duration": 524,
    "start_time": "2022-11-30T09:27:25.399Z"
   },
   {
    "duration": 6,
    "start_time": "2022-11-30T09:27:34.456Z"
   },
   {
    "duration": 3,
    "start_time": "2022-11-30T09:27:36.791Z"
   },
   {
    "duration": 13,
    "start_time": "2022-11-30T09:27:54.684Z"
   },
   {
    "duration": 9,
    "start_time": "2022-11-30T09:27:56.982Z"
   },
   {
    "duration": 22,
    "start_time": "2022-11-30T09:28:00.352Z"
   },
   {
    "duration": 5,
    "start_time": "2022-11-30T09:28:03.398Z"
   },
   {
    "duration": 11,
    "start_time": "2022-11-30T09:28:11.281Z"
   },
   {
    "duration": 26,
    "start_time": "2022-11-30T09:28:18.646Z"
   },
   {
    "duration": 26,
    "start_time": "2022-11-30T09:28:20.446Z"
   },
   {
    "duration": 27,
    "start_time": "2022-11-30T09:28:21.983Z"
   },
   {
    "duration": 27,
    "start_time": "2022-11-30T09:28:23.103Z"
   },
   {
    "duration": 28,
    "start_time": "2022-11-30T09:28:37.285Z"
   },
   {
    "duration": 29,
    "start_time": "2022-11-30T09:28:38.789Z"
   },
   {
    "duration": 29,
    "start_time": "2022-11-30T09:28:40.119Z"
   },
   {
    "duration": 29,
    "start_time": "2022-11-30T09:28:42.522Z"
   },
   {
    "duration": 26,
    "start_time": "2022-11-30T09:28:43.778Z"
   },
   {
    "duration": 27,
    "start_time": "2022-11-30T09:28:44.812Z"
   },
   {
    "duration": 11,
    "start_time": "2022-11-30T09:28:54.475Z"
   },
   {
    "duration": 10,
    "start_time": "2022-11-30T09:28:56.338Z"
   },
   {
    "duration": 28,
    "start_time": "2022-11-30T09:29:00.276Z"
   },
   {
    "duration": 26,
    "start_time": "2022-11-30T09:29:01.849Z"
   },
   {
    "duration": 26,
    "start_time": "2022-11-30T09:29:02.923Z"
   },
   {
    "duration": 26,
    "start_time": "2022-11-30T09:29:08.327Z"
   },
   {
    "duration": 27,
    "start_time": "2022-11-30T09:29:09.762Z"
   },
   {
    "duration": 44,
    "start_time": "2022-11-30T09:29:11.044Z"
   },
   {
    "duration": 35,
    "start_time": "2022-11-30T09:29:14.961Z"
   },
   {
    "duration": 28,
    "start_time": "2022-11-30T09:29:16.343Z"
   },
   {
    "duration": 29,
    "start_time": "2022-11-30T09:29:17.359Z"
   },
   {
    "duration": 28,
    "start_time": "2022-11-30T09:29:18.371Z"
   },
   {
    "duration": 28,
    "start_time": "2022-11-30T09:29:19.550Z"
   },
   {
    "duration": 27,
    "start_time": "2022-11-30T09:29:35.405Z"
   },
   {
    "duration": 27,
    "start_time": "2022-11-30T09:29:36.494Z"
   },
   {
    "duration": 27,
    "start_time": "2022-11-30T09:34:32.410Z"
   },
   {
    "duration": 11,
    "start_time": "2022-11-30T09:35:03.666Z"
   },
   {
    "duration": 4,
    "start_time": "2022-11-30T09:35:05.036Z"
   },
   {
    "duration": 16,
    "start_time": "2022-11-30T09:35:06.799Z"
   },
   {
    "duration": 8,
    "start_time": "2022-11-30T09:35:12.389Z"
   },
   {
    "duration": 6,
    "start_time": "2022-11-30T09:35:14.522Z"
   },
   {
    "duration": 6,
    "start_time": "2022-11-30T09:35:16.954Z"
   },
   {
    "duration": 6,
    "start_time": "2022-11-30T09:35:40.462Z"
   },
   {
    "duration": 7,
    "start_time": "2022-11-30T09:35:43.867Z"
   },
   {
    "duration": 284,
    "start_time": "2022-11-30T09:35:45.025Z"
   },
   {
    "duration": 80,
    "start_time": "2022-11-30T09:36:21.182Z"
   },
   {
    "duration": 303,
    "start_time": "2022-11-30T09:37:00.041Z"
   },
   {
    "duration": 5,
    "start_time": "2022-11-30T09:37:03.022Z"
   },
   {
    "duration": 5,
    "start_time": "2022-11-30T09:37:20.715Z"
   },
   {
    "duration": 77,
    "start_time": "2022-11-30T09:37:25.352Z"
   },
   {
    "duration": 2,
    "start_time": "2022-11-30T09:37:32.927Z"
   },
   {
    "duration": 167,
    "start_time": "2022-11-30T09:37:36.007Z"
   },
   {
    "duration": 222,
    "start_time": "2022-11-30T09:37:38.323Z"
   },
   {
    "duration": 142,
    "start_time": "2022-11-30T09:37:40.739Z"
   },
   {
    "duration": 155,
    "start_time": "2022-11-30T09:37:43.891Z"
   },
   {
    "duration": 137,
    "start_time": "2022-11-30T09:37:48.054Z"
   },
   {
    "duration": 161,
    "start_time": "2022-11-30T09:37:50.570Z"
   },
   {
    "duration": 121,
    "start_time": "2022-11-30T09:37:53.101Z"
   },
   {
    "duration": 246,
    "start_time": "2022-11-30T09:39:23.344Z"
   },
   {
    "duration": 7,
    "start_time": "2022-11-30T09:50:24.430Z"
   },
   {
    "duration": 18,
    "start_time": "2022-11-30T09:50:30.470Z"
   },
   {
    "duration": 161,
    "start_time": "2022-11-30T09:50:56.349Z"
   },
   {
    "duration": 163,
    "start_time": "2022-11-30T09:51:08.345Z"
   },
   {
    "duration": 178,
    "start_time": "2022-11-30T09:51:12.868Z"
   },
   {
    "duration": 180,
    "start_time": "2022-11-30T09:51:18.145Z"
   },
   {
    "duration": 183,
    "start_time": "2022-11-30T09:51:27.746Z"
   },
   {
    "duration": 203,
    "start_time": "2022-11-30T09:51:38.404Z"
   },
   {
    "duration": 197,
    "start_time": "2022-11-30T09:52:05.142Z"
   },
   {
    "duration": 207,
    "start_time": "2022-11-30T09:52:12.994Z"
   },
   {
    "duration": 26,
    "start_time": "2022-11-30T10:11:15.954Z"
   },
   {
    "duration": 27,
    "start_time": "2022-11-30T10:11:17.300Z"
   },
   {
    "duration": 4,
    "start_time": "2022-11-30T10:12:30.435Z"
   },
   {
    "duration": 25,
    "start_time": "2022-11-30T10:12:45.903Z"
   },
   {
    "duration": 204,
    "start_time": "2022-11-30T10:14:18.923Z"
   },
   {
    "duration": 200,
    "start_time": "2022-11-30T10:14:29.163Z"
   },
   {
    "duration": 211,
    "start_time": "2022-11-30T10:14:34.836Z"
   },
   {
    "duration": 208,
    "start_time": "2022-11-30T10:14:40.003Z"
   },
   {
    "duration": 658,
    "start_time": "2022-11-30T10:14:44.675Z"
   },
   {
    "duration": 164,
    "start_time": "2022-11-30T10:14:49.328Z"
   },
   {
    "duration": 160,
    "start_time": "2022-11-30T10:14:52.704Z"
   },
   {
    "duration": 135,
    "start_time": "2022-11-30T10:16:01.120Z"
   },
   {
    "duration": 140,
    "start_time": "2022-11-30T10:16:07.312Z"
   },
   {
    "duration": 151,
    "start_time": "2022-11-30T10:16:10.793Z"
   },
   {
    "duration": 138,
    "start_time": "2022-11-30T10:16:18.166Z"
   },
   {
    "duration": 173,
    "start_time": "2022-11-30T10:16:33.988Z"
   },
   {
    "duration": 125,
    "start_time": "2022-11-30T10:17:51.834Z"
   },
   {
    "duration": 148,
    "start_time": "2022-11-30T10:17:56.932Z"
   },
   {
    "duration": 335,
    "start_time": "2022-11-30T10:18:34.487Z"
   },
   {
    "duration": 285,
    "start_time": "2022-11-30T10:18:54.163Z"
   },
   {
    "duration": 276,
    "start_time": "2022-11-30T10:19:05.533Z"
   },
   {
    "duration": 277,
    "start_time": "2022-11-30T10:19:13.753Z"
   },
   {
    "duration": 1076,
    "start_time": "2022-11-30T12:29:21.943Z"
   },
   {
    "duration": 131,
    "start_time": "2022-11-30T12:29:28.138Z"
   },
   {
    "duration": 9,
    "start_time": "2022-11-30T12:29:51.947Z"
   },
   {
    "duration": 118,
    "start_time": "2022-11-30T12:30:32.129Z"
   },
   {
    "duration": 142,
    "start_time": "2022-11-30T12:30:37.969Z"
   },
   {
    "duration": 158,
    "start_time": "2022-11-30T12:30:47.093Z"
   },
   {
    "duration": 164,
    "start_time": "2022-11-30T12:30:53.416Z"
   },
   {
    "duration": 121,
    "start_time": "2022-11-30T12:36:55.827Z"
   },
   {
    "duration": 99,
    "start_time": "2022-11-30T12:37:05.729Z"
   },
   {
    "duration": 94,
    "start_time": "2022-11-30T12:37:11.245Z"
   },
   {
    "duration": 111,
    "start_time": "2022-11-30T12:37:14.992Z"
   },
   {
    "duration": 98,
    "start_time": "2022-11-30T12:37:20.209Z"
   },
   {
    "duration": 106,
    "start_time": "2022-11-30T12:37:37.484Z"
   },
   {
    "duration": 109,
    "start_time": "2022-11-30T12:37:42.200Z"
   },
   {
    "duration": 36,
    "start_time": "2022-11-30T12:38:32.224Z"
   },
   {
    "duration": 38,
    "start_time": "2022-11-30T12:38:41.879Z"
   },
   {
    "duration": 9,
    "start_time": "2022-11-30T12:41:33.145Z"
   },
   {
    "duration": 104,
    "start_time": "2022-11-30T12:41:44.663Z"
   },
   {
    "duration": 71,
    "start_time": "2022-11-30T13:08:42.325Z"
   },
   {
    "duration": 13,
    "start_time": "2022-11-30T13:08:58.489Z"
   },
   {
    "duration": 66,
    "start_time": "2022-11-30T13:10:34.654Z"
   },
   {
    "duration": 9,
    "start_time": "2022-11-30T13:12:26.127Z"
   },
   {
    "duration": 16,
    "start_time": "2022-11-30T13:12:34.213Z"
   },
   {
    "duration": 14,
    "start_time": "2022-11-30T13:13:00.702Z"
   },
   {
    "duration": 15,
    "start_time": "2022-11-30T13:13:29.547Z"
   },
   {
    "duration": 17,
    "start_time": "2022-11-30T13:14:57.723Z"
   },
   {
    "duration": 21,
    "start_time": "2022-11-30T13:16:02.025Z"
   },
   {
    "duration": 14,
    "start_time": "2022-11-30T13:16:17.994Z"
   },
   {
    "duration": 310,
    "start_time": "2022-11-30T13:16:25.437Z"
   },
   {
    "duration": 319,
    "start_time": "2022-11-30T13:16:44.709Z"
   },
   {
    "duration": 480,
    "start_time": "2022-11-30T13:16:53.002Z"
   },
   {
    "duration": 209,
    "start_time": "2022-11-30T13:17:34.351Z"
   },
   {
    "duration": 113,
    "start_time": "2022-11-30T13:18:00.753Z"
   },
   {
    "duration": 281,
    "start_time": "2022-11-30T13:18:05.578Z"
   },
   {
    "duration": 217,
    "start_time": "2022-11-30T13:18:48.994Z"
   },
   {
    "duration": 201,
    "start_time": "2022-11-30T13:19:30.333Z"
   },
   {
    "duration": 208,
    "start_time": "2022-11-30T13:19:44.270Z"
   },
   {
    "duration": 168,
    "start_time": "2022-11-30T13:20:37.722Z"
   },
   {
    "duration": 214,
    "start_time": "2022-11-30T13:20:55.642Z"
   },
   {
    "duration": 190,
    "start_time": "2022-11-30T13:21:14.767Z"
   },
   {
    "duration": 187,
    "start_time": "2022-11-30T13:25:38.681Z"
   },
   {
    "duration": 213,
    "start_time": "2022-11-30T13:25:42.791Z"
   },
   {
    "duration": 229,
    "start_time": "2022-11-30T13:25:57.111Z"
   },
   {
    "duration": 13,
    "start_time": "2022-11-30T14:00:35.442Z"
   },
   {
    "duration": 10,
    "start_time": "2022-11-30T14:01:14.402Z"
   },
   {
    "duration": 10,
    "start_time": "2022-11-30T14:02:05.237Z"
   },
   {
    "duration": 21,
    "start_time": "2022-11-30T14:02:40.043Z"
   },
   {
    "duration": 13,
    "start_time": "2022-11-30T14:03:44.509Z"
   },
   {
    "duration": 12,
    "start_time": "2022-11-30T14:03:49.253Z"
   },
   {
    "duration": 9,
    "start_time": "2022-11-30T14:04:05.333Z"
   },
   {
    "duration": 1147,
    "start_time": "2022-11-30T14:05:49.452Z"
   },
   {
    "duration": 19,
    "start_time": "2022-11-30T14:06:26.519Z"
   },
   {
    "duration": 12,
    "start_time": "2022-11-30T14:06:35.184Z"
   },
   {
    "duration": 10,
    "start_time": "2022-11-30T14:06:48.218Z"
   },
   {
    "duration": 14,
    "start_time": "2022-11-30T14:09:59.560Z"
   },
   {
    "duration": 14,
    "start_time": "2022-11-30T14:10:08.740Z"
   },
   {
    "duration": 13,
    "start_time": "2022-11-30T14:10:10.637Z"
   },
   {
    "duration": 11,
    "start_time": "2022-11-30T14:10:22.090Z"
   },
   {
    "duration": 5,
    "start_time": "2022-11-30T14:12:36.960Z"
   },
   {
    "duration": 16,
    "start_time": "2022-11-30T14:12:43.200Z"
   },
   {
    "duration": 11,
    "start_time": "2022-11-30T14:12:50.437Z"
   },
   {
    "duration": 6,
    "start_time": "2022-11-30T14:13:29.955Z"
   },
   {
    "duration": 8,
    "start_time": "2022-11-30T14:13:35.318Z"
   },
   {
    "duration": 10,
    "start_time": "2022-11-30T14:13:46.570Z"
   },
   {
    "duration": 11,
    "start_time": "2022-11-30T14:13:57.933Z"
   },
   {
    "duration": 182,
    "start_time": "2022-11-30T14:15:58.326Z"
   },
   {
    "duration": 13,
    "start_time": "2022-11-30T14:16:48.139Z"
   },
   {
    "duration": 13,
    "start_time": "2022-11-30T14:16:50.127Z"
   },
   {
    "duration": 12,
    "start_time": "2022-11-30T14:16:53.699Z"
   },
   {
    "duration": 4,
    "start_time": "2022-11-30T14:16:56.088Z"
   },
   {
    "duration": 10,
    "start_time": "2022-11-30T14:16:57.499Z"
   },
   {
    "duration": 214,
    "start_time": "2022-11-30T14:17:06.411Z"
   },
   {
    "duration": 13,
    "start_time": "2022-11-30T14:17:41.688Z"
   },
   {
    "duration": 229,
    "start_time": "2022-11-30T14:17:52.213Z"
   },
   {
    "duration": 6,
    "start_time": "2022-11-30T14:24:01.357Z"
   },
   {
    "duration": 92,
    "start_time": "2022-11-30T14:26:04.358Z"
   },
   {
    "duration": 28,
    "start_time": "2022-11-30T14:26:14.011Z"
   },
   {
    "duration": 21,
    "start_time": "2022-11-30T14:26:33.082Z"
   },
   {
    "duration": 15,
    "start_time": "2022-11-30T14:26:39.715Z"
   },
   {
    "duration": 855,
    "start_time": "2022-11-30T14:27:15.063Z"
   },
   {
    "duration": 9,
    "start_time": "2022-11-30T14:27:23.667Z"
   },
   {
    "duration": 274,
    "start_time": "2022-11-30T14:27:38.139Z"
   },
   {
    "duration": 12,
    "start_time": "2022-11-30T14:27:56.108Z"
   },
   {
    "duration": 11,
    "start_time": "2022-11-30T14:29:26.153Z"
   },
   {
    "duration": 431,
    "start_time": "2022-11-30T14:30:03.342Z"
   },
   {
    "duration": 978,
    "start_time": "2022-11-30T14:32:36.959Z"
   },
   {
    "duration": 26,
    "start_time": "2022-11-30T14:32:51.071Z"
   },
   {
    "duration": 963,
    "start_time": "2022-11-30T14:33:33.263Z"
   },
   {
    "duration": 9,
    "start_time": "2022-11-30T14:33:42.627Z"
   },
   {
    "duration": 11,
    "start_time": "2022-11-30T14:33:55.619Z"
   },
   {
    "duration": 11,
    "start_time": "2022-11-30T14:34:37.999Z"
   },
   {
    "duration": 1287,
    "start_time": "2022-11-30T14:35:24.155Z"
   },
   {
    "duration": 3258,
    "start_time": "2022-11-30T14:37:17.082Z"
   },
   {
    "duration": 2772,
    "start_time": "2022-11-30T14:38:47.331Z"
   },
   {
    "duration": 2730,
    "start_time": "2022-11-30T14:39:04.049Z"
   },
   {
    "duration": 2731,
    "start_time": "2022-11-30T14:39:13.258Z"
   },
   {
    "duration": 131,
    "start_time": "2022-11-30T14:40:30.712Z"
   },
   {
    "duration": 288,
    "start_time": "2022-11-30T14:40:34.394Z"
   },
   {
    "duration": 228,
    "start_time": "2022-11-30T14:40:43.781Z"
   },
   {
    "duration": 261,
    "start_time": "2022-11-30T14:40:58.999Z"
   },
   {
    "duration": 240,
    "start_time": "2022-11-30T14:41:05.004Z"
   },
   {
    "duration": 264,
    "start_time": "2022-11-30T14:41:10.608Z"
   },
   {
    "duration": 1099,
    "start_time": "2022-11-30T14:42:17.510Z"
   },
   {
    "duration": 1113,
    "start_time": "2022-11-30T14:42:22.200Z"
   },
   {
    "duration": 26,
    "start_time": "2022-11-30T14:44:33.933Z"
   },
   {
    "duration": 15,
    "start_time": "2022-11-30T14:44:39.954Z"
   },
   {
    "duration": 21,
    "start_time": "2022-11-30T14:44:41.855Z"
   },
   {
    "duration": 20,
    "start_time": "2022-11-30T14:44:48.363Z"
   },
   {
    "duration": 13,
    "start_time": "2022-11-30T14:45:13.906Z"
   },
   {
    "duration": 177,
    "start_time": "2022-11-30T14:45:25.857Z"
   },
   {
    "duration": 156,
    "start_time": "2022-11-30T14:46:23.273Z"
   },
   {
    "duration": 209,
    "start_time": "2022-11-30T14:46:31.456Z"
   },
   {
    "duration": 13,
    "start_time": "2022-11-30T14:48:26.524Z"
   },
   {
    "duration": 325,
    "start_time": "2022-11-30T14:49:07.939Z"
   },
   {
    "duration": 13,
    "start_time": "2022-11-30T14:49:19.354Z"
   },
   {
    "duration": 219,
    "start_time": "2022-11-30T14:59:07.619Z"
   },
   {
    "duration": 21,
    "start_time": "2022-11-30T15:06:32.987Z"
   },
   {
    "duration": 26330,
    "start_time": "2022-11-30T15:08:20.273Z"
   },
   {
    "duration": 0,
    "start_time": "2022-11-30T15:08:46.605Z"
   },
   {
    "duration": 869,
    "start_time": "2022-11-30T15:08:58.355Z"
   },
   {
    "duration": 5996,
    "start_time": "2022-11-30T15:10:22.366Z"
   },
   {
    "duration": 1126,
    "start_time": "2022-11-30T15:11:10.474Z"
   },
   {
    "duration": 2001,
    "start_time": "2022-11-30T15:11:55.881Z"
   },
   {
    "duration": 235,
    "start_time": "2022-11-30T15:12:50.316Z"
   },
   {
    "duration": 225,
    "start_time": "2022-11-30T15:14:31.040Z"
   },
   {
    "duration": 216,
    "start_time": "2022-11-30T15:14:41.610Z"
   },
   {
    "duration": 220,
    "start_time": "2022-11-30T15:14:47.227Z"
   },
   {
    "duration": 16,
    "start_time": "2022-11-30T15:16:19.851Z"
   },
   {
    "duration": 27,
    "start_time": "2022-11-30T15:16:49.953Z"
   },
   {
    "duration": 19,
    "start_time": "2022-11-30T15:16:59.716Z"
   },
   {
    "duration": 14,
    "start_time": "2022-11-30T15:17:11.609Z"
   },
   {
    "duration": 11,
    "start_time": "2022-11-30T15:17:17.687Z"
   },
   {
    "duration": 11,
    "start_time": "2022-11-30T15:19:21.730Z"
   },
   {
    "duration": 15,
    "start_time": "2022-11-30T15:19:31.809Z"
   },
   {
    "duration": 21,
    "start_time": "2022-11-30T15:19:51.442Z"
   },
   {
    "duration": 158,
    "start_time": "2022-11-30T15:27:36.286Z"
   },
   {
    "duration": 945,
    "start_time": "2022-11-30T15:27:59.387Z"
   },
   {
    "duration": 14,
    "start_time": "2022-11-30T15:28:10.582Z"
   },
   {
    "duration": 109,
    "start_time": "2022-11-30T15:28:27.644Z"
   },
   {
    "duration": 15,
    "start_time": "2022-11-30T15:32:57.203Z"
   },
   {
    "duration": 15,
    "start_time": "2022-11-30T15:33:32.054Z"
   },
   {
    "duration": 4,
    "start_time": "2022-11-30T15:37:48.168Z"
   },
   {
    "duration": 8,
    "start_time": "2022-11-30T15:38:07.114Z"
   },
   {
    "duration": 14,
    "start_time": "2022-11-30T15:38:12.628Z"
   },
   {
    "duration": 15,
    "start_time": "2022-11-30T15:38:53.672Z"
   },
   {
    "duration": 14,
    "start_time": "2022-11-30T15:39:18.581Z"
   },
   {
    "duration": 15,
    "start_time": "2022-11-30T15:39:27.865Z"
   },
   {
    "duration": 23,
    "start_time": "2022-11-30T15:40:09.200Z"
   },
   {
    "duration": 46,
    "start_time": "2022-11-30T15:40:41.430Z"
   },
   {
    "duration": 26,
    "start_time": "2022-11-30T15:40:57.122Z"
   },
   {
    "duration": 25,
    "start_time": "2022-11-30T15:41:06.761Z"
   },
   {
    "duration": 24,
    "start_time": "2022-11-30T15:41:25.807Z"
   },
   {
    "duration": 9,
    "start_time": "2022-11-30T15:41:49.688Z"
   },
   {
    "duration": 25,
    "start_time": "2022-11-30T15:42:03.296Z"
   },
   {
    "duration": 21,
    "start_time": "2022-11-30T15:45:47.851Z"
   },
   {
    "duration": 64,
    "start_time": "2022-11-30T15:46:43.076Z"
   },
   {
    "duration": 26,
    "start_time": "2022-11-30T15:46:58.106Z"
   },
   {
    "duration": 273,
    "start_time": "2022-11-30T15:50:10.634Z"
   },
   {
    "duration": 32,
    "start_time": "2022-11-30T15:50:28.939Z"
   },
   {
    "duration": 182,
    "start_time": "2022-11-30T15:50:55.322Z"
   },
   {
    "duration": 489,
    "start_time": "2022-11-30T15:50:59.482Z"
   },
   {
    "duration": 263,
    "start_time": "2022-11-30T15:51:04.235Z"
   },
   {
    "duration": 41,
    "start_time": "2022-11-30T15:51:20.664Z"
   },
   {
    "duration": 27,
    "start_time": "2022-11-30T15:51:24.574Z"
   },
   {
    "duration": 27,
    "start_time": "2022-11-30T15:51:39.717Z"
   },
   {
    "duration": 19,
    "start_time": "2022-11-30T15:53:49.665Z"
   },
   {
    "duration": 863,
    "start_time": "2022-11-30T15:54:12.809Z"
   },
   {
    "duration": 32,
    "start_time": "2022-11-30T15:54:34.786Z"
   },
   {
    "duration": 24,
    "start_time": "2022-11-30T15:54:42.845Z"
   },
   {
    "duration": 40,
    "start_time": "2022-11-30T15:55:26.885Z"
   },
   {
    "duration": 48,
    "start_time": "2022-11-30T15:55:39.993Z"
   },
   {
    "duration": 23,
    "start_time": "2022-11-30T15:56:12.153Z"
   },
   {
    "duration": 38,
    "start_time": "2022-11-30T15:57:41.446Z"
   },
   {
    "duration": 63,
    "start_time": "2022-11-30T16:00:48.972Z"
   },
   {
    "duration": 28,
    "start_time": "2022-11-30T16:00:57.945Z"
   },
   {
    "duration": 27,
    "start_time": "2022-11-30T16:03:25.658Z"
   },
   {
    "duration": 11,
    "start_time": "2022-11-30T16:05:15.183Z"
   },
   {
    "duration": 49,
    "start_time": "2022-11-30T16:07:14.495Z"
   },
   {
    "duration": 62,
    "start_time": "2022-11-30T16:07:36.742Z"
   },
   {
    "duration": 80,
    "start_time": "2022-11-30T16:07:41.992Z"
   },
   {
    "duration": 69,
    "start_time": "2022-11-30T16:08:19.495Z"
   },
   {
    "duration": 58,
    "start_time": "2022-11-30T16:10:20.468Z"
   },
   {
    "duration": 28,
    "start_time": "2022-11-30T16:10:33.632Z"
   },
   {
    "duration": 48,
    "start_time": "2022-11-30T16:10:53.550Z"
   },
   {
    "duration": 247,
    "start_time": "2022-11-30T16:31:40.229Z"
   },
   {
    "duration": 203,
    "start_time": "2022-11-30T16:32:12.279Z"
   },
   {
    "duration": 922,
    "start_time": "2022-11-30T16:32:39.620Z"
   },
   {
    "duration": 21,
    "start_time": "2022-11-30T16:54:41.121Z"
   },
   {
    "duration": 18,
    "start_time": "2022-11-30T16:55:03.283Z"
   },
   {
    "duration": 15,
    "start_time": "2022-11-30T16:55:41.838Z"
   },
   {
    "duration": 23,
    "start_time": "2022-11-30T16:57:08.642Z"
   },
   {
    "duration": 61,
    "start_time": "2022-11-30T16:58:01.380Z"
   },
   {
    "duration": 17,
    "start_time": "2022-11-30T16:58:16.958Z"
   },
   {
    "duration": 20,
    "start_time": "2022-11-30T16:58:21.883Z"
   },
   {
    "duration": 30,
    "start_time": "2022-11-30T16:59:05.089Z"
   },
   {
    "duration": 46,
    "start_time": "2022-11-30T17:58:10.510Z"
   },
   {
    "duration": 265,
    "start_time": "2022-11-30T17:58:23.421Z"
   },
   {
    "duration": 307,
    "start_time": "2022-11-30T17:58:57.253Z"
   },
   {
    "duration": 183,
    "start_time": "2022-11-30T18:00:04.776Z"
   },
   {
    "duration": 258,
    "start_time": "2022-11-30T18:03:46.422Z"
   },
   {
    "duration": 170,
    "start_time": "2022-11-30T18:03:50.904Z"
   },
   {
    "duration": 309,
    "start_time": "2022-11-30T18:04:21.334Z"
   },
   {
    "duration": 179,
    "start_time": "2022-11-30T18:04:25.238Z"
   },
   {
    "duration": 190,
    "start_time": "2022-11-30T18:05:05.721Z"
   },
   {
    "duration": 449,
    "start_time": "2022-11-30T18:05:09.906Z"
   },
   {
    "duration": 146,
    "start_time": "2022-11-30T18:05:22.133Z"
   },
   {
    "duration": 428,
    "start_time": "2022-11-30T18:05:25.194Z"
   },
   {
    "duration": 185,
    "start_time": "2022-11-30T18:05:29.666Z"
   },
   {
    "duration": 164,
    "start_time": "2022-11-30T18:06:16.080Z"
   },
   {
    "duration": 258,
    "start_time": "2022-11-30T18:07:10.627Z"
   },
   {
    "duration": 182,
    "start_time": "2022-11-30T18:07:14.163Z"
   },
   {
    "duration": 7,
    "start_time": "2022-11-30T18:07:47.872Z"
   },
   {
    "duration": 249,
    "start_time": "2022-11-30T18:10:22.018Z"
   },
   {
    "duration": 400,
    "start_time": "2022-11-30T18:10:51.686Z"
   },
   {
    "duration": 146,
    "start_time": "2022-11-30T18:11:45.128Z"
   },
   {
    "duration": 7,
    "start_time": "2022-11-30T18:11:49.210Z"
   },
   {
    "duration": 175,
    "start_time": "2022-11-30T18:12:12.955Z"
   },
   {
    "duration": 139,
    "start_time": "2022-11-30T18:12:20.664Z"
   },
   {
    "duration": 161,
    "start_time": "2022-11-30T18:12:27.948Z"
   },
   {
    "duration": 153,
    "start_time": "2022-11-30T18:12:44.919Z"
   },
   {
    "duration": 142,
    "start_time": "2022-11-30T18:13:07.022Z"
   },
   {
    "duration": 161,
    "start_time": "2022-11-30T18:13:29.833Z"
   },
   {
    "duration": 4,
    "start_time": "2022-11-30T18:14:31.143Z"
   },
   {
    "duration": 10,
    "start_time": "2022-11-30T18:16:26.061Z"
   },
   {
    "duration": 9,
    "start_time": "2022-11-30T18:29:29.096Z"
   },
   {
    "duration": 10,
    "start_time": "2022-11-30T18:29:35.834Z"
   },
   {
    "duration": 13,
    "start_time": "2022-11-30T18:29:54.720Z"
   },
   {
    "duration": 10,
    "start_time": "2022-11-30T18:30:00.189Z"
   },
   {
    "duration": 4,
    "start_time": "2022-11-30T18:41:02.230Z"
   },
   {
    "duration": 163,
    "start_time": "2022-11-30T18:41:59.365Z"
   },
   {
    "duration": 229,
    "start_time": "2022-11-30T18:42:13.946Z"
   },
   {
    "duration": 49,
    "start_time": "2022-12-02T06:01:51.712Z"
   },
   {
    "duration": 1871,
    "start_time": "2022-12-02T06:01:55.859Z"
   },
   {
    "duration": 83,
    "start_time": "2022-12-02T06:01:57.732Z"
   },
   {
    "duration": 10,
    "start_time": "2022-12-02T06:01:57.817Z"
   },
   {
    "duration": 24,
    "start_time": "2022-12-02T06:01:57.828Z"
   },
   {
    "duration": 12,
    "start_time": "2022-12-02T06:01:57.854Z"
   },
   {
    "duration": 97,
    "start_time": "2022-12-02T06:01:57.868Z"
   },
   {
    "duration": 11,
    "start_time": "2022-12-02T06:01:57.967Z"
   },
   {
    "duration": 25,
    "start_time": "2022-12-02T06:01:57.980Z"
   },
   {
    "duration": 203,
    "start_time": "2022-12-02T06:01:58.007Z"
   },
   {
    "duration": 144,
    "start_time": "2022-12-02T06:01:58.211Z"
   },
   {
    "duration": 7,
    "start_time": "2022-12-02T06:01:58.357Z"
   },
   {
    "duration": 258,
    "start_time": "2022-12-02T06:01:58.366Z"
   },
   {
    "duration": 7,
    "start_time": "2022-12-02T06:01:58.626Z"
   },
   {
    "duration": 386,
    "start_time": "2022-12-02T06:01:58.636Z"
   },
   {
    "duration": 207,
    "start_time": "2022-12-02T06:01:59.023Z"
   },
   {
    "duration": 7,
    "start_time": "2022-12-02T06:01:59.232Z"
   },
   {
    "duration": 7,
    "start_time": "2022-12-02T06:01:59.240Z"
   },
   {
    "duration": 14,
    "start_time": "2022-12-02T06:01:59.249Z"
   },
   {
    "duration": 44,
    "start_time": "2022-12-02T06:01:59.265Z"
   },
   {
    "duration": 30,
    "start_time": "2022-12-02T06:01:59.311Z"
   },
   {
    "duration": 12,
    "start_time": "2022-12-02T06:01:59.343Z"
   },
   {
    "duration": 157,
    "start_time": "2022-12-02T06:01:59.358Z"
   },
   {
    "duration": 267,
    "start_time": "2022-12-02T06:01:59.517Z"
   },
   {
    "duration": 12,
    "start_time": "2022-12-02T06:01:59.786Z"
   },
   {
    "duration": 16,
    "start_time": "2022-12-02T06:01:59.799Z"
   },
   {
    "duration": 6,
    "start_time": "2022-12-02T06:01:59.817Z"
   },
   {
    "duration": 11,
    "start_time": "2022-12-02T06:01:59.825Z"
   },
   {
    "duration": 6,
    "start_time": "2022-12-02T06:01:59.838Z"
   },
   {
    "duration": 6,
    "start_time": "2022-12-02T06:01:59.846Z"
   },
   {
    "duration": 343,
    "start_time": "2022-12-02T06:01:59.853Z"
   },
   {
    "duration": 6,
    "start_time": "2022-12-02T06:02:00.198Z"
   },
   {
    "duration": 228,
    "start_time": "2022-12-02T06:02:00.206Z"
   },
   {
    "duration": 273,
    "start_time": "2022-12-02T06:02:00.435Z"
   },
   {
    "duration": 280,
    "start_time": "2022-12-02T06:02:00.710Z"
   },
   {
    "duration": 501,
    "start_time": "2022-12-02T06:02:00.992Z"
   },
   {
    "duration": 182,
    "start_time": "2022-12-02T06:02:01.496Z"
   },
   {
    "duration": 192,
    "start_time": "2022-12-02T06:02:01.680Z"
   },
   {
    "duration": 216,
    "start_time": "2022-12-02T06:02:01.873Z"
   },
   {
    "duration": 139,
    "start_time": "2022-12-02T06:02:02.091Z"
   },
   {
    "duration": 282,
    "start_time": "2022-12-02T06:02:02.231Z"
   },
   {
    "duration": 337,
    "start_time": "2022-12-02T06:02:02.517Z"
   },
   {
    "duration": 193,
    "start_time": "2022-12-02T06:02:02.856Z"
   },
   {
    "duration": 158,
    "start_time": "2022-12-02T06:02:03.051Z"
   },
   {
    "duration": 330,
    "start_time": "2022-12-02T06:02:03.211Z"
   },
   {
    "duration": 171,
    "start_time": "2022-12-02T06:02:03.543Z"
   },
   {
    "duration": 9,
    "start_time": "2022-12-02T06:02:03.715Z"
   },
   {
    "duration": 13,
    "start_time": "2022-12-02T06:02:03.725Z"
   },
   {
    "duration": 1295,
    "start_time": "2022-12-02T06:02:03.739Z"
   },
   {
    "duration": 16,
    "start_time": "2022-12-02T06:02:05.035Z"
   },
   {
    "duration": 43,
    "start_time": "2022-12-02T06:02:05.053Z"
   },
   {
    "duration": 201,
    "start_time": "2022-12-02T06:02:05.098Z"
   },
   {
    "duration": 98,
    "start_time": "2022-12-02T06:02:05.301Z"
   },
   {
    "duration": 2,
    "start_time": "2022-12-02T06:16:06.351Z"
   },
   {
    "duration": 491,
    "start_time": "2022-12-02T06:19:18.753Z"
   },
   {
    "duration": 3,
    "start_time": "2022-12-02T06:19:19.246Z"
   },
   {
    "duration": 87,
    "start_time": "2022-12-02T06:19:19.251Z"
   },
   {
    "duration": 9,
    "start_time": "2022-12-02T06:19:19.340Z"
   },
   {
    "duration": 20,
    "start_time": "2022-12-02T06:19:19.350Z"
   },
   {
    "duration": 27,
    "start_time": "2022-12-02T06:19:19.372Z"
   },
   {
    "duration": 66,
    "start_time": "2022-12-02T06:19:19.401Z"
   },
   {
    "duration": 27,
    "start_time": "2022-12-02T06:19:19.469Z"
   },
   {
    "duration": 9,
    "start_time": "2022-12-02T06:19:19.498Z"
   },
   {
    "duration": 180,
    "start_time": "2022-12-02T06:19:19.509Z"
   },
   {
    "duration": 147,
    "start_time": "2022-12-02T06:19:19.696Z"
   },
   {
    "duration": 7,
    "start_time": "2022-12-02T06:19:19.845Z"
   },
   {
    "duration": 270,
    "start_time": "2022-12-02T06:19:19.853Z"
   },
   {
    "duration": 7,
    "start_time": "2022-12-02T06:19:20.125Z"
   },
   {
    "duration": 343,
    "start_time": "2022-12-02T06:19:20.134Z"
   },
   {
    "duration": 214,
    "start_time": "2022-12-02T06:19:20.480Z"
   },
   {
    "duration": 7,
    "start_time": "2022-12-02T06:19:20.696Z"
   },
   {
    "duration": 5,
    "start_time": "2022-12-02T06:19:20.705Z"
   },
   {
    "duration": 14,
    "start_time": "2022-12-02T06:19:20.712Z"
   },
   {
    "duration": 24,
    "start_time": "2022-12-02T06:19:20.727Z"
   },
   {
    "duration": 61,
    "start_time": "2022-12-02T06:19:20.753Z"
   },
   {
    "duration": 11,
    "start_time": "2022-12-02T06:19:20.816Z"
   },
   {
    "duration": 159,
    "start_time": "2022-12-02T06:19:20.828Z"
   },
   {
    "duration": 293,
    "start_time": "2022-12-02T06:19:20.988Z"
   },
   {
    "duration": 3,
    "start_time": "2022-12-02T06:19:21.283Z"
   },
   {
    "duration": 14,
    "start_time": "2022-12-02T06:19:21.296Z"
   },
   {
    "duration": 11,
    "start_time": "2022-12-02T06:19:21.312Z"
   },
   {
    "duration": 8,
    "start_time": "2022-12-02T06:19:21.326Z"
   },
   {
    "duration": 6,
    "start_time": "2022-12-02T06:19:21.336Z"
   },
   {
    "duration": 10,
    "start_time": "2022-12-02T06:19:21.344Z"
   },
   {
    "duration": 468,
    "start_time": "2022-12-02T06:19:21.356Z"
   },
   {
    "duration": 5,
    "start_time": "2022-12-02T06:19:21.825Z"
   },
   {
    "duration": 220,
    "start_time": "2022-12-02T06:19:21.832Z"
   },
   {
    "duration": 274,
    "start_time": "2022-12-02T06:19:22.054Z"
   },
   {
    "duration": 174,
    "start_time": "2022-12-02T06:19:22.330Z"
   },
   {
    "duration": 491,
    "start_time": "2022-12-02T06:19:22.505Z"
   },
   {
    "duration": 185,
    "start_time": "2022-12-02T06:19:22.998Z"
   },
   {
    "duration": 175,
    "start_time": "2022-12-02T06:19:23.184Z"
   },
   {
    "duration": 191,
    "start_time": "2022-12-02T06:19:23.361Z"
   },
   {
    "duration": 131,
    "start_time": "2022-12-02T06:19:23.554Z"
   },
   {
    "duration": 296,
    "start_time": "2022-12-02T06:19:23.687Z"
   },
   {
    "duration": 396,
    "start_time": "2022-12-02T06:19:23.985Z"
   },
   {
    "duration": 193,
    "start_time": "2022-12-02T06:19:24.383Z"
   },
   {
    "duration": 167,
    "start_time": "2022-12-02T06:19:24.577Z"
   },
   {
    "duration": 345,
    "start_time": "2022-12-02T06:19:24.746Z"
   },
   {
    "duration": 182,
    "start_time": "2022-12-02T06:19:25.093Z"
   },
   {
    "duration": 22,
    "start_time": "2022-12-02T06:19:25.277Z"
   },
   {
    "duration": 14,
    "start_time": "2022-12-02T06:19:25.301Z"
   },
   {
    "duration": 1363,
    "start_time": "2022-12-02T06:19:25.317Z"
   },
   {
    "duration": 22,
    "start_time": "2022-12-02T06:19:26.682Z"
   },
   {
    "duration": 27,
    "start_time": "2022-12-02T06:19:26.706Z"
   },
   {
    "duration": 226,
    "start_time": "2022-12-02T06:19:26.736Z"
   },
   {
    "duration": 110,
    "start_time": "2022-12-02T06:19:26.964Z"
   },
   {
    "duration": 48,
    "start_time": "2022-12-03T06:32:17.760Z"
   },
   {
    "duration": 2040,
    "start_time": "2022-12-03T06:32:24.198Z"
   },
   {
    "duration": 3,
    "start_time": "2022-12-03T06:32:26.240Z"
   },
   {
    "duration": 200,
    "start_time": "2022-12-03T06:32:26.245Z"
   },
   {
    "duration": 69,
    "start_time": "2022-12-03T06:32:26.447Z"
   },
   {
    "duration": 119,
    "start_time": "2022-12-03T06:32:26.519Z"
   },
   {
    "duration": 76,
    "start_time": "2022-12-03T06:32:26.640Z"
   },
   {
    "duration": 13,
    "start_time": "2022-12-03T06:32:26.718Z"
   },
   {
    "duration": 178,
    "start_time": "2022-12-03T06:32:26.734Z"
   },
   {
    "duration": 12,
    "start_time": "2022-12-03T06:32:26.915Z"
   },
   {
    "duration": 10,
    "start_time": "2022-12-03T06:32:26.929Z"
   },
   {
    "duration": 475,
    "start_time": "2022-12-03T06:32:26.941Z"
   },
   {
    "duration": 298,
    "start_time": "2022-12-03T06:32:27.418Z"
   },
   {
    "duration": 7,
    "start_time": "2022-12-03T06:32:27.718Z"
   },
   {
    "duration": 519,
    "start_time": "2022-12-03T06:32:27.729Z"
   },
   {
    "duration": 64,
    "start_time": "2022-12-03T06:32:28.250Z"
   },
   {
    "duration": 438,
    "start_time": "2022-12-03T06:32:28.316Z"
   },
   {
    "duration": 217,
    "start_time": "2022-12-03T06:32:28.755Z"
   },
   {
    "duration": 6,
    "start_time": "2022-12-03T06:32:28.974Z"
   },
   {
    "duration": 5,
    "start_time": "2022-12-03T06:32:28.983Z"
   },
   {
    "duration": 31,
    "start_time": "2022-12-03T06:32:28.989Z"
   },
   {
    "duration": 24,
    "start_time": "2022-12-03T06:32:29.022Z"
   },
   {
    "duration": 28,
    "start_time": "2022-12-03T06:32:29.047Z"
   },
   {
    "duration": 11,
    "start_time": "2022-12-03T06:32:29.077Z"
   },
   {
    "duration": 130,
    "start_time": "2022-12-03T06:32:29.112Z"
   },
   {
    "duration": 300,
    "start_time": "2022-12-03T06:32:29.244Z"
   },
   {
    "duration": 5,
    "start_time": "2022-12-03T06:32:29.546Z"
   },
   {
    "duration": 18,
    "start_time": "2022-12-03T06:32:29.552Z"
   },
   {
    "duration": 9,
    "start_time": "2022-12-03T06:32:29.572Z"
   },
   {
    "duration": 27,
    "start_time": "2022-12-03T06:32:29.585Z"
   },
   {
    "duration": 7,
    "start_time": "2022-12-03T06:32:29.614Z"
   },
   {
    "duration": 9,
    "start_time": "2022-12-03T06:32:29.624Z"
   },
   {
    "duration": 340,
    "start_time": "2022-12-03T06:32:29.636Z"
   },
   {
    "duration": 4,
    "start_time": "2022-12-03T06:32:29.978Z"
   },
   {
    "duration": 240,
    "start_time": "2022-12-03T06:32:29.984Z"
   },
   {
    "duration": 283,
    "start_time": "2022-12-03T06:32:30.226Z"
   },
   {
    "duration": 280,
    "start_time": "2022-12-03T06:32:30.511Z"
   },
   {
    "duration": 558,
    "start_time": "2022-12-03T06:32:30.793Z"
   },
   {
    "duration": 199,
    "start_time": "2022-12-03T06:32:31.353Z"
   },
   {
    "duration": 192,
    "start_time": "2022-12-03T06:32:31.554Z"
   },
   {
    "duration": 213,
    "start_time": "2022-12-03T06:32:31.747Z"
   },
   {
    "duration": 168,
    "start_time": "2022-12-03T06:32:31.966Z"
   },
   {
    "duration": 367,
    "start_time": "2022-12-03T06:32:32.136Z"
   },
   {
    "duration": 469,
    "start_time": "2022-12-03T06:32:32.504Z"
   },
   {
    "duration": 216,
    "start_time": "2022-12-03T06:32:32.975Z"
   },
   {
    "duration": 178,
    "start_time": "2022-12-03T06:32:33.193Z"
   },
   {
    "duration": 390,
    "start_time": "2022-12-03T06:32:33.372Z"
   },
   {
    "duration": 201,
    "start_time": "2022-12-03T06:32:33.764Z"
   },
   {
    "duration": 10,
    "start_time": "2022-12-03T06:32:33.967Z"
   },
   {
    "duration": 37,
    "start_time": "2022-12-03T06:32:33.979Z"
   },
   {
    "duration": 1408,
    "start_time": "2022-12-03T06:32:34.018Z"
   },
   {
    "duration": 17,
    "start_time": "2022-12-03T06:32:35.427Z"
   },
   {
    "duration": 30,
    "start_time": "2022-12-03T06:32:35.446Z"
   },
   {
    "duration": 231,
    "start_time": "2022-12-03T06:32:35.478Z"
   },
   {
    "duration": 29,
    "start_time": "2022-12-03T06:39:14.998Z"
   },
   {
    "duration": 48,
    "start_time": "2022-12-05T07:58:30.553Z"
   },
   {
    "duration": 1551,
    "start_time": "2022-12-05T07:58:43.870Z"
   },
   {
    "duration": 442,
    "start_time": "2022-12-05T07:58:45.426Z"
   },
   {
    "duration": 355,
    "start_time": "2022-12-05T07:59:01.015Z"
   },
   {
    "duration": 4,
    "start_time": "2022-12-05T08:09:53.813Z"
   },
   {
    "duration": 17,
    "start_time": "2022-12-05T08:09:58.015Z"
   },
   {
    "duration": 80,
    "start_time": "2022-12-05T08:10:01.855Z"
   },
   {
    "duration": 364,
    "start_time": "2022-12-05T08:15:31.868Z"
   },
   {
    "duration": 12,
    "start_time": "2022-12-05T08:29:39.278Z"
   },
   {
    "duration": 18,
    "start_time": "2022-12-05T08:29:49.066Z"
   },
   {
    "duration": 10,
    "start_time": "2022-12-05T08:30:20.350Z"
   },
   {
    "duration": 71,
    "start_time": "2022-12-05T08:30:32.265Z"
   },
   {
    "duration": 14,
    "start_time": "2022-12-05T08:30:53.629Z"
   },
   {
    "duration": 11,
    "start_time": "2022-12-05T08:31:00.151Z"
   },
   {
    "duration": 11,
    "start_time": "2022-12-05T08:31:05.380Z"
   },
   {
    "duration": 27,
    "start_time": "2022-12-05T08:31:08.931Z"
   },
   {
    "duration": 11,
    "start_time": "2022-12-05T08:31:13.399Z"
   },
   {
    "duration": 11,
    "start_time": "2022-12-05T08:31:18.627Z"
   },
   {
    "duration": 10,
    "start_time": "2022-12-05T08:31:24.350Z"
   },
   {
    "duration": 11,
    "start_time": "2022-12-05T08:31:33.344Z"
   },
   {
    "duration": 16,
    "start_time": "2022-12-05T08:32:03.872Z"
   },
   {
    "duration": 61,
    "start_time": "2022-12-05T08:32:19.397Z"
   },
   {
    "duration": 16,
    "start_time": "2022-12-05T08:32:24.779Z"
   },
   {
    "duration": 18,
    "start_time": "2022-12-05T08:32:31.755Z"
   },
   {
    "duration": 11,
    "start_time": "2022-12-05T08:43:06.153Z"
   },
   {
    "duration": 10,
    "start_time": "2022-12-05T08:43:10.253Z"
   },
   {
    "duration": 10,
    "start_time": "2022-12-05T08:43:21.712Z"
   },
   {
    "duration": 12,
    "start_time": "2022-12-05T08:43:25.635Z"
   },
   {
    "duration": 23,
    "start_time": "2022-12-05T08:43:55.178Z"
   },
   {
    "duration": 23,
    "start_time": "2022-12-05T08:44:00.206Z"
   },
   {
    "duration": 20,
    "start_time": "2022-12-05T08:44:58.513Z"
   },
   {
    "duration": 264,
    "start_time": "2022-12-05T09:26:03.822Z"
   },
   {
    "duration": 72,
    "start_time": "2022-12-05T09:26:24.565Z"
   },
   {
    "duration": 180,
    "start_time": "2022-12-05T09:26:31.323Z"
   },
   {
    "duration": 4,
    "start_time": "2022-12-05T09:27:32.306Z"
   },
   {
    "duration": 182,
    "start_time": "2022-12-05T09:27:55.941Z"
   },
   {
    "duration": 2,
    "start_time": "2022-12-05T09:32:16.436Z"
   },
   {
    "duration": 192,
    "start_time": "2022-12-05T09:32:26.870Z"
   },
   {
    "duration": 194,
    "start_time": "2022-12-05T09:34:28.277Z"
   },
   {
    "duration": 191,
    "start_time": "2022-12-05T09:34:44.226Z"
   },
   {
    "duration": 209,
    "start_time": "2022-12-05T09:34:49.780Z"
   },
   {
    "duration": 264,
    "start_time": "2022-12-05T09:44:02.984Z"
   },
   {
    "duration": 369,
    "start_time": "2022-12-05T09:44:08.070Z"
   },
   {
    "duration": 262,
    "start_time": "2022-12-05T09:45:31.385Z"
   },
   {
    "duration": 284,
    "start_time": "2022-12-05T09:46:02.798Z"
   },
   {
    "duration": 275,
    "start_time": "2022-12-05T09:46:07.445Z"
   },
   {
    "duration": 266,
    "start_time": "2022-12-05T09:46:11.844Z"
   },
   {
    "duration": 274,
    "start_time": "2022-12-05T09:46:20.176Z"
   },
   {
    "duration": 36,
    "start_time": "2022-12-05T09:48:19.146Z"
   },
   {
    "duration": 45,
    "start_time": "2022-12-05T09:50:07.890Z"
   },
   {
    "duration": 157,
    "start_time": "2022-12-05T10:13:35.897Z"
   },
   {
    "duration": 9,
    "start_time": "2022-12-05T10:13:46.724Z"
   },
   {
    "duration": 603,
    "start_time": "2022-12-05T10:14:04.840Z"
   },
   {
    "duration": 6,
    "start_time": "2022-12-05T10:14:13.694Z"
   },
   {
    "duration": 154,
    "start_time": "2022-12-05T10:14:33.148Z"
   },
   {
    "duration": 6,
    "start_time": "2022-12-05T10:17:27.752Z"
   },
   {
    "duration": 8,
    "start_time": "2022-12-05T10:17:31.516Z"
   },
   {
    "duration": 9,
    "start_time": "2022-12-05T10:17:34.907Z"
   },
   {
    "duration": 7,
    "start_time": "2022-12-05T10:17:37.794Z"
   },
   {
    "duration": 8,
    "start_time": "2022-12-05T10:17:56.072Z"
   },
   {
    "duration": 6,
    "start_time": "2022-12-05T10:18:00.737Z"
   },
   {
    "duration": 10,
    "start_time": "2022-12-05T10:20:20.958Z"
   },
   {
    "duration": 269,
    "start_time": "2022-12-05T10:20:54.755Z"
   },
   {
    "duration": 351,
    "start_time": "2022-12-05T10:26:09.324Z"
   },
   {
    "duration": 429,
    "start_time": "2022-12-05T10:26:49.025Z"
   },
   {
    "duration": 253,
    "start_time": "2022-12-05T10:30:04.418Z"
   },
   {
    "duration": 230,
    "start_time": "2022-12-05T10:30:57.511Z"
   },
   {
    "duration": 398,
    "start_time": "2022-12-05T10:32:23.241Z"
   },
   {
    "duration": 28,
    "start_time": "2022-12-05T10:33:34.172Z"
   },
   {
    "duration": 3,
    "start_time": "2022-12-05T10:33:46.798Z"
   },
   {
    "duration": 367,
    "start_time": "2022-12-05T10:33:46.803Z"
   },
   {
    "duration": 3,
    "start_time": "2022-12-05T10:33:47.172Z"
   },
   {
    "duration": 23,
    "start_time": "2022-12-05T10:33:47.177Z"
   },
   {
    "duration": 89,
    "start_time": "2022-12-05T10:33:47.202Z"
   },
   {
    "duration": 10,
    "start_time": "2022-12-05T10:33:47.292Z"
   },
   {
    "duration": 27,
    "start_time": "2022-12-05T10:33:47.304Z"
   },
   {
    "duration": 21,
    "start_time": "2022-12-05T10:33:47.337Z"
   },
   {
    "duration": 7,
    "start_time": "2022-12-05T10:33:47.359Z"
   },
   {
    "duration": 91,
    "start_time": "2022-12-05T10:33:47.367Z"
   },
   {
    "duration": 21,
    "start_time": "2022-12-05T10:33:47.460Z"
   },
   {
    "duration": 10,
    "start_time": "2022-12-05T10:33:47.483Z"
   },
   {
    "duration": 9,
    "start_time": "2022-12-05T10:33:47.496Z"
   },
   {
    "duration": 245,
    "start_time": "2022-12-05T10:33:47.507Z"
   },
   {
    "duration": 7,
    "start_time": "2022-12-05T10:33:47.754Z"
   },
   {
    "duration": 319,
    "start_time": "2022-12-05T10:33:47.763Z"
   },
   {
    "duration": 7,
    "start_time": "2022-12-05T10:33:48.084Z"
   },
   {
    "duration": 377,
    "start_time": "2022-12-05T10:33:48.093Z"
   },
   {
    "duration": 244,
    "start_time": "2022-12-05T10:33:48.472Z"
   },
   {
    "duration": 19,
    "start_time": "2022-12-05T10:33:48.718Z"
   },
   {
    "duration": 4,
    "start_time": "2022-12-05T10:33:48.739Z"
   },
   {
    "duration": 13,
    "start_time": "2022-12-05T10:33:48.745Z"
   },
   {
    "duration": 23,
    "start_time": "2022-12-05T10:33:48.760Z"
   },
   {
    "duration": 242,
    "start_time": "2022-12-05T10:33:48.785Z"
   },
   {
    "duration": 10,
    "start_time": "2022-12-05T10:47:33.667Z"
   },
   {
    "duration": 203,
    "start_time": "2022-12-05T10:47:35.582Z"
   },
   {
    "duration": 29,
    "start_time": "2022-12-05T10:47:48.246Z"
   },
   {
    "duration": 6,
    "start_time": "2022-12-05T10:49:05.912Z"
   },
   {
    "duration": 6,
    "start_time": "2022-12-05T10:49:07.298Z"
   },
   {
    "duration": 26,
    "start_time": "2022-12-05T10:49:10.361Z"
   },
   {
    "duration": 17,
    "start_time": "2022-12-05T10:52:23.803Z"
   },
   {
    "duration": 12,
    "start_time": "2022-12-05T10:52:54.878Z"
   },
   {
    "duration": 117,
    "start_time": "2022-12-05T10:53:00.078Z"
   },
   {
    "duration": 274,
    "start_time": "2022-12-05T10:53:01.615Z"
   },
   {
    "duration": 19,
    "start_time": "2022-12-05T10:54:58.976Z"
   },
   {
    "duration": 900,
    "start_time": "2022-12-05T10:56:29.502Z"
   },
   {
    "duration": 8,
    "start_time": "2022-12-05T10:57:08.051Z"
   },
   {
    "duration": 12,
    "start_time": "2022-12-05T10:57:30.354Z"
   },
   {
    "duration": 23,
    "start_time": "2022-12-05T10:57:56.625Z"
   },
   {
    "duration": 15,
    "start_time": "2022-12-05T10:58:36.691Z"
   },
   {
    "duration": 11,
    "start_time": "2022-12-05T12:04:46.146Z"
   },
   {
    "duration": 11,
    "start_time": "2022-12-05T12:05:19.992Z"
   },
   {
    "duration": 17,
    "start_time": "2022-12-05T12:05:50.756Z"
   },
   {
    "duration": 11,
    "start_time": "2022-12-05T12:05:55.625Z"
   },
   {
    "duration": 12,
    "start_time": "2022-12-05T12:06:03.913Z"
   },
   {
    "duration": 13,
    "start_time": "2022-12-05T12:06:08.716Z"
   },
   {
    "duration": 88,
    "start_time": "2022-12-05T12:06:22.857Z"
   },
   {
    "duration": 12,
    "start_time": "2022-12-05T12:06:26.036Z"
   },
   {
    "duration": 11,
    "start_time": "2022-12-05T12:06:28.486Z"
   },
   {
    "duration": 10,
    "start_time": "2022-12-05T12:06:35.470Z"
   },
   {
    "duration": 10,
    "start_time": "2022-12-05T12:06:39.214Z"
   },
   {
    "duration": 10,
    "start_time": "2022-12-05T12:06:57.170Z"
   },
   {
    "duration": 10,
    "start_time": "2022-12-05T12:07:11.940Z"
   },
   {
    "duration": 7,
    "start_time": "2022-12-05T12:07:28.166Z"
   },
   {
    "duration": 19,
    "start_time": "2022-12-05T12:07:41.187Z"
   },
   {
    "duration": 10,
    "start_time": "2022-12-05T12:07:52.305Z"
   },
   {
    "duration": 853,
    "start_time": "2022-12-05T12:08:29.733Z"
   },
   {
    "duration": 21,
    "start_time": "2022-12-05T12:09:31.414Z"
   },
   {
    "duration": 12,
    "start_time": "2022-12-05T12:09:54.110Z"
   },
   {
    "duration": 19,
    "start_time": "2022-12-05T12:10:21.971Z"
   },
   {
    "duration": 9,
    "start_time": "2022-12-05T12:10:43.548Z"
   },
   {
    "duration": 10,
    "start_time": "2022-12-05T12:10:47.858Z"
   },
   {
    "duration": 10,
    "start_time": "2022-12-05T12:11:00.376Z"
   },
   {
    "duration": 4,
    "start_time": "2022-12-05T12:12:22.612Z"
   },
   {
    "duration": 4,
    "start_time": "2022-12-05T12:12:24.827Z"
   },
   {
    "duration": 10,
    "start_time": "2022-12-05T12:12:33.657Z"
   },
   {
    "duration": 14,
    "start_time": "2022-12-05T12:16:51.144Z"
   },
   {
    "duration": 287,
    "start_time": "2022-12-05T12:17:01.432Z"
   },
   {
    "duration": 288,
    "start_time": "2022-12-05T12:18:06.806Z"
   },
   {
    "duration": 9,
    "start_time": "2022-12-05T12:19:27.221Z"
   },
   {
    "duration": 358,
    "start_time": "2022-12-05T12:19:49.227Z"
   },
   {
    "duration": 10,
    "start_time": "2022-12-05T12:20:04.454Z"
   },
   {
    "duration": 9,
    "start_time": "2022-12-05T12:20:15.415Z"
   },
   {
    "duration": 10,
    "start_time": "2022-12-05T12:20:19.706Z"
   },
   {
    "duration": 26,
    "start_time": "2022-12-05T12:23:18.507Z"
   },
   {
    "duration": 29,
    "start_time": "2022-12-05T12:23:23.720Z"
   },
   {
    "duration": 7,
    "start_time": "2022-12-05T12:23:37.109Z"
   },
   {
    "duration": 6,
    "start_time": "2022-12-05T12:23:38.354Z"
   },
   {
    "duration": 11,
    "start_time": "2022-12-05T12:23:39.311Z"
   },
   {
    "duration": 25,
    "start_time": "2022-12-05T12:23:40.115Z"
   },
   {
    "duration": 27,
    "start_time": "2022-12-05T12:23:41.480Z"
   },
   {
    "duration": 7,
    "start_time": "2022-12-05T12:23:42.679Z"
   },
   {
    "duration": 28,
    "start_time": "2022-12-05T12:23:45.520Z"
   },
   {
    "duration": 9,
    "start_time": "2022-12-05T12:23:56.911Z"
   },
   {
    "duration": 216,
    "start_time": "2022-12-05T12:23:57.936Z"
   },
   {
    "duration": 7,
    "start_time": "2022-12-05T12:24:03.531Z"
   },
   {
    "duration": 289,
    "start_time": "2022-12-05T12:24:03.831Z"
   },
   {
    "duration": 6,
    "start_time": "2022-12-05T12:24:06.232Z"
   },
   {
    "duration": 352,
    "start_time": "2022-12-05T12:24:07.764Z"
   },
   {
    "duration": 229,
    "start_time": "2022-12-05T12:24:09.303Z"
   },
   {
    "duration": 7,
    "start_time": "2022-12-05T12:24:11.518Z"
   },
   {
    "duration": 4,
    "start_time": "2022-12-05T12:24:12.364Z"
   },
   {
    "duration": 10,
    "start_time": "2022-12-05T12:24:13.179Z"
   },
   {
    "duration": 23,
    "start_time": "2022-12-05T12:24:13.807Z"
   },
   {
    "duration": 28,
    "start_time": "2022-12-05T12:24:19.693Z"
   },
   {
    "duration": 8,
    "start_time": "2022-12-05T12:24:20.827Z"
   },
   {
    "duration": 25,
    "start_time": "2022-12-05T12:24:22.765Z"
   },
   {
    "duration": 12,
    "start_time": "2022-12-05T12:24:52.819Z"
   },
   {
    "duration": 129,
    "start_time": "2022-12-05T12:24:54.277Z"
   },
   {
    "duration": 454,
    "start_time": "2022-12-05T12:24:55.270Z"
   },
   {
    "duration": 5,
    "start_time": "2022-12-05T12:24:59.508Z"
   },
   {
    "duration": 12,
    "start_time": "2022-12-05T12:25:00.562Z"
   },
   {
    "duration": 8,
    "start_time": "2022-12-05T12:25:01.612Z"
   },
   {
    "duration": 15,
    "start_time": "2022-12-05T12:25:03.151Z"
   },
   {
    "duration": 313,
    "start_time": "2022-12-05T12:25:09.124Z"
   },
   {
    "duration": 10,
    "start_time": "2022-12-05T12:25:09.880Z"
   },
   {
    "duration": 5,
    "start_time": "2022-12-05T12:25:22.759Z"
   },
   {
    "duration": 14,
    "start_time": "2022-12-05T12:25:26.630Z"
   },
   {
    "duration": 236,
    "start_time": "2022-12-05T12:27:57.895Z"
   },
   {
    "duration": 275,
    "start_time": "2022-12-05T12:28:42.149Z"
   },
   {
    "duration": 180,
    "start_time": "2022-12-05T12:29:17.051Z"
   },
   {
    "duration": 492,
    "start_time": "2022-12-05T12:30:23.045Z"
   },
   {
    "duration": 204,
    "start_time": "2022-12-05T12:30:58.639Z"
   },
   {
    "duration": 185,
    "start_time": "2022-12-05T12:34:59.285Z"
   },
   {
    "duration": 216,
    "start_time": "2022-12-05T12:35:32.090Z"
   },
   {
    "duration": 152,
    "start_time": "2022-12-05T12:36:07.801Z"
   },
   {
    "duration": 519,
    "start_time": "2022-12-05T12:37:06.408Z"
   },
   {
    "duration": 303,
    "start_time": "2022-12-05T12:37:10.634Z"
   },
   {
    "duration": 134,
    "start_time": "2022-12-05T12:37:37.125Z"
   },
   {
    "duration": 295,
    "start_time": "2022-12-05T12:37:52.996Z"
   },
   {
    "duration": 260,
    "start_time": "2022-12-05T12:38:45.286Z"
   },
   {
    "duration": 219,
    "start_time": "2022-12-05T12:39:28.930Z"
   },
   {
    "duration": 184,
    "start_time": "2022-12-05T12:40:02.738Z"
   },
   {
    "duration": 377,
    "start_time": "2022-12-05T12:41:35.601Z"
   },
   {
    "duration": 189,
    "start_time": "2022-12-05T12:42:41.574Z"
   },
   {
    "duration": 144,
    "start_time": "2022-12-05T12:44:36.362Z"
   },
   {
    "duration": 305,
    "start_time": "2022-12-05T12:45:13.984Z"
   },
   {
    "duration": 190,
    "start_time": "2022-12-05T12:49:06.122Z"
   },
   {
    "duration": 324,
    "start_time": "2022-12-05T12:49:24.684Z"
   },
   {
    "duration": 158,
    "start_time": "2022-12-05T12:49:41.706Z"
   },
   {
    "duration": 1334,
    "start_time": "2022-12-05T17:37:35.885Z"
   },
   {
    "duration": 1553,
    "start_time": "2022-12-05T17:37:53.123Z"
   },
   {
    "duration": 623,
    "start_time": "2022-12-05T17:38:28.835Z"
   },
   {
    "duration": 31,
    "start_time": "2022-12-05T17:41:12.566Z"
   },
   {
    "duration": 31,
    "start_time": "2022-12-05T17:45:11.778Z"
   },
   {
    "duration": 26,
    "start_time": "2022-12-05T17:45:57.705Z"
   },
   {
    "duration": 26,
    "start_time": "2022-12-05T17:46:10.399Z"
   },
   {
    "duration": 79,
    "start_time": "2022-12-05T17:49:05.255Z"
   },
   {
    "duration": 65,
    "start_time": "2022-12-05T17:49:14.834Z"
   },
   {
    "duration": 72,
    "start_time": "2022-12-05T17:49:24.274Z"
   },
   {
    "duration": 6,
    "start_time": "2022-12-05T17:49:34.649Z"
   },
   {
    "duration": 42,
    "start_time": "2022-12-05T17:49:55.291Z"
   },
   {
    "duration": 173,
    "start_time": "2022-12-05T17:54:24.733Z"
   },
   {
    "duration": 648,
    "start_time": "2022-12-05T17:55:23.196Z"
   },
   {
    "duration": 816,
    "start_time": "2022-12-05T17:56:05.806Z"
   },
   {
    "duration": 149,
    "start_time": "2022-12-05T17:57:39.296Z"
   },
   {
    "duration": 30,
    "start_time": "2022-12-05T17:57:48.813Z"
   },
   {
    "duration": 19,
    "start_time": "2022-12-05T17:58:09.879Z"
   },
   {
    "duration": 201,
    "start_time": "2022-12-05T17:58:13.651Z"
   },
   {
    "duration": 24,
    "start_time": "2022-12-05T17:58:20.631Z"
   },
   {
    "duration": 223,
    "start_time": "2022-12-05T17:59:38.192Z"
   },
   {
    "duration": 209,
    "start_time": "2022-12-05T18:02:13.062Z"
   },
   {
    "duration": 197,
    "start_time": "2022-12-05T18:02:36.357Z"
   },
   {
    "duration": 210,
    "start_time": "2022-12-05T18:02:51.355Z"
   },
   {
    "duration": 1294,
    "start_time": "2022-12-05T18:03:37.510Z"
   },
   {
    "duration": 293,
    "start_time": "2022-12-05T18:03:55.766Z"
   },
   {
    "duration": 843,
    "start_time": "2022-12-05T18:05:39.738Z"
   },
   {
    "duration": 223,
    "start_time": "2022-12-05T18:06:02.682Z"
   },
   {
    "duration": 234,
    "start_time": "2022-12-05T18:06:32.819Z"
   },
   {
    "duration": 236,
    "start_time": "2022-12-05T18:10:47.933Z"
   },
   {
    "duration": 1404,
    "start_time": "2022-12-05T18:13:17.682Z"
   },
   {
    "duration": 858,
    "start_time": "2022-12-05T18:13:48.214Z"
   },
   {
    "duration": 1368,
    "start_time": "2022-12-06T13:49:03.683Z"
   },
   {
    "duration": 825,
    "start_time": "2022-12-06T13:49:05.053Z"
   },
   {
    "duration": 3,
    "start_time": "2022-12-06T13:49:05.880Z"
   },
   {
    "duration": 21,
    "start_time": "2022-12-06T13:49:05.885Z"
   },
   {
    "duration": 96,
    "start_time": "2022-12-06T13:49:05.907Z"
   },
   {
    "duration": 9,
    "start_time": "2022-12-06T13:49:06.005Z"
   },
   {
    "duration": 56,
    "start_time": "2022-12-06T13:49:06.015Z"
   },
   {
    "duration": 21,
    "start_time": "2022-12-06T13:49:06.095Z"
   },
   {
    "duration": 7,
    "start_time": "2022-12-06T13:49:06.117Z"
   },
   {
    "duration": 94,
    "start_time": "2022-12-06T13:49:06.127Z"
   },
   {
    "duration": 31,
    "start_time": "2022-12-06T13:49:06.223Z"
   },
   {
    "duration": 13,
    "start_time": "2022-12-06T13:49:06.255Z"
   },
   {
    "duration": 33,
    "start_time": "2022-12-06T13:49:06.270Z"
   },
   {
    "duration": 274,
    "start_time": "2022-12-06T13:49:06.305Z"
   },
   {
    "duration": 17,
    "start_time": "2022-12-06T13:49:06.581Z"
   },
   {
    "duration": 279,
    "start_time": "2022-12-06T13:49:06.600Z"
   },
   {
    "duration": 15,
    "start_time": "2022-12-06T13:49:06.881Z"
   },
   {
    "duration": 423,
    "start_time": "2022-12-06T13:49:06.898Z"
   },
   {
    "duration": 228,
    "start_time": "2022-12-06T13:49:07.322Z"
   },
   {
    "duration": 6,
    "start_time": "2022-12-06T13:49:07.552Z"
   },
   {
    "duration": 7,
    "start_time": "2022-12-06T13:49:07.559Z"
   },
   {
    "duration": 31,
    "start_time": "2022-12-06T13:49:07.567Z"
   },
   {
    "duration": 3,
    "start_time": "2022-12-06T13:57:07.634Z"
   },
   {
    "duration": 355,
    "start_time": "2022-12-06T13:57:07.639Z"
   },
   {
    "duration": 2,
    "start_time": "2022-12-06T13:57:07.997Z"
   },
   {
    "duration": 17,
    "start_time": "2022-12-06T13:57:08.001Z"
   },
   {
    "duration": 87,
    "start_time": "2022-12-06T13:57:08.020Z"
   },
   {
    "duration": 9,
    "start_time": "2022-12-06T13:57:08.108Z"
   },
   {
    "duration": 20,
    "start_time": "2022-12-06T13:57:08.118Z"
   },
   {
    "duration": 19,
    "start_time": "2022-12-06T13:57:08.140Z"
   },
   {
    "duration": 7,
    "start_time": "2022-12-06T13:57:08.160Z"
   },
   {
    "duration": 89,
    "start_time": "2022-12-06T13:57:08.168Z"
   },
   {
    "duration": 24,
    "start_time": "2022-12-06T13:57:08.259Z"
   },
   {
    "duration": 16,
    "start_time": "2022-12-06T13:57:08.285Z"
   },
   {
    "duration": 11,
    "start_time": "2022-12-06T13:57:08.303Z"
   },
   {
    "duration": 207,
    "start_time": "2022-12-06T13:57:08.316Z"
   },
   {
    "duration": 7,
    "start_time": "2022-12-06T13:57:08.525Z"
   },
   {
    "duration": 288,
    "start_time": "2022-12-06T13:57:08.533Z"
   },
   {
    "duration": 6,
    "start_time": "2022-12-06T13:57:08.822Z"
   },
   {
    "duration": 432,
    "start_time": "2022-12-06T13:57:08.829Z"
   },
   {
    "duration": 230,
    "start_time": "2022-12-06T13:57:09.263Z"
   },
   {
    "duration": 6,
    "start_time": "2022-12-06T13:57:09.497Z"
   },
   {
    "duration": 5,
    "start_time": "2022-12-06T13:57:09.505Z"
   },
   {
    "duration": 11,
    "start_time": "2022-12-06T13:57:09.512Z"
   },
   {
    "duration": 3,
    "start_time": "2022-12-06T14:06:25.276Z"
   },
   {
    "duration": 387,
    "start_time": "2022-12-06T14:06:25.282Z"
   },
   {
    "duration": 3,
    "start_time": "2022-12-06T14:06:25.670Z"
   },
   {
    "duration": 26,
    "start_time": "2022-12-06T14:06:25.675Z"
   },
   {
    "duration": 76,
    "start_time": "2022-12-06T14:06:25.703Z"
   },
   {
    "duration": 20,
    "start_time": "2022-12-06T14:06:25.781Z"
   },
   {
    "duration": 15,
    "start_time": "2022-12-06T14:06:25.803Z"
   },
   {
    "duration": 19,
    "start_time": "2022-12-06T14:06:25.820Z"
   },
   {
    "duration": 6,
    "start_time": "2022-12-06T14:06:25.841Z"
   },
   {
    "duration": 102,
    "start_time": "2022-12-06T14:06:25.848Z"
   },
   {
    "duration": 23,
    "start_time": "2022-12-06T14:06:25.953Z"
   },
   {
    "duration": 20,
    "start_time": "2022-12-06T14:06:25.978Z"
   },
   {
    "duration": 11,
    "start_time": "2022-12-06T14:06:26.000Z"
   },
   {
    "duration": 247,
    "start_time": "2022-12-06T14:06:26.012Z"
   },
   {
    "duration": 11,
    "start_time": "2022-12-06T14:06:26.261Z"
   },
   {
    "duration": 322,
    "start_time": "2022-12-06T14:06:26.274Z"
   },
   {
    "duration": 6,
    "start_time": "2022-12-06T14:06:26.598Z"
   },
   {
    "duration": 337,
    "start_time": "2022-12-06T14:06:26.605Z"
   },
   {
    "duration": 334,
    "start_time": "2022-12-06T14:06:26.943Z"
   },
   {
    "duration": 6,
    "start_time": "2022-12-06T14:06:27.279Z"
   },
   {
    "duration": 14,
    "start_time": "2022-12-06T14:06:27.296Z"
   },
   {
    "duration": 17,
    "start_time": "2022-12-06T14:06:27.312Z"
   },
   {
    "duration": 27,
    "start_time": "2022-12-06T14:06:27.331Z"
   },
   {
    "duration": 24,
    "start_time": "2022-12-06T14:06:27.360Z"
   },
   {
    "duration": 7,
    "start_time": "2022-12-06T14:06:27.385Z"
   },
   {
    "duration": 25,
    "start_time": "2022-12-06T14:06:27.393Z"
   },
   {
    "duration": 10,
    "start_time": "2022-12-06T14:06:27.419Z"
   },
   {
    "duration": 123,
    "start_time": "2022-12-06T14:06:27.430Z"
   },
   {
    "duration": 256,
    "start_time": "2022-12-06T14:06:27.557Z"
   },
   {
    "duration": 4,
    "start_time": "2022-12-06T14:06:27.814Z"
   },
   {
    "duration": 12,
    "start_time": "2022-12-06T14:06:27.819Z"
   },
   {
    "duration": 6,
    "start_time": "2022-12-06T14:06:27.832Z"
   },
   {
    "duration": 14,
    "start_time": "2022-12-06T14:06:27.840Z"
   },
   {
    "duration": 321,
    "start_time": "2022-12-06T14:06:27.855Z"
   },
   {
    "duration": 4,
    "start_time": "2022-12-06T14:06:28.178Z"
   },
   {
    "duration": 22,
    "start_time": "2022-12-06T14:06:28.183Z"
   },
   {
    "duration": 204,
    "start_time": "2022-12-06T14:06:28.207Z"
   },
   {
    "duration": 286,
    "start_time": "2022-12-06T14:06:28.413Z"
   },
   {
    "duration": 206,
    "start_time": "2022-12-06T14:06:28.701Z"
   },
   {
    "duration": 606,
    "start_time": "2022-12-06T14:06:28.910Z"
   },
   {
    "duration": 150,
    "start_time": "2022-12-06T14:06:29.518Z"
   },
   {
    "duration": 186,
    "start_time": "2022-12-06T14:06:29.669Z"
   },
   {
    "duration": 223,
    "start_time": "2022-12-06T14:06:29.856Z"
   },
   {
    "duration": 152,
    "start_time": "2022-12-06T14:06:30.081Z"
   },
   {
    "duration": 317,
    "start_time": "2022-12-06T14:06:30.235Z"
   },
   {
    "duration": 258,
    "start_time": "2022-12-06T14:06:30.554Z"
   },
   {
    "duration": 198,
    "start_time": "2022-12-06T14:06:30.814Z"
   },
   {
    "duration": 190,
    "start_time": "2022-12-06T14:06:31.014Z"
   },
   {
    "duration": 490,
    "start_time": "2022-12-06T14:06:31.206Z"
   },
   {
    "duration": 211,
    "start_time": "2022-12-06T14:06:31.698Z"
   },
   {
    "duration": 10,
    "start_time": "2022-12-06T14:06:31.916Z"
   },
   {
    "duration": 14,
    "start_time": "2022-12-06T14:06:31.928Z"
   },
   {
    "duration": 540,
    "start_time": "2022-12-06T14:06:31.944Z"
   },
   {
    "duration": 650,
    "start_time": "2022-12-06T14:06:32.485Z"
   },
   {
    "duration": 17,
    "start_time": "2022-12-06T14:06:33.137Z"
   },
   {
    "duration": 44,
    "start_time": "2022-12-06T14:06:33.156Z"
   },
   {
    "duration": 215,
    "start_time": "2022-12-06T14:06:33.202Z"
   },
   {
    "duration": 190,
    "start_time": "2022-12-06T14:06:51.692Z"
   },
   {
    "duration": 22,
    "start_time": "2022-12-06T14:07:00.164Z"
   },
   {
    "duration": 137,
    "start_time": "2022-12-06T14:10:33.248Z"
   },
   {
    "duration": 29,
    "start_time": "2022-12-06T14:10:41.323Z"
   },
   {
    "duration": 16,
    "start_time": "2022-12-06T14:10:46.943Z"
   },
   {
    "duration": 23,
    "start_time": "2022-12-06T14:10:53.673Z"
   },
   {
    "duration": 25,
    "start_time": "2022-12-06T14:11:11.924Z"
   },
   {
    "duration": 1240,
    "start_time": "2022-12-06T18:00:47.462Z"
   },
   {
    "duration": 523,
    "start_time": "2022-12-06T18:00:48.705Z"
   },
   {
    "duration": 3,
    "start_time": "2022-12-06T18:00:49.229Z"
   },
   {
    "duration": 17,
    "start_time": "2022-12-06T18:00:49.234Z"
   },
   {
    "duration": 71,
    "start_time": "2022-12-06T18:00:49.253Z"
   },
   {
    "duration": 8,
    "start_time": "2022-12-06T18:00:49.326Z"
   },
   {
    "duration": 58,
    "start_time": "2022-12-06T18:00:49.335Z"
   },
   {
    "duration": 36,
    "start_time": "2022-12-06T18:00:49.395Z"
   },
   {
    "duration": 8,
    "start_time": "2022-12-06T18:00:49.433Z"
   },
   {
    "duration": 86,
    "start_time": "2022-12-06T18:00:49.442Z"
   },
   {
    "duration": 21,
    "start_time": "2022-12-06T18:00:49.530Z"
   },
   {
    "duration": 9,
    "start_time": "2022-12-06T18:00:49.553Z"
   },
   {
    "duration": 14,
    "start_time": "2022-12-06T18:00:49.563Z"
   },
   {
    "duration": 210,
    "start_time": "2022-12-06T18:00:49.581Z"
   },
   {
    "duration": 7,
    "start_time": "2022-12-06T18:00:49.792Z"
   },
   {
    "duration": 262,
    "start_time": "2022-12-06T18:00:49.801Z"
   },
   {
    "duration": 5,
    "start_time": "2022-12-06T18:00:50.065Z"
   },
   {
    "duration": 326,
    "start_time": "2022-12-06T18:00:50.071Z"
   },
   {
    "duration": 271,
    "start_time": "2022-12-06T18:00:50.399Z"
   },
   {
    "duration": 6,
    "start_time": "2022-12-06T18:00:50.671Z"
   },
   {
    "duration": 15,
    "start_time": "2022-12-06T18:00:50.678Z"
   },
   {
    "duration": 18,
    "start_time": "2022-12-06T18:00:50.695Z"
   },
   {
    "duration": 20,
    "start_time": "2022-12-06T18:00:50.714Z"
   },
   {
    "duration": 25,
    "start_time": "2022-12-06T18:00:50.735Z"
   },
   {
    "duration": 7,
    "start_time": "2022-12-06T18:00:50.761Z"
   },
   {
    "duration": 28,
    "start_time": "2022-12-06T18:00:50.769Z"
   },
   {
    "duration": 25,
    "start_time": "2022-12-06T18:00:50.798Z"
   },
   {
    "duration": 114,
    "start_time": "2022-12-06T18:00:50.824Z"
   },
   {
    "duration": 256,
    "start_time": "2022-12-06T18:00:50.940Z"
   },
   {
    "duration": 4,
    "start_time": "2022-12-06T18:00:51.198Z"
   },
   {
    "duration": 21,
    "start_time": "2022-12-06T18:00:51.204Z"
   },
   {
    "duration": 8,
    "start_time": "2022-12-06T18:00:51.227Z"
   },
   {
    "duration": 24,
    "start_time": "2022-12-06T18:00:51.237Z"
   },
   {
    "duration": 303,
    "start_time": "2022-12-06T18:00:51.262Z"
   },
   {
    "duration": 4,
    "start_time": "2022-12-06T18:00:51.566Z"
   },
   {
    "duration": 15,
    "start_time": "2022-12-06T18:00:51.571Z"
   },
   {
    "duration": 201,
    "start_time": "2022-12-06T18:00:51.587Z"
   },
   {
    "duration": 274,
    "start_time": "2022-12-06T18:00:51.790Z"
   },
   {
    "duration": 195,
    "start_time": "2022-12-06T18:00:52.066Z"
   },
   {
    "duration": 555,
    "start_time": "2022-12-06T18:00:52.262Z"
   },
   {
    "duration": 141,
    "start_time": "2022-12-06T18:00:52.820Z"
   },
   {
    "duration": 177,
    "start_time": "2022-12-06T18:00:52.962Z"
   },
   {
    "duration": 198,
    "start_time": "2022-12-06T18:00:53.140Z"
   },
   {
    "duration": 137,
    "start_time": "2022-12-06T18:00:53.340Z"
   },
   {
    "duration": 263,
    "start_time": "2022-12-06T18:00:53.478Z"
   },
   {
    "duration": 334,
    "start_time": "2022-12-06T18:00:53.743Z"
   },
   {
    "duration": 175,
    "start_time": "2022-12-06T18:00:54.079Z"
   },
   {
    "duration": 161,
    "start_time": "2022-12-06T18:00:54.256Z"
   },
   {
    "duration": 314,
    "start_time": "2022-12-06T18:00:54.419Z"
   },
   {
    "duration": 206,
    "start_time": "2022-12-06T18:00:54.734Z"
   },
   {
    "duration": 9,
    "start_time": "2022-12-06T18:00:54.941Z"
   },
   {
    "duration": 12,
    "start_time": "2022-12-06T18:00:54.952Z"
   },
   {
    "duration": 515,
    "start_time": "2022-12-06T18:00:54.966Z"
   },
   {
    "duration": 607,
    "start_time": "2022-12-06T18:00:55.483Z"
   },
   {
    "duration": 25,
    "start_time": "2022-12-06T18:00:56.091Z"
   },
   {
    "duration": 25,
    "start_time": "2022-12-06T18:00:56.118Z"
   },
   {
    "duration": 255,
    "start_time": "2022-12-06T18:00:56.145Z"
   },
   {
    "duration": 6,
    "start_time": "2022-12-06T18:01:30.605Z"
   },
   {
    "duration": 6,
    "start_time": "2022-12-06T18:03:29.143Z"
   },
   {
    "duration": 105,
    "start_time": "2022-12-06T18:03:50.637Z"
   },
   {
    "duration": 44,
    "start_time": "2022-12-06T18:04:04.424Z"
   },
   {
    "duration": 8,
    "start_time": "2022-12-06T18:04:09.746Z"
   },
   {
    "duration": 6,
    "start_time": "2022-12-06T18:04:13.236Z"
   },
   {
    "duration": 174,
    "start_time": "2022-12-06T18:04:34.526Z"
   },
   {
    "duration": 172,
    "start_time": "2022-12-06T18:06:26.183Z"
   },
   {
    "duration": 1454,
    "start_time": "2022-12-06T18:30:57.905Z"
   },
   {
    "duration": 604,
    "start_time": "2022-12-06T18:30:59.362Z"
   },
   {
    "duration": 3,
    "start_time": "2022-12-06T18:30:59.968Z"
   },
   {
    "duration": 29,
    "start_time": "2022-12-06T18:30:59.974Z"
   },
   {
    "duration": 95,
    "start_time": "2022-12-06T18:31:00.006Z"
   },
   {
    "duration": 8,
    "start_time": "2022-12-06T18:31:00.103Z"
   },
   {
    "duration": 71,
    "start_time": "2022-12-06T18:31:00.113Z"
   },
   {
    "duration": 17,
    "start_time": "2022-12-06T18:31:00.186Z"
   },
   {
    "duration": 29,
    "start_time": "2022-12-06T18:31:00.205Z"
   },
   {
    "duration": 111,
    "start_time": "2022-12-06T18:31:00.238Z"
   },
   {
    "duration": 25,
    "start_time": "2022-12-06T18:31:00.351Z"
   },
   {
    "duration": 14,
    "start_time": "2022-12-06T18:31:00.378Z"
   },
   {
    "duration": 42,
    "start_time": "2022-12-06T18:31:00.393Z"
   },
   {
    "duration": 245,
    "start_time": "2022-12-06T18:31:00.437Z"
   },
   {
    "duration": 6,
    "start_time": "2022-12-06T18:31:00.684Z"
   },
   {
    "duration": 299,
    "start_time": "2022-12-06T18:31:00.692Z"
   },
   {
    "duration": 6,
    "start_time": "2022-12-06T18:31:00.993Z"
   },
   {
    "duration": 369,
    "start_time": "2022-12-06T18:31:01.000Z"
   },
   {
    "duration": 321,
    "start_time": "2022-12-06T18:31:01.371Z"
   },
   {
    "duration": 5,
    "start_time": "2022-12-06T18:31:01.694Z"
   },
   {
    "duration": 24,
    "start_time": "2022-12-06T18:31:01.701Z"
   },
   {
    "duration": 61,
    "start_time": "2022-12-06T18:31:01.726Z"
   },
   {
    "duration": 36,
    "start_time": "2022-12-06T18:31:01.789Z"
   },
   {
    "duration": 45,
    "start_time": "2022-12-06T18:31:01.826Z"
   },
   {
    "duration": 27,
    "start_time": "2022-12-06T18:31:01.873Z"
   },
   {
    "duration": 60,
    "start_time": "2022-12-06T18:31:01.902Z"
   },
   {
    "duration": 26,
    "start_time": "2022-12-06T18:31:01.964Z"
   },
   {
    "duration": 146,
    "start_time": "2022-12-06T18:31:01.994Z"
   },
   {
    "duration": 336,
    "start_time": "2022-12-06T18:31:02.142Z"
   },
   {
    "duration": 4,
    "start_time": "2022-12-06T18:31:02.480Z"
   },
   {
    "duration": 37,
    "start_time": "2022-12-06T18:31:02.486Z"
   },
   {
    "duration": 45,
    "start_time": "2022-12-06T18:31:02.526Z"
   },
   {
    "duration": 20,
    "start_time": "2022-12-06T18:31:02.573Z"
   },
   {
    "duration": 440,
    "start_time": "2022-12-06T18:31:02.596Z"
   },
   {
    "duration": 5,
    "start_time": "2022-12-06T18:31:03.038Z"
   },
   {
    "duration": 77,
    "start_time": "2022-12-06T18:31:03.045Z"
   },
   {
    "duration": 283,
    "start_time": "2022-12-06T18:31:03.124Z"
   },
   {
    "duration": 327,
    "start_time": "2022-12-06T18:31:03.409Z"
   },
   {
    "duration": 209,
    "start_time": "2022-12-06T18:31:03.739Z"
   },
   {
    "duration": 658,
    "start_time": "2022-12-06T18:31:03.951Z"
   },
   {
    "duration": 180,
    "start_time": "2022-12-06T18:31:04.611Z"
   },
   {
    "duration": 199,
    "start_time": "2022-12-06T18:31:04.792Z"
   },
   {
    "duration": 233,
    "start_time": "2022-12-06T18:31:04.993Z"
   },
   {
    "duration": 184,
    "start_time": "2022-12-06T18:31:05.228Z"
   },
   {
    "duration": 364,
    "start_time": "2022-12-06T18:31:05.413Z"
   },
   {
    "duration": 432,
    "start_time": "2022-12-06T18:31:05.779Z"
   },
   {
    "duration": 226,
    "start_time": "2022-12-06T18:31:06.213Z"
   },
   {
    "duration": 232,
    "start_time": "2022-12-06T18:31:06.441Z"
   },
   {
    "duration": 363,
    "start_time": "2022-12-06T18:31:06.675Z"
   },
   {
    "duration": 222,
    "start_time": "2022-12-06T18:31:07.041Z"
   },
   {
    "duration": 9,
    "start_time": "2022-12-06T18:31:07.266Z"
   },
   {
    "duration": 19,
    "start_time": "2022-12-06T18:31:07.277Z"
   },
   {
    "duration": 599,
    "start_time": "2022-12-06T18:31:07.297Z"
   },
   {
    "duration": 774,
    "start_time": "2022-12-06T18:31:07.897Z"
   },
   {
    "duration": 16,
    "start_time": "2022-12-06T18:31:08.672Z"
   },
   {
    "duration": 55,
    "start_time": "2022-12-06T18:31:08.690Z"
   },
   {
    "duration": 12,
    "start_time": "2022-12-06T18:31:08.747Z"
   },
   {
    "duration": 44,
    "start_time": "2022-12-13T06:37:14.276Z"
   },
   {
    "duration": 1356,
    "start_time": "2024-04-02T18:18:00.725Z"
   },
   {
    "duration": 524,
    "start_time": "2024-04-02T18:18:02.083Z"
   },
   {
    "duration": 3,
    "start_time": "2024-04-02T18:18:02.609Z"
   },
   {
    "duration": 35,
    "start_time": "2024-04-02T18:18:02.613Z"
   },
   {
    "duration": 84,
    "start_time": "2024-04-02T18:18:02.650Z"
   },
   {
    "duration": 8,
    "start_time": "2024-04-02T18:18:02.736Z"
   },
   {
    "duration": 69,
    "start_time": "2024-04-02T18:18:02.746Z"
   },
   {
    "duration": 21,
    "start_time": "2024-04-02T18:18:02.816Z"
   },
   {
    "duration": 8,
    "start_time": "2024-04-02T18:18:02.838Z"
   },
   {
    "duration": 91,
    "start_time": "2024-04-02T18:18:02.847Z"
   },
   {
    "duration": 22,
    "start_time": "2024-04-02T18:18:02.939Z"
   },
   {
    "duration": 9,
    "start_time": "2024-04-02T18:18:02.963Z"
   },
   {
    "duration": 25,
    "start_time": "2024-04-02T18:18:02.973Z"
   },
   {
    "duration": 225,
    "start_time": "2024-04-02T18:18:03.001Z"
   },
   {
    "duration": 10,
    "start_time": "2024-04-02T18:18:03.228Z"
   },
   {
    "duration": 288,
    "start_time": "2024-04-02T18:18:03.240Z"
   },
   {
    "duration": 5,
    "start_time": "2024-04-02T18:18:03.530Z"
   },
   {
    "duration": 346,
    "start_time": "2024-04-02T18:18:03.537Z"
   },
   {
    "duration": 324,
    "start_time": "2024-04-02T18:18:03.887Z"
   },
   {
    "duration": 5,
    "start_time": "2024-04-02T18:18:04.213Z"
   },
   {
    "duration": 10,
    "start_time": "2024-04-02T18:18:04.219Z"
   },
   {
    "duration": 65,
    "start_time": "2024-04-02T18:18:04.230Z"
   },
   {
    "duration": 22,
    "start_time": "2024-04-02T18:18:04.297Z"
   },
   {
    "duration": 87,
    "start_time": "2024-04-02T18:18:04.321Z"
   },
   {
    "duration": 12,
    "start_time": "2024-04-02T18:18:04.410Z"
   },
   {
    "duration": 88,
    "start_time": "2024-04-02T18:18:04.425Z"
   },
   {
    "duration": 11,
    "start_time": "2024-04-02T18:18:04.514Z"
   },
   {
    "duration": 272,
    "start_time": "2024-04-02T18:18:04.527Z"
   },
   {
    "duration": 587,
    "start_time": "2024-04-02T18:18:04.800Z"
   },
   {
    "duration": 4,
    "start_time": "2024-04-02T18:18:05.389Z"
   },
   {
    "duration": 17,
    "start_time": "2024-04-02T18:18:05.394Z"
   },
   {
    "duration": 20,
    "start_time": "2024-04-02T18:18:05.412Z"
   },
   {
    "duration": 70,
    "start_time": "2024-04-02T18:18:05.433Z"
   },
   {
    "duration": 426,
    "start_time": "2024-04-02T18:18:05.504Z"
   },
   {
    "duration": 4,
    "start_time": "2024-04-02T18:18:05.931Z"
   },
   {
    "duration": 21,
    "start_time": "2024-04-02T18:18:05.936Z"
   },
   {
    "duration": 213,
    "start_time": "2024-04-02T18:18:05.959Z"
   },
   {
    "duration": 278,
    "start_time": "2024-04-02T18:18:06.174Z"
   },
   {
    "duration": 191,
    "start_time": "2024-04-02T18:18:06.454Z"
   },
   {
    "duration": 576,
    "start_time": "2024-04-02T18:18:06.647Z"
   },
   {
    "duration": 170,
    "start_time": "2024-04-02T18:18:07.228Z"
   },
   {
    "duration": 193,
    "start_time": "2024-04-02T18:18:07.400Z"
   },
   {
    "duration": 214,
    "start_time": "2024-04-02T18:18:07.595Z"
   },
   {
    "duration": 148,
    "start_time": "2024-04-02T18:18:07.810Z"
   },
   {
    "duration": 305,
    "start_time": "2024-04-02T18:18:07.960Z"
   },
   {
    "duration": 375,
    "start_time": "2024-04-02T18:18:08.267Z"
   },
   {
    "duration": 199,
    "start_time": "2024-04-02T18:18:08.644Z"
   },
   {
    "duration": 189,
    "start_time": "2024-04-02T18:18:08.844Z"
   },
   {
    "duration": 343,
    "start_time": "2024-04-02T18:18:09.035Z"
   },
   {
    "duration": 198,
    "start_time": "2024-04-02T18:18:09.379Z"
   },
   {
    "duration": 15,
    "start_time": "2024-04-02T18:18:09.579Z"
   },
   {
    "duration": 12,
    "start_time": "2024-04-02T18:18:09.596Z"
   },
   {
    "duration": 553,
    "start_time": "2024-04-02T18:18:09.609Z"
   },
   {
    "duration": 659,
    "start_time": "2024-04-02T18:18:10.164Z"
   },
   {
    "duration": 16,
    "start_time": "2024-04-02T18:18:10.824Z"
   },
   {
    "duration": 25,
    "start_time": "2024-04-02T18:18:10.841Z"
   },
   {
    "duration": 5,
    "start_time": "2024-04-02T18:18:10.888Z"
   },
   {
    "duration": 207,
    "start_time": "2024-04-02T18:18:10.895Z"
   },
   {
    "duration": 206,
    "start_time": "2024-04-02T18:18:11.103Z"
   }
  ],
  "kernelspec": {
   "display_name": "Python 3 (ipykernel)",
   "language": "python",
   "name": "python3"
  },
  "language_info": {
   "codemirror_mode": {
    "name": "ipython",
    "version": 3
   },
   "file_extension": ".py",
   "mimetype": "text/x-python",
   "name": "python",
   "nbconvert_exporter": "python",
   "pygments_lexer": "ipython3",
   "version": "3.9.5"
  },
  "toc": {
   "base_numbering": 1,
   "nav_menu": {
    "height": "658px",
    "width": "422px"
   },
   "number_sections": true,
   "sideBar": true,
   "skip_h1_title": true,
   "title_cell": "Table of Contents",
   "title_sidebar": "Contents",
   "toc_cell": true,
   "toc_position": {
    "height": "calc(100% - 180px)",
    "left": "10px",
    "top": "150px",
    "width": "435.375px"
   },
   "toc_section_display": true,
   "toc_window_display": true
  }
 },
 "nbformat": 4,
 "nbformat_minor": 2
}
